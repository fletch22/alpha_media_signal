{
 "cells": [
  {
   "cell_type": "code",
   "execution_count": 1,
   "metadata": {},
   "outputs": [],
   "source": [
    "import initialize_notebook\n",
    "import pandas as pd\n",
    "from ams.DateRange import DateRange\n",
    "%matplotlib inline\n",
    "from pathlib import Path\n",
    "\n",
    "from pyspark.sql import functions as F\n",
    "\n",
    "from ams.config import constants\n",
    "from ams.services import spark_service\n",
    "pd.set_option(\"display.max_rows\", 101)"
   ]
  },
  {
   "cell_type": "code",
   "execution_count": 2,
   "metadata": {
    "pycharm": {
     "name": "#%%\n"
    }
   },
   "outputs": [],
   "source": [
    "spark = spark_service.get_or_create('assign_sentiment_and_stock')"
   ]
  },
  {
   "cell_type": "code",
   "execution_count": 3,
   "metadata": {
    "pycharm": {
     "name": "#%%\n"
    }
   },
   "outputs": [],
   "source": [
    "twitter_folder = 'twitter'\n",
    "\n",
    "learning_prep_path = Path(constants.DATA_PATH, twitter_folder, \"learning_prep_drop\", \"learning_prep_drop_2020-08-31_03-22-33-670.81\", \"part-00000-d3be8a07-df94-4097-a5d1-cb2d7836f130-c000.csv\")"
   ]
  },
  {
   "cell_type": "code",
   "execution_count": 4,
   "metadata": {},
   "outputs": [
    {
     "name": "stderr",
     "output_type": "stream",
     "text": [
      "/opt/conda/lib/python3.7/site-packages/IPython/core/interactiveshell.py:2718: DtypeWarning: Columns (9,16,23,26,32) have mixed types.Specify dtype option on import or set low_memory=False.\n",
      "  interactivity=interactivity, compiler=compiler, result=result)\n"
     ]
    }
   ],
   "source": [
    "df_twitter = pd.read_csv(str(learning_prep_path))\n",
    "# df_red = df.limit(10000)\n",
    "# df_red = df_pd.drop(*['created_at', 'created_at_timestamp'])\n",
    "# df_red = df.sample(fraction=.01)"
   ]
  },
  {
   "cell_type": "code",
   "execution_count": 5,
   "metadata": {},
   "outputs": [
    {
     "name": "stdout",
     "output_type": "stream",
     "text": [
      "Setting up logging...\n",
      "Will use logging path: /home/jovyan/work/data/logs/alpha_media_signal\n"
     ]
    }
   ],
   "source": [
    "from ams.services import ticker_service\n",
    "\n",
    "tickers = df_twitter['f22_ticker'].unique().tolist()\n",
    "# tickers = [single_ticker]"
   ]
  },
  {
   "cell_type": "code",
   "execution_count": 6,
   "metadata": {},
   "outputs": [
    {
     "name": "stdout",
     "output_type": "stream",
     "text": [
      "41173\n"
     ]
    }
   ],
   "source": [
    "from pyspark.sql import functions as F\n",
    "\n",
    "date_range = DateRange.from_date_strings(from_date_str=\"2020-08-01\", to_date_str=\"2020-08-27\")\n",
    "df_stock_data = ticker_service.get_tickers_in_range(tickers=tickers, date_range=date_range)\n",
    "print(f'{df_stock_data.shape[0]}')"
   ]
  },
  {
   "cell_type": "code",
   "execution_count": 8,
   "metadata": {},
   "outputs": [
    {
     "name": "stdout",
     "output_type": "stream",
     "text": [
      "Twitter: 907029\n",
      "Quandl: 41173\n",
      "Index(['created_at', 'created_at_timestamp', 'user_screen_name',\n",
      "       'favorite_count', 'in_reply_to_screen_name', 'user_verified',\n",
      "       'metadata_result_type', 'user_listed_count', 'user_time_zone',\n",
      "       'user_has_extended_profile', 'in_reply_to_status_id',\n",
      "       'user_statuses_count', 'user_protected', 'user_is_translation_enabled',\n",
      "       'user_location', 'lang', 'user_geo_enabled', 'place_country',\n",
      "       'place_name', 'possibly_sensitive', 'user_friends_count',\n",
      "       'retweet_count', 'user_follow_request_sent', 'user_followers_count',\n",
      "       'f22_ticker', 'f22_has_cashtag', 'f22_ticker_in_text',\n",
      "       'f22_num_other_tickers_in_tweet', 'f22_sentiment_pos',\n",
      "       'f22_sentiment_neu', 'f22_sentiment_neg', 'f22_sentiment_compound',\n",
      "       'f22_compound_score', 'date'],\n",
      "      dtype='object')\n",
      "Index(['f22_ticker', 'date', 'open', 'high', 'low', 'close', 'volume',\n",
      "       'dividends', 'closeunadj', 'lastupdated', 'None'],\n",
      "      dtype='object')\n",
      "Num merged: 305812\n"
     ]
    }
   ],
   "source": [
    "df_stock_renamed = df_stock_data.rename(columns={\"ticker\": \"f22_ticker\"})\n",
    "\n",
    "df_stock_clean = df_stock_renamed.drop(columns=['None', 'lastupdated'])\n",
    "print(f'Twitter: {df_twitter.shape[0]}')\n",
    "print(f'Quandl: {df_stock_renamed.shape[0]}')\n",
    "\n",
    "print(f'{df_twitter.columns}')\n",
    "print(f'{df_stock_renamed.columns}')\n",
    "\n",
    "df_merged = pd.merge(df_twitter, df_stock_renamed, how='inner', left_on=[\"f22_ticker\",\"date\"], right_on=[\"f22_ticker\",\"date\"])\n",
    "print(f'Num merged: {df_merged.shape[0]}')"
   ]
  },
  {
   "cell_type": "code",
   "execution_count": null,
   "metadata": {},
   "outputs": [],
   "source": [
    "# Necessary for K-means to for first preds.\n",
    "df_merged_mean = (df_merged[(df_merged[\"f22_ticker\"].isin(tickers))].groupby(by=[df_merged[\"date\"], df_merged[\"f22_ticker\"]]).mean())\n",
    "# print(df_twitter_mean.columns)\n",
    "print(df_merged_mean.shape[0])\n",
    "\n",
    "df_blue_rabbit = df_merged_mean"
   ]
  },
  {
   "cell_type": "code",
   "execution_count": null,
   "metadata": {
    "pycharm": {
     "name": "#%%\n"
    }
   },
   "outputs": [],
   "source": [
    "from sklearn.preprocessing import StandardScaler\n",
    "\n",
    "df_blue_rabbit['stock_val_change'] = (df_blue_rabbit['close'] - df_blue_rabbit['open']) / df_blue_rabbit['open'] * 100.0\n",
    "\n",
    "scaler = StandardScaler()\n",
    "df_blue_rabbit['stock_val_change_scaled'] = scaler.fit_transform(df_blue_rabbit[['stock_val_change']])\n",
    "print(df_blue_rabbit.columns)\n",
    "\n",
    "\n",
    "df_blue_rabbit.head(1000)\n",
    "\n",
    "# forecast_out = int(math.ceil(0.013 * df_blue_rabbit.shape[0]))\n",
    "\n",
    "tick_tups = df_blue_rabbit.reset_index(['f22_ticker', 'date'])[['f22_ticker', 'date']].values.tolist()\n",
    "\n",
    "print(tick_tup[:3])\n",
    "for tt in tick_tups:\n",
    "    # Look up high price in forecast_out days.\n",
    "    pass"
   ]
  },
  {
   "cell_type": "code",
   "execution_count": null,
   "metadata": {},
   "outputs": [],
   "source": [
    "import math\n",
    "\n",
    "forecast_col = 'stock_val_change'\n",
    "forecast_out = 3\n",
    "print(f'Forecast out: {forecast_out}')\n",
    "df_blue_rabbit['stock_val_change_pred'] = df_blue_rabbit[forecast_col].shift(-forecast_out)\n",
    "df_blue_rabbit.head(2)"
   ]
  },
  {
   "cell_type": "code",
   "execution_count": null,
   "metadata": {},
   "outputs": [],
   "source": [
    "df_blue_rabbit['buy_sell'] = df_blue_rabbit['stock_val_change_pred'].apply(lambda x: 1 if x >=0 else -1)\n",
    "\n",
    "for c in df_blue_rabbit.columns:\n",
    "    df_blue_rabbit[c] = df_blue_rabbit[c].fillna(0)\n",
    "\n",
    "df_blue_rabbit.head(2)\n",
    "\n"
   ]
  },
  {
   "cell_type": "code",
   "execution_count": null,
   "metadata": {},
   "outputs": [],
   "source": [
    "from sklearn.model_selection import train_test_split\n",
    "import numpy as np\n",
    "\n",
    "train_set, test_set = train_test_split(df_blue_rabbit, test_size=0.2, random_state=42, shuffle=True)\n",
    "\n",
    "train_cols = ['created_at_timestamp', 'favorite_count', 'user_verified',\n",
    "       'user_listed_count', 'user_time_zone', 'in_reply_to_status_id',\n",
    "       'user_statuses_count', 'user_protected', 'user_is_translation_enabled',\n",
    "       'user_friends_count', 'retweet_count', 'user_follow_request_sent',\n",
    "       'f22_has_cashtag', 'f22_num_other_tickers_in_tweet',\n",
    "       'f22_sentiment_pos', 'f22_sentiment_neu', 'f22_sentiment_neg',\n",
    "       'f22_sentiment_compound']\n",
    "\n",
    "X_train = np.array(train_set[train_cols])\n",
    "X_test = np.array(test_set[train_cols])\n",
    "\n",
    "y_train = np.array(train_set['buy_sell'])\n",
    "y_test = np.array(test_set['buy_sell'])"
   ]
  },
  {
   "cell_type": "code",
   "execution_count": null,
   "metadata": {},
   "outputs": [],
   "source": [
    "scaler = StandardScaler()\n",
    "X_train_std= scaler.fit_transform(X_train)"
   ]
  },
  {
   "cell_type": "code",
   "execution_count": null,
   "metadata": {},
   "outputs": [],
   "source": [
    "from sklearn.neighbors import KNeighborsClassifier\n",
    "from sklearn.metrics import accuracy_score\n",
    "\n",
    "for i in range(1,1500):\n",
    "    knn = KNeighborsClassifier(n_neighbors=i).fit(X_train_std, y_train)\n",
    "    y_test_pred = knn.predict(X_test)\n",
    "    if i % 20 == 0:\n",
    "        print(accuracy_score(y_test, y_test_pred))"
   ]
  },
  {
   "cell_type": "code",
   "execution_count": null,
   "metadata": {},
   "outputs": [],
   "source": [
    "from sklearn.svm import SVC\n",
    "from sklearn.model_selection import cross_val_score\n",
    "\n",
    "for i in range(1,5):\n",
    "    svc= SVC(kernel=\"linear\", random_state=0, gamma=i)\n",
    "    model= svc.fit(X_train_std, y_train)\n",
    "    scores = cross_val_score(estimator=model, X=X_train_std, y=y_train, cv=5)\n",
    "    print(i, ':', np.average(scores))"
   ]
  },
  {
   "cell_type": "code",
   "execution_count": null,
   "metadata": {},
   "outputs": [],
   "source": [
    "def train_svc(kernel_name: str):\n",
    "    for i in range(1,5):\n",
    "        svc= SVC(kernel=kernel_name, random_state=0, gamma=i)\n",
    "        model= svc.fit(X_train_std, y_train)\n",
    "        scores = cross_val_score(estimator=model, X=X_train, y=y_train, cv=5)\n",
    "        print(i, ':', np.average(scores))"
   ]
  },
  {
   "cell_type": "code",
   "execution_count": null,
   "metadata": {},
   "outputs": [],
   "source": [
    "train_svc(kernel_name='rbf')\n",
    "train_svc(kernel_name='sigmoid')"
   ]
  },
  {
   "cell_type": "code",
   "execution_count": null,
   "metadata": {},
   "outputs": [],
   "source": []
  },
  {
   "cell_type": "code",
   "execution_count": null,
   "metadata": {},
   "outputs": [],
   "source": [
    "# Cross-validation\n",
    "from sklearn.tree import DecisionTreeClassifier\n",
    "\n",
    "decisiontree= DecisionTreeClassifier(max_depth=4)\n",
    "model = decisiontree.fit(X_train_std, y_train)\n",
    "y_test_pred = model.predict(X_test)\n",
    "\n",
    "from sklearn.metrics import accuracy_score\n",
    "\n",
    "accuracy_score(y_test, y_test_pred)\n",
    "\n",
    "#Add to the list\n",
    "dtlist =[]\n",
    "dtlist.append(y_test_pred)"
   ]
  }
 ],
 "metadata": {
  "kernelspec": {
   "display_name": "Python 3",
   "language": "python",
   "name": "python3"
  },
  "language_info": {
   "codemirror_mode": {
    "name": "ipython",
    "version": 3
   },
   "file_extension": ".py",
   "mimetype": "text/x-python",
   "name": "python",
   "nbconvert_exporter": "python",
   "pygments_lexer": "ipython3",
   "version": "3.7.6"
  },
  "pycharm": {
   "stem_cell": {
    "cell_type": "raw",
    "source": [],
    "metadata": {
     "collapsed": false
    }
   }
  }
 },
 "nbformat": 4,
 "nbformat_minor": 1
}