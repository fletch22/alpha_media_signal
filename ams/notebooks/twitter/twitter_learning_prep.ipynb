{
 "cells": [
  {
   "cell_type": "code",
   "execution_count": 1,
   "metadata": {},
   "outputs": [
    {
     "ename": "ModuleNotFoundError",
     "evalue": "No module named 'termios'",
     "output_type": "error",
     "traceback": [
      "\u001b[1;31m---------------------------------------------------------------------------\u001b[0m",
      "\u001b[1;31mModuleNotFoundError\u001b[0m                       Traceback (most recent call last)",
      "\u001b[1;32m<ipython-input-1-b3550a75636e>\u001b[0m in \u001b[0;36m<module>\u001b[1;34m\u001b[0m\n\u001b[0;32m     12\u001b[0m \u001b[1;33m\u001b[0m\u001b[0m\n\u001b[0;32m     13\u001b[0m \u001b[1;32mimport\u001b[0m \u001b[0mio\u001b[0m\u001b[1;33m\u001b[0m\u001b[1;33m\u001b[0m\u001b[0m\n\u001b[1;32m---> 14\u001b[1;33m \u001b[1;32mfrom\u001b[0m \u001b[0mgoogle\u001b[0m\u001b[1;33m.\u001b[0m\u001b[0mcolab\u001b[0m \u001b[1;32mimport\u001b[0m \u001b[0mfiles\u001b[0m\u001b[1;33m\u001b[0m\u001b[1;33m\u001b[0m\u001b[0m\n\u001b[0m\u001b[0;32m     15\u001b[0m \u001b[1;33m\u001b[0m\u001b[0m\n\u001b[0;32m     16\u001b[0m \u001b[1;32mfrom\u001b[0m \u001b[0mams\u001b[0m \u001b[1;32mimport\u001b[0m \u001b[0mconfig\u001b[0m\u001b[1;33m\u001b[0m\u001b[1;33m\u001b[0m\u001b[0m\n",
      "\u001b[1;32mC:\\ProgramData\\Miniconda3\\envs\\alpha_media_signal\\lib\\site-packages\\google\\colab\\__init__.py\u001b[0m in \u001b[0;36m<module>\u001b[1;34m\u001b[0m\n\u001b[0;32m     21\u001b[0m \u001b[1;32mfrom\u001b[0m \u001b[0mgoogle\u001b[0m\u001b[1;33m.\u001b[0m\u001b[0mcolab\u001b[0m \u001b[1;32mimport\u001b[0m \u001b[0m_installation_commands\u001b[0m\u001b[1;33m\u001b[0m\u001b[1;33m\u001b[0m\u001b[0m\n\u001b[0;32m     22\u001b[0m \u001b[1;32mfrom\u001b[0m \u001b[0mgoogle\u001b[0m\u001b[1;33m.\u001b[0m\u001b[0mcolab\u001b[0m \u001b[1;32mimport\u001b[0m \u001b[0m_shell_customizations\u001b[0m\u001b[1;33m\u001b[0m\u001b[1;33m\u001b[0m\u001b[0m\n\u001b[1;32m---> 23\u001b[1;33m \u001b[1;32mfrom\u001b[0m \u001b[0mgoogle\u001b[0m\u001b[1;33m.\u001b[0m\u001b[0mcolab\u001b[0m \u001b[1;32mimport\u001b[0m \u001b[0m_system_commands\u001b[0m\u001b[1;33m\u001b[0m\u001b[1;33m\u001b[0m\u001b[0m\n\u001b[0m\u001b[0;32m     24\u001b[0m \u001b[1;32mfrom\u001b[0m \u001b[0mgoogle\u001b[0m\u001b[1;33m.\u001b[0m\u001b[0mcolab\u001b[0m \u001b[1;32mimport\u001b[0m \u001b[0m_tensorflow_magics\u001b[0m\u001b[1;33m\u001b[0m\u001b[1;33m\u001b[0m\u001b[0m\n\u001b[0;32m     25\u001b[0m \u001b[1;32mfrom\u001b[0m \u001b[0mgoogle\u001b[0m\u001b[1;33m.\u001b[0m\u001b[0mcolab\u001b[0m \u001b[1;32mimport\u001b[0m \u001b[0mauth\u001b[0m\u001b[1;33m\u001b[0m\u001b[1;33m\u001b[0m\u001b[0m\n",
      "\u001b[1;32mC:\\ProgramData\\Miniconda3\\envs\\alpha_media_signal\\lib\\site-packages\\google\\colab\\_system_commands.py\u001b[0m in \u001b[0;36m<module>\u001b[1;34m\u001b[0m\n\u001b[0;32m     22\u001b[0m \u001b[1;32mimport\u001b[0m \u001b[0mlocale\u001b[0m\u001b[1;33m\u001b[0m\u001b[1;33m\u001b[0m\u001b[0m\n\u001b[0;32m     23\u001b[0m \u001b[1;32mimport\u001b[0m \u001b[0mos\u001b[0m\u001b[1;33m\u001b[0m\u001b[1;33m\u001b[0m\u001b[0m\n\u001b[1;32m---> 24\u001b[1;33m \u001b[1;32mimport\u001b[0m \u001b[0mpty\u001b[0m\u001b[1;33m\u001b[0m\u001b[1;33m\u001b[0m\u001b[0m\n\u001b[0m\u001b[0;32m     25\u001b[0m \u001b[1;32mimport\u001b[0m \u001b[0mselect\u001b[0m\u001b[1;33m\u001b[0m\u001b[1;33m\u001b[0m\u001b[0m\n\u001b[0;32m     26\u001b[0m \u001b[1;32mimport\u001b[0m \u001b[0msignal\u001b[0m\u001b[1;33m\u001b[0m\u001b[1;33m\u001b[0m\u001b[0m\n",
      "\u001b[1;32mC:\\ProgramData\\Miniconda3\\envs\\alpha_media_signal\\lib\\pty.py\u001b[0m in \u001b[0;36m<module>\u001b[1;34m\u001b[0m\n\u001b[0;32m      9\u001b[0m \u001b[1;32mfrom\u001b[0m \u001b[0mselect\u001b[0m \u001b[1;32mimport\u001b[0m \u001b[0mselect\u001b[0m\u001b[1;33m\u001b[0m\u001b[1;33m\u001b[0m\u001b[0m\n\u001b[0;32m     10\u001b[0m \u001b[1;32mimport\u001b[0m \u001b[0mos\u001b[0m\u001b[1;33m\u001b[0m\u001b[1;33m\u001b[0m\u001b[0m\n\u001b[1;32m---> 11\u001b[1;33m \u001b[1;32mimport\u001b[0m \u001b[0mtty\u001b[0m\u001b[1;33m\u001b[0m\u001b[1;33m\u001b[0m\u001b[0m\n\u001b[0m\u001b[0;32m     12\u001b[0m \u001b[1;33m\u001b[0m\u001b[0m\n\u001b[0;32m     13\u001b[0m \u001b[0m__all__\u001b[0m \u001b[1;33m=\u001b[0m \u001b[1;33m[\u001b[0m\u001b[1;34m\"openpty\"\u001b[0m\u001b[1;33m,\u001b[0m\u001b[1;34m\"fork\"\u001b[0m\u001b[1;33m,\u001b[0m\u001b[1;34m\"spawn\"\u001b[0m\u001b[1;33m]\u001b[0m\u001b[1;33m\u001b[0m\u001b[1;33m\u001b[0m\u001b[0m\n",
      "\u001b[1;32mC:\\ProgramData\\Miniconda3\\envs\\alpha_media_signal\\lib\\tty.py\u001b[0m in \u001b[0;36m<module>\u001b[1;34m\u001b[0m\n\u001b[0;32m      3\u001b[0m \u001b[1;31m# Author: Steen Lumholt.\u001b[0m\u001b[1;33m\u001b[0m\u001b[1;33m\u001b[0m\u001b[1;33m\u001b[0m\u001b[0m\n\u001b[0;32m      4\u001b[0m \u001b[1;33m\u001b[0m\u001b[0m\n\u001b[1;32m----> 5\u001b[1;33m \u001b[1;32mfrom\u001b[0m \u001b[0mtermios\u001b[0m \u001b[1;32mimport\u001b[0m \u001b[1;33m*\u001b[0m\u001b[1;33m\u001b[0m\u001b[1;33m\u001b[0m\u001b[0m\n\u001b[0m\u001b[0;32m      6\u001b[0m \u001b[1;33m\u001b[0m\u001b[0m\n\u001b[0;32m      7\u001b[0m \u001b[0m__all__\u001b[0m \u001b[1;33m=\u001b[0m \u001b[1;33m[\u001b[0m\u001b[1;34m\"setraw\"\u001b[0m\u001b[1;33m,\u001b[0m \u001b[1;34m\"setcbreak\"\u001b[0m\u001b[1;33m]\u001b[0m\u001b[1;33m\u001b[0m\u001b[1;33m\u001b[0m\u001b[0m\n",
      "\u001b[1;31mModuleNotFoundError\u001b[0m: No module named 'termios'"
     ]
    }
   ],
   "source": [
    "import initialize_notebook\n",
    "\n",
    "import numpy as np\n",
    "import pandas as pd\n",
    "\n",
    "import seaborn as sns\n",
    "\n",
    "import matplotlib as mpl\n",
    "import matplotlib.pyplot as plt\n",
    "from pyspark.sql import SparkSession\n",
    "%matplotlib inline\n",
    "\n",
    "import io\n",
    "from google.colab import files\n",
    "\n",
    "from ams import config\n",
    "from sklearn.preprocessing import StandardScaler\n",
    "import pandas_datareader.data as web\n",
    "import math\n",
    "#import xlsxwriter\n",
    "import os\n",
    "from vaderSentiment.vaderSentiment import SentimentIntensityAnalyzer\n",
    "import datetime as dt\n"
   ]
  },
  {
   "cell_type": "code",
   "execution_count": 2,
   "metadata": {
    "pycharm": {
     "name": "#%%\n"
    }
   },
   "outputs": [
    {
     "name": "stdout",
     "output_type": "stream",
     "text": [
      "Setting up logging...\n",
      "Will use logging path: /home/jovyan/work/data/logs/alpha_media_signal\n"
     ]
    }
   ],
   "source": [
    "import sys\n",
    "from pathlib import Path\n",
    "from typing import Dict\n",
    "\n",
    "from pyspark.sql import functions as F\n",
    "from pyspark.sql.functions import udf\n",
    "from pyspark.sql.types import StructType, Row, StructField, DoubleType, ArrayType, StringType\n",
    "from vaderSentiment.vaderSentiment import SentimentIntensityAnalyzer\n",
    "\n",
    "from ams.config import constants\n",
    "from ams.services import file_services\n",
    "from ams.services import spark_service\n",
    "from ams.utils import sentiment\n",
    "\n",
    "spark = spark_service.get_or_create('learning_prep')"
   ]
  },
  {
   "cell_type": "code",
   "execution_count": 3,
   "metadata": {
    "pycharm": {
     "name": "#%%\n"
    }
   },
   "outputs": [],
   "source": [
    "twitter_folder = 'twitter'\n",
    "\n",
    "flat_tweet_path_1 = Path(constants.DATA_PATH, twitter_folder, \"sent_drop\", \"tweet_sent_2020-09-14_01-54-46-424.27\")\n",
    "flat_tweet_path_2 = Path(constants.DATA_PATH, twitter_folder, \"sent_drop\", \"tweet_sent_2020-09-16_04-20-22-347.55\")\n",
    "flat_tweet_path_3 = Path(constants.DATA_PATH, twitter_folder, \"sent_drop\", \"tweet_sent_2020-09-18_13-56-57-859.2\")\n",
    "flat_tweet_path_4 = Path(constants.DATA_PATH, twitter_folder, \"sent_drop\", \"tweet_sent_2020-09-18_22-23-53-311.06\")\n",
    "flat_tweet_path_5 = Path(constants.DATA_PATH, twitter_folder, \"sent_drop\", \"tweet_sent_2020-09-20_12-55-15-934.3\")"
   ]
  },
  {
   "cell_type": "code",
   "execution_count": 4,
   "metadata": {},
   "outputs": [
    {
     "name": "stdout",
     "output_type": "stream",
     "text": [
      "df_1: 2606202\n",
      "df_2: 312411\n",
      "df_3: 1376331\n",
      "df_4: 690703\n",
      "df_5: 909703\n"
     ]
    }
   ],
   "source": [
    "df_1 = spark.read.csv(str(flat_tweet_path_1), header=True)\n",
    "df_2 = spark.read.csv(str(flat_tweet_path_2), header=True)\n",
    "df_3 = spark.read.csv(str(flat_tweet_path_3), header=True)\n",
    "df_4 = spark.read.csv(str(flat_tweet_path_4), header=True)\n",
    "df_5 = spark.read.csv(str(flat_tweet_path_5), header=True)\n",
    "\n",
    "print(f'df_1: {df_1.count()}')\n",
    "print(f'df_2: {df_2.count()}')\n",
    "print(f'df_3: {df_3.count()}')\n",
    "print(f'df_4: {df_4.count()}')\n",
    "print(f'df_5: {df_5.count()}')"
   ]
  },
  {
   "cell_type": "code",
   "execution_count": 5,
   "metadata": {},
   "outputs": [],
   "source": [
    "from functools import reduce\n",
    "from pyspark.sql import DataFrame\n",
    "\n",
    "df = reduce(DataFrame.unionByName, [df_1, df_2, df_3, df_4, df_5])\n",
    "\n",
    "df_red = df"
   ]
  },
  {
   "cell_type": "code",
   "execution_count": 6,
   "metadata": {},
   "outputs": [
    {
     "name": "stdout",
     "output_type": "stream",
     "text": [
      "['entities_urls_1', 'text', 'entities_user_mentions_2', 'entities_urls_2', 'user_profile_background_tile', 'entities_urls_3', 'user_screen_name', 'favorite_count', 'in_reply_to_screen_name', 'user_verified', 'metadata_result_type', 'user_listed_count', 'user_time_zone', 'user_profile_banner_url', 'entities_urls_0', 'user_has_extended_profile', 'in_reply_to_status_id', 'user_profile_background_color', 'in_reply_to_user_id', 'user_statuses_count', 'user_url', 'user_protected', 'user_profile_background_image_url', 'user_is_translation_enabled', 'user_utc_offset', 'contributors', 'user_location', 'user_profile_text_color', 'source', 'lang', 'metadata_iso_language_code', 'entities_user_mentions_0', 'user_profile_link_color', 'user_geo_enabled', 'user_profile_image_url_https', 'user_favourites_count', 'place_country', 'place_name', 'possibly_sensitive', 'user_description', 'user_profile_sidebar_fill_color', 'user_friends_count', 'id', 'user_notifications', 'user_default_profile', 'retweeted', 'user_profile_background_image_url_https', 'user_created_at', 'user_followers_count', 'retweet_count', 'user_id', 'entities_user_mentions_3', 'user_lang', 'user_profile_use_background_image', 'user_follow_request_sent', 'user_profile_sidebar_border_color', 'user_default_profile_image', 'user_contributors_enabled', 'user_is_translator', 'user_following', 'user_name', 'is_quote_status', 'user_translator_type', 'user_profile_image_url', 'truncated', 'entities_user_mentions_1', 'created_at', 'f22_ticker', 'f22_has_cashtag', 'f22_ticker_in_text', 'f22_num_other_tickers_in_tweet', 'f22_sentiment_pos', 'f22_sentiment_neu', 'f22_sentiment_neg', 'f22_sentiment_compound']\n"
     ]
    }
   ],
   "source": [
    "print(df_red.columns)"
   ]
  },
  {
   "cell_type": "code",
   "execution_count": 7,
   "metadata": {},
   "outputs": [
    {
     "name": "stdout",
     "output_type": "stream",
     "text": [
      "Count: 5895350\n"
     ]
    }
   ],
   "source": [
    "from ams.utils import date_utils\n",
    "from pyspark.sql import types as T\n",
    "from datetime import datetime\n",
    "\n",
    "twitter_format = date_utils.TWITTER_LONG_FORMAT \n",
    "def udf_wrapper(date_string: str):\n",
    "    return int(datetime.strptime(date_string, twitter_format).timestamp())\n",
    "        \n",
    "parse_udf = F.udf(udf_wrapper, T.IntegerType())\n",
    "\n",
    "print(f'Count: {df_red.count()}')\n",
    "\n",
    "df_dated = df_red.withColumn('created_at_timestamp', parse_udf(F.col('created_at')))"
   ]
  },
  {
   "cell_type": "code",
   "execution_count": 8,
   "metadata": {},
   "outputs": [],
   "source": [
    "from pyspark.sql import functions as F\n",
    "from pyspark.sql import types as T\n",
    "from ams.utils import date_utils\n",
    "\n",
    "df_winn = df_dated.select(*[\"created_at\",\n",
    "                 \"created_at_timestamp\",\n",
    "                 \"user_screen_name\",\n",
    "                 \"favorite_count\",\n",
    "                 \"in_reply_to_screen_name\",\n",
    "                 \"user_verified\",\n",
    "                 \"metadata_result_type\",\n",
    "                 \"user_listed_count\",\n",
    "                 \"user_time_zone\",\n",
    "                 \"user_has_extended_profile\",\n",
    "                 \"in_reply_to_status_id\",\n",
    "                 \"user_statuses_count\",\n",
    "                 \"user_protected\",\n",
    "                 \"user_is_translation_enabled\",\n",
    "                 \"user_location\",\n",
    "                 \"lang\",\n",
    "                 \"user_geo_enabled\",\n",
    "                 \"place_country\",\n",
    "                 \"place_name\",\n",
    "                 \"possibly_sensitive\",\n",
    "                 \"user_friends_count\",\n",
    "                 \"retweet_count\",\n",
    "                 \"user_follow_request_sent\",\n",
    "                 \"user_followers_count\",\n",
    "                 \"f22_ticker\",\n",
    "                 \"f22_has_cashtag\",\n",
    "                 \"f22_ticker_in_text\",\n",
    "                 \"f22_num_other_tickers_in_tweet\",\n",
    "                 \"f22_sentiment_pos\",\n",
    "                 \"f22_sentiment_neu\",\n",
    "                 \"f22_sentiment_neg\",\n",
    "                 \"f22_sentiment_compound\"])"
   ]
  },
  {
   "cell_type": "code",
   "execution_count": 9,
   "metadata": {
    "pycharm": {
     "name": "#%%\n"
    }
   },
   "outputs": [
    {
     "data": {
      "text/html": [
       "<div>\n",
       "<style scoped>\n",
       "    .dataframe tbody tr th:only-of-type {\n",
       "        vertical-align: middle;\n",
       "    }\n",
       "\n",
       "    .dataframe tbody tr th {\n",
       "        vertical-align: top;\n",
       "    }\n",
       "\n",
       "    .dataframe thead th {\n",
       "        text-align: right;\n",
       "    }\n",
       "</style>\n",
       "<table border=\"1\" class=\"dataframe\">\n",
       "  <thead>\n",
       "    <tr style=\"text-align: right;\">\n",
       "      <th></th>\n",
       "      <th>created_at_timestamp</th>\n",
       "      <th>created_at</th>\n",
       "    </tr>\n",
       "  </thead>\n",
       "  <tbody>\n",
       "    <tr>\n",
       "      <th>0</th>\n",
       "      <td>1598462722</td>\n",
       "      <td>Wed Aug 26 17:25:22 +0000 2020</td>\n",
       "    </tr>\n",
       "    <tr>\n",
       "      <th>1</th>\n",
       "      <td>1598453087</td>\n",
       "      <td>Wed Aug 26 14:44:47 +0000 2020</td>\n",
       "    </tr>\n",
       "    <tr>\n",
       "      <th>2</th>\n",
       "      <td>1598481623</td>\n",
       "      <td>Wed Aug 26 22:40:23 +0000 2020</td>\n",
       "    </tr>\n",
       "    <tr>\n",
       "      <th>3</th>\n",
       "      <td>1598485198</td>\n",
       "      <td>Wed Aug 26 23:39:58 +0000 2020</td>\n",
       "    </tr>\n",
       "    <tr>\n",
       "      <th>4</th>\n",
       "      <td>1598478367</td>\n",
       "      <td>Wed Aug 26 21:46:07 +0000 2020</td>\n",
       "    </tr>\n",
       "  </tbody>\n",
       "</table>\n",
       "</div>"
      ],
      "text/plain": [
       "   created_at_timestamp                      created_at\n",
       "0            1598462722  Wed Aug 26 17:25:22 +0000 2020\n",
       "1            1598453087  Wed Aug 26 14:44:47 +0000 2020\n",
       "2            1598481623  Wed Aug 26 22:40:23 +0000 2020\n",
       "3            1598485198  Wed Aug 26 23:39:58 +0000 2020\n",
       "4            1598478367  Wed Aug 26 21:46:07 +0000 2020"
      ]
     },
     "execution_count": 9,
     "metadata": {},
     "output_type": "execute_result"
    }
   ],
   "source": [
    "df_has_time = df_winn.where(F.col('created_at_timestamp').isNotNull())\n",
    "\n",
    "df_sample = df_has_time.sample(fraction=.001)\n",
    "df_sample.select(*['created_at_timestamp', 'created_at']).toPandas().head()"
   ]
  },
  {
   "cell_type": "code",
   "execution_count": 18,
   "metadata": {
    "pycharm": {
     "name": "#%%\n"
    }
   },
   "outputs": [
    {
     "ename": "NameError",
     "evalue": "name 'df_test' is not defined",
     "output_type": "error",
     "traceback": [
      "\u001b[0;31m---------------------------------------------------------------------------\u001b[0m",
      "\u001b[0;31mNameError\u001b[0m                                 Traceback (most recent call last)",
      "\u001b[0;32m<ipython-input-18-56207f5215f6>\u001b[0m in \u001b[0;36m<module>\u001b[0;34m()\u001b[0m\n\u001b[1;32m     14\u001b[0m \u001b[0;31m# df_chart.plot(kind='bar',figsize=(10,5),legend=None)\u001b[0m\u001b[0;34m\u001b[0m\u001b[0;34m\u001b[0m\u001b[0;34m\u001b[0m\u001b[0m\n\u001b[1;32m     15\u001b[0m \u001b[0;34m\u001b[0m\u001b[0m\n\u001b[0;32m---> 16\u001b[0;31m \u001b[0mday_groups\u001b[0m \u001b[0;34m=\u001b[0m \u001b[0mdf_pd\u001b[0m\u001b[0;34m.\u001b[0m\u001b[0mgroupby\u001b[0m\u001b[0;34m(\u001b[0m\u001b[0mdf_test\u001b[0m\u001b[0;34m[\u001b[0m\u001b[0;34m'date'\u001b[0m\u001b[0;34m]\u001b[0m\u001b[0;34m)\u001b[0m\u001b[0;34m[\u001b[0m\u001b[0;34m'date'\u001b[0m\u001b[0;34m]\u001b[0m\u001b[0;34m.\u001b[0m\u001b[0mcount\u001b[0m\u001b[0;34m(\u001b[0m\u001b[0;34m)\u001b[0m\u001b[0;34m\u001b[0m\u001b[0;34m\u001b[0m\u001b[0m\n\u001b[0m\u001b[1;32m     17\u001b[0m \u001b[0;34m\u001b[0m\u001b[0m\n\u001b[1;32m     18\u001b[0m \u001b[0;31m# ['value'].count()\u001b[0m\u001b[0;34m\u001b[0m\u001b[0;34m\u001b[0m\u001b[0;34m\u001b[0m\u001b[0m\n",
      "\u001b[0;31mNameError\u001b[0m: name 'df_test' is not defined"
     ]
    }
   ],
   "source": [
    "df_pd = df_sample.toPandas().sort_values('created_at_timestamp', inplace=False)\n",
    "\n",
    "# result = pd.cut(df_pd[\"created_at_timestamp\"].values, 20, labels=range(1,21))\n",
    "# df_pd['bin'] = result.codes\n",
    "\n",
    "# df_grouped = df_pd.groupby(['bin']).agg(['count'])\n",
    "\n",
    "# df_grouped.columns = ['_'.join(str(i) for i in col) for col in df_grouped.columns]\n",
    "\n",
    "# df_chart = df_grouped.reset_index('bin')[[\"bin\", \"created_at_timestamp_count\"]]\n",
    "\n",
    "# df_chart.head()\n",
    "\n",
    "# df_chart.plot(kind='bar',figsize=(10,5),legend=None)\n",
    "\n",
    "day_groups = df_pd.groupby(df_test['date'])['date'].count()\n",
    "\n",
    "# ['value'].count()\n",
    "day_groups.plot(kind='bar',figsize=(10,5),legend=None)\n",
    "\n",
    "# day_groups.head()"
   ]
  },
  {
   "cell_type": "code",
   "execution_count": 11,
   "metadata": {
    "pycharm": {
     "name": "#%%\n"
    }
   },
   "outputs": [
    {
     "data": {
      "text/plain": [
       "['created_at',\n",
       " 'created_at_timestamp',\n",
       " 'user_screen_name',\n",
       " 'favorite_count',\n",
       " 'in_reply_to_screen_name',\n",
       " 'user_verified',\n",
       " 'metadata_result_type',\n",
       " 'user_listed_count',\n",
       " 'user_time_zone',\n",
       " 'user_has_extended_profile',\n",
       " 'in_reply_to_status_id',\n",
       " 'user_statuses_count',\n",
       " 'user_protected',\n",
       " 'user_is_translation_enabled',\n",
       " 'user_location',\n",
       " 'lang',\n",
       " 'user_geo_enabled',\n",
       " 'place_country',\n",
       " 'place_name',\n",
       " 'possibly_sensitive',\n",
       " 'user_friends_count',\n",
       " 'retweet_count',\n",
       " 'user_follow_request_sent',\n",
       " 'user_followers_count',\n",
       " 'f22_ticker',\n",
       " 'f22_has_cashtag',\n",
       " 'f22_ticker_in_text',\n",
       " 'f22_num_other_tickers_in_tweet',\n",
       " 'f22_sentiment_pos',\n",
       " 'f22_sentiment_neu',\n",
       " 'f22_sentiment_neg',\n",
       " 'f22_sentiment_compound']"
      ]
     },
     "execution_count": 11,
     "metadata": {},
     "output_type": "execute_result"
    }
   ],
   "source": [
    "df_has_time.columns"
   ]
  },
  {
   "cell_type": "code",
   "execution_count": 12,
   "metadata": {
    "pycharm": {
     "name": "#%%\n"
    }
   },
   "outputs": [
    {
     "data": {
      "text/html": [
       "<div>\n",
       "<style scoped>\n",
       "    .dataframe tbody tr th:only-of-type {\n",
       "        vertical-align: middle;\n",
       "    }\n",
       "\n",
       "    .dataframe tbody tr th {\n",
       "        vertical-align: top;\n",
       "    }\n",
       "\n",
       "    .dataframe thead th {\n",
       "        text-align: right;\n",
       "    }\n",
       "</style>\n",
       "<table border=\"1\" class=\"dataframe\">\n",
       "  <thead>\n",
       "    <tr style=\"text-align: right;\">\n",
       "      <th></th>\n",
       "      <th>user_followers_count</th>\n",
       "      <th>f22_sentiment_compound</th>\n",
       "    </tr>\n",
       "  </thead>\n",
       "  <tbody>\n",
       "    <tr>\n",
       "      <th>0</th>\n",
       "      <td>143</td>\n",
       "      <td>0.4199</td>\n",
       "    </tr>\n",
       "    <tr>\n",
       "      <th>1</th>\n",
       "      <td>915</td>\n",
       "      <td>0.4939</td>\n",
       "    </tr>\n",
       "    <tr>\n",
       "      <th>2</th>\n",
       "      <td>3222</td>\n",
       "      <td>0.6705</td>\n",
       "    </tr>\n",
       "    <tr>\n",
       "      <th>3</th>\n",
       "      <td>601</td>\n",
       "      <td>0.3818</td>\n",
       "    </tr>\n",
       "    <tr>\n",
       "      <th>4</th>\n",
       "      <td>667</td>\n",
       "      <td>-0.4404</td>\n",
       "    </tr>\n",
       "  </tbody>\n",
       "</table>\n",
       "</div>"
      ],
      "text/plain": [
       "  user_followers_count f22_sentiment_compound\n",
       "0                  143                 0.4199\n",
       "1                  915                 0.4939\n",
       "2                 3222                 0.6705\n",
       "3                  601                 0.3818\n",
       "4                  667                -0.4404"
      ]
     },
     "execution_count": 12,
     "metadata": {},
     "output_type": "execute_result"
    }
   ],
   "source": [
    "df_sample.select(*['user_followers_count', 'f22_sentiment_compound']).toPandas().head()"
   ]
  },
  {
   "cell_type": "code",
   "execution_count": 13,
   "metadata": {
    "pycharm": {
     "name": "#%%\n"
    }
   },
   "outputs": [
    {
     "name": "stdout",
     "output_type": "stream",
     "text": [
      "Has followers and compound score: 3652061\n"
     ]
    }
   ],
   "source": [
    "df_time_converted = df_has_time.withColumn('user_followers_count', F.col('user_followers_count').cast(T.IntegerType())).withColumn('f22_sentiment_compound', F.col('f22_sentiment_compound').cast(T.FloatType()))\n",
    "\n",
    "df_has_scores = df_time_converted.where(F.col('user_followers_count') > 0).where(F.col('f22_sentiment_compound') != 0)\n",
    "\n",
    "print(f'Has followers and compound score: {df_has_scores.count()}')\n",
    "\n",
    "df_com_score = df_has_scores.withColumn('f22_compound_score', F.col('user_followers_count') * F.col('f22_sentiment_compound'))"
   ]
  },
  {
   "cell_type": "code",
   "execution_count": 14,
   "metadata": {},
   "outputs": [],
   "source": [
    "from ams.utils import date_utils\n",
    "from datetime import datetime\n",
    "\n",
    "standard_format = date_utils.STANDARD_DAY_FORMAT \n",
    "def convert_to_date_string(epoch_millis: str):\n",
    "    dt = datetime.fromtimestamp(int(epoch_millis))\n",
    "    return dt.strftime(standard_format)\n",
    "        \n",
    "parse_udf = F.udf(convert_to_date_string)\n",
    "\n",
    "df_dated = df_com_score.withColumn('date', parse_udf(F.col('created_at_timestamp')))"
   ]
  },
  {
   "cell_type": "code",
   "execution_count": 17,
   "metadata": {
    "pycharm": {
     "name": "#%%\n"
    }
   },
   "outputs": [
    {
     "name": "stdout",
     "output_type": "stream",
     "text": [
      "/home/jovyan/work/data/twitter/learning_prep_drop/learning_prep_drop_2020-09-20_13-29-52-218.1\n"
     ]
    }
   ],
   "source": [
    "from ams.services import dataframe_services\n",
    "\n",
    "tag = 'learning_prep_drop'\n",
    "\n",
    "sent_drop_path = Path(constants.DATA_PATH, twitter_folder, tag)\n",
    "\n",
    "dataframe_services.persist_dataframe_as_csv(df=df_dated, output_drop_folder_path=sent_drop_path, prefix=tag, num_output_files=1)"
   ]
  },
  {
   "cell_type": "code",
   "execution_count": null,
   "metadata": {},
   "outputs": [],
   "source": []
  }
 ],
 "metadata": {
  "kernelspec": {
   "display_name": "Python 3",
   "language": "python",
   "name": "python3"
  },
  "language_info": {
   "codemirror_mode": {
    "name": "ipython",
    "version": 3
   },
   "file_extension": ".py",
   "mimetype": "text/x-python",
   "name": "python",
   "nbconvert_exporter": "python",
   "pygments_lexer": "ipython3",
   "version": "3.7.7"
  },
  "pycharm": {
   "stem_cell": {
    "cell_type": "raw",
    "metadata": {
     "collapsed": false
    },
    "source": []
   }
  }
 },
 "nbformat": 4,
 "nbformat_minor": 1
}
