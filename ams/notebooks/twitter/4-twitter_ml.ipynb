{
 "cells": [
  {
   "cell_type": "code",
   "execution_count": null,
   "outputs": [],
   "source": [
    "%load_ext autoreload\n",
    "%autoreload 2\n",
    "import gc\n",
    "import sys\n",
    "\n",
    "gc.collect()\n",
    "\n",
    "paths_to_add = ['/home/jovyan/work', '/home/jupyter/alpha_media_signal']\n",
    "\n",
    "for p in paths_to_add:\n",
    "    if p not in sys.path:\n",
    "        sys.path.append(p)\n",
    "\n",
    "import pandas as pd\n",
    "\n",
    "from ams.services.equities.EquityFundaDimension import EquityFundaDimension\n",
    "%matplotlib inline\n",
    "from pathlib import Path\n",
    "\n",
    "from ams.config import constants\n",
    "from ams.services import twitter_service\n",
    "from ams.services import ticker_service\n",
    "\n",
    "from statistics import mean\n",
    "import numpy as np\n",
    "from ams.services import file_services\n",
    "from typing import List\n",
    "from ams.notebooks.twitter.twitter_ml_utils import WorkflowMode\n",
    "from ams.notebooks.twitter import twitter_ml_utils\n",
    "from ams.utils import date_utils\n",
    "\n",
    "pd.set_option('display.max_rows', 5000)\n",
    "pd.set_option('display.max_columns', 500)\n",
    "pd.set_option('display.width', 1000)"
   ],
   "metadata": {
    "collapsed": false,
    "pycharm": {
     "name": "#%%\n"
    }
   }
  },
  {
   "cell_type": "code",
   "execution_count": null,
   "outputs": [],
   "source": [
    "twitter_folder = 'twitter'\n",
    "\n",
    "tr_file_path = Path(constants.TWITTER_OUTPUT_RAW_PATH, \"tip_ranked\", \"main\", \"tip_rank_2020-12-14_22-48-27-354.17.parquet\")"
   ],
   "metadata": {
    "collapsed": false,
    "pycharm": {
     "name": "#%%\n"
    }
   }
  },
  {
   "cell_type": "code",
   "execution_count": null,
   "outputs": [],
   "source": [
    "%%time\n",
    "\n",
    "learning_prep_dir = Path(constants.TWITTER_GREAT_REDUCTION_DIR, \"main\")\n",
    "df_twitter_raw = twitter_ml_utils.load_twitter_raw(learning_prep_dir=learning_prep_dir)\n",
    "\n",
    "cat_uniques = None\n",
    "model_xgb = None\n",
    "\n",
    "workflow_mode = WorkflowMode.Prediction\n",
    "# workflow_mode = WorkflowMode.Training\n",
    "predict_date_str = \"2020-10-26\"\n",
    "num_hold_days = 5\n",
    "\n",
    "dt = date_utils.parse_std_datestring(predict_date_str)\n",
    "if date_utils.is_stock_market_closed(dt):\n",
    "    raise Exception(\"No can do. Market closed.\")\n",
    "\n",
    "if workflow_mode is WorkflowMode.Training:\n",
    "    df_twitter_raw = df_twitter_raw[df_twitter_raw[\"date\"] < predict_date_str]\n",
    "else:\n",
    "    print(\"Prediction.\")\n",
    "    #today_dt_str = date_utils.get_standard_ymd_format(datetime.now())\n",
    "    df_twitter_raw = df_twitter_raw[df_twitter_raw[\"date\"] == predict_date_str]\n",
    "    model_xgb = twitter_ml_utils.load_model_for_prediction()\n",
    "    cat_uniques = model_xgb.cat_uniques\n",
    "    \n",
    "print(f\"Max date: {df_twitter_raw['date'].max()}\")\n",
    "print(f\"Num records: {df_twitter_raw.shape[0]:,}\")"
   ],
   "metadata": {
    "collapsed": false,
    "pycharm": {
     "name": "#%%\n"
    }
   }
  },
  {
   "cell_type": "code",
   "execution_count": null,
   "outputs": [],
   "source": [
    "%%time \n",
    "\n",
    "twitter_ml_utils.show_distribution(df=df_twitter_raw)"
   ],
   "metadata": {
    "collapsed": false,
    "pycharm": {
     "name": "#%%\n"
    }
   }
  },
  {
   "cell_type": "code",
   "execution_count": null,
   "outputs": [],
   "source": [
    "%%time\n",
    "\n",
    "df_booled = twitter_service.convert_to_bool(df=df_twitter_raw)"
   ],
   "metadata": {
    "collapsed": false,
    "pycharm": {
     "name": "#%%\n"
    }
   }
  },
  {
   "cell_type": "code",
   "execution_count": null,
   "outputs": [],
   "source": [
    "%%time\n",
    "\n",
    "df_twitter = twitter_ml_utils.convert_twitter_to_numeric(df=df_booled)\n",
    "df_twitter.head()"
   ],
   "metadata": {
    "collapsed": false,
    "pycharm": {
     "name": "#%%\n"
    }
   }
  },
  {
   "cell_type": "code",
   "execution_count": null,
   "outputs": [],
   "source": [
    "%%time\n",
    "\n",
    "df_stock_data = twitter_ml_utils.get_twitter_stock_data(df_tweets=df_twitter, \n",
    "                                                        num_hold_days=num_hold_days, \n",
    "                                                        workflow_mode=workflow_mode)\n",
    "df_stock_data.head()"
   ],
   "metadata": {
    "collapsed": false,
    "pycharm": {
     "name": "#%%\n"
    }
   }
  },
  {
   "cell_type": "code",
   "execution_count": null,
   "outputs": [],
   "source": [
    "# %%time\n",
    "\n",
    "df_rec_quart_drop = twitter_service.get_all_quarterly_data_for_twitter()\n",
    "\n",
    "columns_fundy = list(df_rec_quart_drop.columns)"
   ],
   "metadata": {
    "collapsed": false,
    "pycharm": {
     "name": "#%%\n"
    }
   }
  },
  {
   "cell_type": "code",
   "execution_count": null,
   "outputs": [],
   "source": [
    "%%time\n",
    "\n",
    "df_result = twitter_ml_utils.merge_fundies_with_stock(df_stock_data=df_stock_data)\n",
    "df_result.head()\n"
   ],
   "metadata": {
    "collapsed": false,
    "pycharm": {
     "name": "#%%\n"
    }
   }
  },
  {
   "cell_type": "code",
   "execution_count": null,
   "outputs": [],
   "source": [
    "df_drop_init = df_result.dropna(subset=[\"date\"]).drop(columns=\"lastupdated_eq_fun\")\n",
    "\n",
    "df_drop_future = df_drop_init[df_drop_init[\"date\"] > df_drop_init[\"calendardate\"]]\n",
    "\n",
    "df_drop_future = df_drop_future.sort_values(by=[\"ticker\", \"date\", \"calendardate\"], ascending=False)\n",
    "\n",
    "df_stock_and_quarter = df_drop_future.drop_duplicates(subset=[\"ticker\", \"date\"], keep=\"first\")\n",
    "\n",
    "# df_stock_and_quarter.shape[0]\n",
    "df_drop_init.shape[0]"
   ],
   "metadata": {
    "collapsed": false,
    "pycharm": {
     "name": "#%%\n"
    }
   }
  },
  {
   "cell_type": "code",
   "execution_count": null,
   "outputs": [],
   "source": [
    "df_nas_tickers_info, cat_uniques = ticker_service.get_nasdaq_tickers(cat_uniques=cat_uniques)"
   ],
   "metadata": {
    "collapsed": false,
    "pycharm": {
     "name": "#%%\n"
    }
   }
  },
  {
   "cell_type": "code",
   "execution_count": null,
   "outputs": [],
   "source": [
    "%time\n",
    "\n",
    "col_ticker = \"ticker_drop\"\n",
    "\n",
    "df_stock_quart_info = pd.merge(df_stock_and_quarter, df_nas_tickers_info, how='inner', left_on=[\"ticker\"], right_on=[col_ticker])\n",
    "df_sqi = df_stock_quart_info.drop(columns=[col_ticker])\n",
    "\n",
    "df_sqi.shape[0]"
   ],
   "metadata": {
    "collapsed": false,
    "pycharm": {
     "name": "#%%\n"
    }
   }
  },
  {
   "cell_type": "code",
   "execution_count": null,
   "outputs": [],
   "source": [
    "%%time\n",
    "\n",
    "df_stock_renamed = df_sqi.rename(columns={\"ticker\": \"f22_ticker\"})\n",
    "\n",
    "if 'None' in df_stock_renamed.columns:\n",
    "    df_stock_renamed = df_stock_renamed.drop(columns=['None'])\n",
    "\n",
    "df_merged = pd.merge(df_twitter, df_stock_renamed, how='inner', left_on=[\"f22_ticker\",\"date\"], right_on=[\"f22_ticker\",\"date\"])\n",
    "\n",
    "print(f'Num merged: {df_merged.shape[0]}')"
   ],
   "metadata": {
    "collapsed": false,
    "pycharm": {
     "name": "#%%\n"
    }
   }
  },
  {
   "cell_type": "code",
   "execution_count": null,
   "outputs": [],
   "source": [
    "df_days = twitter_ml_utils.add_days_since_quarter_results(df=df_merged)"
   ],
   "metadata": {
    "collapsed": false,
    "pycharm": {
     "name": "#%%\n"
    }
   }
  },
  {
   "cell_type": "code",
   "execution_count": null,
   "outputs": [],
   "source": [
    "df_days[\"future_date\"].max()"
   ],
   "metadata": {
    "collapsed": false,
    "pycharm": {
     "name": "#%%\n"
    }
   }
  },
  {
   "cell_type": "code",
   "execution_count": null,
   "outputs": [],
   "source": [
    "%%time\n",
    "\n",
    "df_days_of = twitter_ml_utils.add_calendar_days(df=df_days)\n",
    "\n",
    "df_days_of[\"future_date\"].max()"
   ],
   "metadata": {
    "collapsed": false,
    "pycharm": {
     "name": "#%%\n"
    }
   }
  },
  {
   "cell_type": "code",
   "execution_count": null,
   "outputs": [],
   "source": [
    "%%time\n",
    "\n",
    "df_dd = twitter_ml_utils.add_nasdaq_roi(df=df_days_of)"
   ],
   "metadata": {
    "collapsed": false,
    "pycharm": {
     "name": "#%%\n"
    }
   }
  },
  {
   "cell_type": "code",
   "execution_count": null,
   "outputs": [],
   "source": [
    "%%time\n",
    "\n",
    "if workflow_mode == WorkflowMode.Training:\n",
    "    df_thin_rabbit = twitter_service.add_buy_sell(df=df_dd)\n",
    "else:\n",
    "    df_thin_rabbit = df_dd"
   ],
   "metadata": {
    "collapsed": false,
    "pycharm": {
     "name": "#%%\n"
    }
   }
  },
  {
   "cell_type": "code",
   "execution_count": null,
   "outputs": [],
   "source": [
    "df_thin_rabbit[\"original_close_price\"] = df_thin_rabbit[\"close\"]\n",
    "df_thin_rabbit[\"date\"].max()\n",
    "print(f'Num df_thin_rabbit: {df_thin_rabbit.shape[0]}')"
   ],
   "metadata": {
    "collapsed": false,
    "pycharm": {
     "name": "#%%\n"
    }
   }
  },
  {
   "cell_type": "code",
   "execution_count": null,
   "outputs": [],
   "source": [
    "# save_twitter_stock_join(df=df_thin_rabbit)"
   ],
   "metadata": {
    "collapsed": false,
    "pycharm": {
     "name": "#%%\n"
    }
   }
  },
  {
   "cell_type": "code",
   "execution_count": null,
   "outputs": [],
   "source": [
    "%%time\n",
    "cols_fundy_numeric = list(set(columns_fundy) - {\"ticker\", 'calendardate', 'datekey', 'reportperiod'})\n",
    "\n",
    "df_no_z = twitter_service.fill_null_numeric(df=df_thin_rabbit, cols_fundy_numeric=cols_fundy_numeric)"
   ],
   "metadata": {
    "collapsed": false,
    "pycharm": {
     "name": "#%%\n"
    }
   }
  },
  {
   "cell_type": "code",
   "execution_count": null,
   "outputs": [],
   "source": [
    "%%time\n",
    "    \n",
    "df_since_sma = twitter_ml_utils.add_sma_stuff(df=df_no_z)"
   ],
   "metadata": {
    "collapsed": false,
    "pycharm": {
     "name": "#%%\n"
    }
   }
  },
  {
   "cell_type": "code",
   "execution_count": null,
   "outputs": [],
   "source": [
    "%%time\n",
    "\n",
    "df_since_sma[\"purchase_date\"] = df_since_sma[\"date\"]"
   ],
   "metadata": {
    "collapsed": false,
    "pycharm": {
     "name": "#%%\n"
    }
   }
  },
  {
   "cell_type": "code",
   "execution_count": null,
   "outputs": [],
   "source": [
    "%%time\n",
    "\n",
    "df_days_until = ticker_service.add_days_until_sale(df=df_since_sma)"
   ],
   "metadata": {
    "collapsed": false,
    "pycharm": {
     "name": "#%%\n"
    }
   }
  },
  {
   "cell_type": "code",
   "execution_count": null,
   "outputs": [],
   "source": [
    "%%time\n",
    "df = twitter_service.refine_pool(df=df_days_until, min_volume=None, min_price=None, max_price=None)\n",
    "df = twitter_service.omit_columns(df=df)\n",
    "df_tweet_counted = twitter_service.add_tweet_count(df=df).drop(columns=[\"calendardate\", \"reportperiod\", \"dimension\", \"datekey\"])"
   ],
   "metadata": {
    "collapsed": false,
    "pycharm": {
     "name": "#%%\n"
    }
   }
  },
  {
   "cell_type": "code",
   "execution_count": null,
   "outputs": [],
   "source": [
    "df_tweet_counted[\"future_date\"].max()"
   ],
   "metadata": {
    "collapsed": false,
    "pycharm": {
     "name": "#%%\n"
    }
   }
  },
  {
   "cell_type": "code",
   "execution_count": null,
   "outputs": [],
   "source": [
    "# df_winnowed = twitter_ml_utils.truncate_avail_columns(df=df_tweet_counted)"
   ],
   "metadata": {
    "collapsed": false,
    "pycharm": {
     "name": "#%%\n"
    }
   }
  },
  {
   "cell_type": "code",
   "execution_count": null,
   "outputs": [],
   "source": [
    "print(df_tweet_counted.shape[0])\n",
    "\n",
    "df_ranked = twitter_ml_utils.add_tip_ranks(df=df_tweet_counted, tr_file_path=tr_file_path)"
   ],
   "metadata": {
    "collapsed": false,
    "pycharm": {
     "name": "#%%\n"
    }
   }
  },
  {
   "cell_type": "code",
   "execution_count": null,
   "outputs": [],
   "source": [
    "df_ranked[\"future_date\"].max()"
   ],
   "metadata": {
    "collapsed": false,
    "pycharm": {
     "name": "#%%\n"
    }
   }
  },
  {
   "cell_type": "code",
   "execution_count": null,
   "outputs": [],
   "source": [
    "print(df_ranked.shape[0])\n",
    "\n",
    "df_ticker_hotted, unique_tickers = ticker_service.make_f22_ticker_one_hotted(df_ranked=df_ranked, cat_uniques=cat_uniques)\n",
    "\n",
    "cat_uniques[\"f22_ticker\"] = unique_tickers\n",
    "print(f\"{len(cat_uniques['f22_ticker'])}\")\n",
    "\n",
    "narrow_cols = list(df_ticker_hotted.columns)"
   ],
   "metadata": {
    "collapsed": false,
    "pycharm": {
     "name": "#%%\n"
    }
   }
  },
  {
   "cell_type": "code",
   "execution_count": null,
   "outputs": [],
   "source": [
    "%%time\n",
    "\n",
    "df_train = df_ticker_hotted\n",
    "\n",
    "print(df_train.shape[0])\n",
    "print(df_train[\"future_date\"].max())\n",
    "print(len(cat_uniques[\"f22_ticker\"]))\n",
    "\n",
    "if workflow_mode is WorkflowMode.Training:\n",
    "    # sac_roi_list = twitter_ml_utils.find_ml_pred_perf(df=df_train)\n",
    "#     sac_roi_list = twitter_ml_utils.torch_non_linear(df=df_train, narrow_cols=narrow_cols)\n",
    "    sac_roi_list = twitter_ml_utils.xgb_learning(df=df_train, narrow_cols=narrow_cols, cat_uniques=cat_uniques)    "
   ],
   "metadata": {
    "collapsed": false,
    "pycharm": {
     "name": "#%%\n"
    }
   }
  },
  {
   "cell_type": "code",
   "execution_count": null,
   "outputs": [],
   "source": [
    "if workflow_mode is WorkflowMode.Training: \n",
    "    startup_cash = 1000\n",
    "\n",
    "    investment = startup_cash\n",
    "    for s in sac_roi_list:\n",
    "        investment = (investment * s) + investment\n",
    "\n",
    "    print(f\"roi amount: {investment}\")\n",
    "    print(sac_roi_list)"
   ],
   "metadata": {
    "collapsed": false,
    "pycharm": {
     "name": "#%%\n"
    }
   }
  },
  {
   "cell_type": "code",
   "execution_count": null,
   "outputs": [],
   "source": [
    "from ams.services import pickle_service\n",
    "from datetime import datetime\n",
    "\n",
    "overwrite_file = False\n",
    "if workflow_mode is WorkflowMode.Prediction:\n",
    "    def get_data_for_predictions(df: pd.DataFrame, narrow_cols: List[str]):\n",
    "        feature_cols = twitter_service.get_feature_columns(narrow_cols)\n",
    "\n",
    "        return np.array(df[feature_cols])\n",
    "\n",
    "    X_predict = get_data_for_predictions(df=df_ticker_hotted, narrow_cols=narrow_cols)\n",
    "\n",
    "    prediction = model_xgb.model.predict(X_predict)\n",
    "\n",
    "    df_ticker_hotted[\"prediction\"] = prediction\n",
    "    \n",
    "    df_buy = df_ticker_hotted[df_ticker_hotted[\"prediction\"] == 1][[\"f22_ticker\", \"purchase_date\"]]\n",
    "    df_buy[\"num_hold_days\"] = num_hold_days\n",
    "    df_buy[\"run_timestamp\"] = datetime.timestamp(datetime.now())\n",
    "    \n",
    "    print(df_buy.head(10))\n",
    "    \n",
    "    rows = df_buy.to_dict('records')\n",
    "\n",
    "    from ams.services import csv_service\n",
    "    csv_service.write_dicts_as_csv(output_file_path=constants.TWITTER_PREDICTIONS_PATH,\n",
    "                                  overwrite=overwrite_file,\n",
    "                                  rows=rows)"
   ],
   "metadata": {
    "collapsed": false,
    "pycharm": {
     "name": "#%%\n"
    }
   }
  },
  {
   "cell_type": "code",
   "execution_count": null,
   "outputs": [],
   "source": [],
   "metadata": {
    "collapsed": false,
    "pycharm": {
     "name": "#%%\n"
    }
   }
  }
 ],
 "metadata": {
  "kernelspec": {
   "display_name": "Python 3",
   "language": "python",
   "name": "python3"
  },
  "language_info": {
   "codemirror_mode": {
    "name": "ipython",
    "version": 3
   },
   "file_extension": ".py",
   "mimetype": "text/x-python",
   "name": "python",
   "nbconvert_exporter": "python",
   "pygments_lexer": "ipython3",
   "version": "3.7.9"
  },
  "pycharm": {
   "stem_cell": {
    "cell_type": "raw",
    "source": [],
    "metadata": {
     "collapsed": false
    }
   }
  }
 },
 "nbformat": 4,
 "nbformat_minor": 1
}