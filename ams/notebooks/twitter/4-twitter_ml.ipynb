{
 "cells": [
  {
   "cell_type": "code",
   "execution_count": 1,
   "metadata": {
    "pycharm": {
     "name": "#%%\n"
    }
   },
   "outputs": [
    {
     "name": "stdout",
     "output_type": "stream",
     "text": [
      "Setting up logging...\n",
      "Will use logging path: C:\\Users\\Chris\\workspaces\\data\\logs\\alpha_media_signal\n"
     ]
    }
   ],
   "source": [
    "%load_ext autoreload\n",
    "%autoreload 2\n",
    "import gc\n",
    "import sys\n",
    "\n",
    "gc.collect()\n",
    "\n",
    "paths_to_add = ['/home/jovyan/work', '/home/jupyter/alpha_media_signal']\n",
    "\n",
    "for p in paths_to_add:\n",
    "    if p not in sys.path:\n",
    "        sys.path.append(p)\n",
    "\n",
    "import pandas as pd\n",
    "\n",
    "from ams.services.equities.EquityFundaDimension import EquityFundaDimension\n",
    "%matplotlib inline\n",
    "from pathlib import Path\n",
    "\n",
    "from ams.config import constants\n",
    "from ams.services import twitter_service\n",
    "from ams.services import ticker_service\n",
    "\n",
    "from statistics import mean\n",
    "import numpy as np\n",
    "from ams.services import file_services\n",
    "from typing import List\n",
    "from ams.notebooks.twitter.twitter_ml_utils import WorkflowMode\n",
    "from ams.notebooks.twitter import twitter_ml_utils\n",
    "from ams.utils import date_utils\n",
    "\n",
    "pd.set_option('display.max_rows', 5000)\n",
    "pd.set_option('display.max_columns', 500)\n",
    "pd.set_option('display.width', 1000)"
   ]
  },
  {
   "cell_type": "code",
   "execution_count": 2,
   "metadata": {
    "pycharm": {
     "name": "#%%\n"
    }
   },
   "outputs": [],
   "source": [
    "twitter_folder = 'twitter'\n",
    "\n",
    "tr_file_path = Path(constants.TWITTER_OUTPUT_RAW_PATH, \"tip_ranked\", \"main\", \"tip_rank_2020-12-14_22-48-27-354.17.parquet\")"
   ]
  },
  {
   "cell_type": "code",
   "execution_count": 3,
   "metadata": {
    "pycharm": {
     "name": "#%%\n"
    }
   },
   "outputs": [
    {
     "name": "stdout",
     "output_type": "stream",
     "text": [
      "Max date: 2020-10-25\n",
      "Num records: 123,645\n",
      "Wall time: 542 ms\n"
     ]
    }
   ],
   "source": [
    "%%time\n",
    "\n",
    "learning_prep_dir = Path(constants.TWITTER_GREAT_REDUCTION_DIR, \"main\")\n",
    "df_twitter_raw = twitter_ml_utils.load_twitter_raw(learning_prep_dir=learning_prep_dir)\n",
    "\n",
    "cat_uniques = None\n",
    "model_xgb = None\n",
    "\n",
    "workflow_mode = WorkflowMode.Prediction\n",
    "# workflow_mode = WorkflowMode.Training\n",
    "predict_date_str = \"2020-10-26\"\n",
    "num_hold_days = 5\n",
    "\n",
    "dt = date_utils.parse_std_datestring(predict_date_str)\n",
    "if date_utils.is_stock_market_closed(dt):\n",
    "    raise Exception(\"No can do. Market closed.\")\n",
    "\n",
    "if workflow_mode is WorkflowMode.Training:\n",
    "    df_twitter_raw = df_twitter_raw[df_twitter_raw[\"date\"] < predict_date_str]\n",
    "else:\n",
    "    print(\"Prediction.\")\n",
    "    #today_dt_str = date_utils.get_standard_ymd_format(datetime.now())\n",
    "    df_twitter_raw = df_twitter_raw[df_twitter_raw[\"date\"] == predict_date_str]\n",
    "    model_xgb = twitter_ml_utils.load_model_for_prediction()\n",
    "    cat_uniques = model_xgb.cat_uniques\n",
    "    \n",
    "print(f\"Max date: {df_twitter_raw['date'].max()}\")\n",
    "print(f\"Num records: {df_twitter_raw.shape[0]:,}\")"
   ]
  },
  {
   "cell_type": "code",
   "execution_count": 4,
   "metadata": {},
   "outputs": [
    {
     "name": "stdout",
     "output_type": "stream",
     "text": [
      "Wall time: 390 ms\n"
     ]
    },
    {
     "data": {
      "image/png": "[encoded data removed]",
      "text/plain": [
       "<Figure size 720x360 with 1 Axes>"
      ]
     },
     "metadata": {
      "needs_background": "light"
     },
     "output_type": "display_data"
    }
   ],
   "source": [
    "%%time \n",
    "\n",
    "twitter_ml_utils.show_distribution(df=df_twitter_raw)"
   ]
  },
  {
   "cell_type": "code",
   "execution_count": 5,
   "metadata": {},
   "outputs": [
    {
     "name": "stdout",
     "output_type": "stream",
     "text": [
      "Wall time: 1.97 s\n"
     ]
    }
   ],
   "source": [
    "%%time\n",
    "\n",
    "df_booled = twitter_service.convert_to_bool(df=df_twitter_raw)"
   ]
  },
  {
   "cell_type": "code",
   "execution_count": 6,
   "metadata": {
    "pycharm": {
     "name": "#%%\n"
    }
   },
   "outputs": [
    {
     "name": "stdout",
     "output_type": "stream",
     "text": [
      "Wall time: 4 ms\n"
     ]
    },
    {
     "data": {
      "text/html": [
       "<div>\n",
       "<style scoped>\n",
       "    .dataframe tbody tr th:only-of-type {\n",
       "        vertical-align: middle;\n",
       "    }\n",
       "\n",
       "    .dataframe tbody tr th {\n",
       "        vertical-align: top;\n",
       "    }\n",
       "\n",
       "    .dataframe thead th {\n",
       "        text-align: right;\n",
       "    }\n",
       "</style>\n",
       "<table border=\"1\" class=\"dataframe\">\n",
       "  <thead>\n",
       "    <tr style=\"text-align: right;\">\n",
       "      <th></th>\n",
       "      <th>created_at</th>\n",
       "      <th>user_screen_name</th>\n",
       "      <th>favorite_count</th>\n",
       "      <th>in_reply_to_screen_name</th>\n",
       "      <th>user_verified</th>\n",
       "      <th>metadata_result_type</th>\n",
       "      <th>user_listed_count</th>\n",
       "      <th>user_time_zone</th>\n",
       "      <th>user_has_extended_profile</th>\n",
       "      <th>in_reply_to_status_id</th>\n",
       "      <th>user_statuses_count</th>\n",
       "      <th>user_protected</th>\n",
       "      <th>user_is_translation_enabled</th>\n",
       "      <th>user_location</th>\n",
       "      <th>lang</th>\n",
       "      <th>user_geo_enabled</th>\n",
       "      <th>place_country</th>\n",
       "      <th>place_name</th>\n",
       "      <th>possibly_sensitive</th>\n",
       "      <th>user_friends_count</th>\n",
       "      <th>retweet_count</th>\n",
       "      <th>user_follow_request_sent</th>\n",
       "      <th>user_followers_count</th>\n",
       "      <th>f22_ticker</th>\n",
       "      <th>f22_has_cashtag</th>\n",
       "      <th>f22_ticker_in_text</th>\n",
       "      <th>f22_num_other_tickers_in_tweet</th>\n",
       "      <th>f22_sentiment_pos</th>\n",
       "      <th>f22_sentiment_neu</th>\n",
       "      <th>f22_sentiment_neg</th>\n",
       "      <th>f22_sentiment_compound</th>\n",
       "      <th>f22_id</th>\n",
       "      <th>created_at_timestamp</th>\n",
       "      <th>date</th>\n",
       "      <th>f22_compound_score</th>\n",
       "      <th>f22_is_tweet_after_hours</th>\n",
       "    </tr>\n",
       "  </thead>\n",
       "  <tbody>\n",
       "    <tr>\n",
       "      <th>147293</th>\n",
       "      <td>Sun Aug 09 21:03:19 +0000 2020</td>\n",
       "      <td>Maame_Afya</td>\n",
       "      <td>0.0</td>\n",
       "      <td>Agorkoli_</td>\n",
       "      <td>False</td>\n",
       "      <td>recent</td>\n",
       "      <td>2.000000</td>\n",
       "      <td>NaN</td>\n",
       "      <td>True</td>\n",
       "      <td>1.2925604792447386e+18</td>\n",
       "      <td>8544.0</td>\n",
       "      <td>False</td>\n",
       "      <td>False</td>\n",
       "      <td>nan</td>\n",
       "      <td>en</td>\n",
       "      <td>True</td>\n",
       "      <td>nan</td>\n",
       "      <td>nan</td>\n",
       "      <td>True</td>\n",
       "      <td>1947.750000</td>\n",
       "      <td>6.5</td>\n",
       "      <td>True</td>\n",
       "      <td>1277.750000</td>\n",
       "      <td>ELCO</td>\n",
       "      <td>True</td>\n",
       "      <td>True</td>\n",
       "      <td>0.500000</td>\n",
       "      <td>0.19975</td>\n",
       "      <td>0.800250</td>\n",
       "      <td>0.000000</td>\n",
       "      <td>0.406575</td>\n",
       "      <td>8698700209624637587</td>\n",
       "      <td>1.597007e+09</td>\n",
       "      <td>2020-08-09</td>\n",
       "      <td>773.793200</td>\n",
       "      <td>NaN</td>\n",
       "    </tr>\n",
       "    <tr>\n",
       "      <th>125360</th>\n",
       "      <td>Sun Aug 09 22:21:21 +0000 2020</td>\n",
       "      <td>EnterpriseLeade</td>\n",
       "      <td>0.0</td>\n",
       "      <td>nan</td>\n",
       "      <td>False</td>\n",
       "      <td>recent</td>\n",
       "      <td>100.333333</td>\n",
       "      <td>NaN</td>\n",
       "      <td>False</td>\n",
       "      <td>nan</td>\n",
       "      <td>577800</td>\n",
       "      <td>False</td>\n",
       "      <td>False</td>\n",
       "      <td>United States</td>\n",
       "      <td>en</td>\n",
       "      <td>False</td>\n",
       "      <td>nan</td>\n",
       "      <td>nan</td>\n",
       "      <td>False</td>\n",
       "      <td>18.333333</td>\n",
       "      <td>0.0</td>\n",
       "      <td>True</td>\n",
       "      <td>1830.000000</td>\n",
       "      <td>DCIX</td>\n",
       "      <td>True</td>\n",
       "      <td>True</td>\n",
       "      <td>0.666667</td>\n",
       "      <td>0.00000</td>\n",
       "      <td>1.000000</td>\n",
       "      <td>0.000000</td>\n",
       "      <td>0.000000</td>\n",
       "      <td>-2562322011414269413</td>\n",
       "      <td>1.597012e+09</td>\n",
       "      <td>2020-08-09</td>\n",
       "      <td>0.000000</td>\n",
       "      <td>NaN</td>\n",
       "    </tr>\n",
       "    <tr>\n",
       "      <th>103170</th>\n",
       "      <td>Mon Aug 10 00:15:56 +0000 2020</td>\n",
       "      <td>AmericanBanking</td>\n",
       "      <td>0.0</td>\n",
       "      <td>nan</td>\n",
       "      <td>False</td>\n",
       "      <td>recent</td>\n",
       "      <td>365.000000</td>\n",
       "      <td>NaN</td>\n",
       "      <td>False</td>\n",
       "      <td>nan</td>\n",
       "      <td>2698257.0</td>\n",
       "      <td>False</td>\n",
       "      <td>False</td>\n",
       "      <td>Sioux Falls&amp;#44; SD</td>\n",
       "      <td>en</td>\n",
       "      <td>False</td>\n",
       "      <td>nan</td>\n",
       "      <td>nan</td>\n",
       "      <td>False</td>\n",
       "      <td>1066.000000</td>\n",
       "      <td>0.0</td>\n",
       "      <td>True</td>\n",
       "      <td>4026.500000</td>\n",
       "      <td>CNST</td>\n",
       "      <td>True</td>\n",
       "      <td>True</td>\n",
       "      <td>0.500000</td>\n",
       "      <td>0.09050</td>\n",
       "      <td>0.909500</td>\n",
       "      <td>0.000000</td>\n",
       "      <td>0.238350</td>\n",
       "      <td>5733206439605406186</td>\n",
       "      <td>1.597019e+09</td>\n",
       "      <td>2020-08-09</td>\n",
       "      <td>35.990850</td>\n",
       "      <td>NaN</td>\n",
       "    </tr>\n",
       "    <tr>\n",
       "      <th>456192</th>\n",
       "      <td>Sun Aug 09 17:37:53 +0000 2020</td>\n",
       "      <td>Atif_MyChannel</td>\n",
       "      <td>0.0</td>\n",
       "      <td>nan</td>\n",
       "      <td>False</td>\n",
       "      <td>recent</td>\n",
       "      <td>2.000000</td>\n",
       "      <td>NaN</td>\n",
       "      <td>False</td>\n",
       "      <td>nan</td>\n",
       "      <td>7463</td>\n",
       "      <td>False</td>\n",
       "      <td>False</td>\n",
       "      <td>nan</td>\n",
       "      <td>en</td>\n",
       "      <td>False</td>\n",
       "      <td>nan</td>\n",
       "      <td>nan</td>\n",
       "      <td>False</td>\n",
       "      <td>1813.666667</td>\n",
       "      <td>281.0</td>\n",
       "      <td>True</td>\n",
       "      <td>1725.333333</td>\n",
       "      <td>TROY</td>\n",
       "      <td>True</td>\n",
       "      <td>True</td>\n",
       "      <td>0.000000</td>\n",
       "      <td>0.10500</td>\n",
       "      <td>0.638667</td>\n",
       "      <td>0.256333</td>\n",
       "      <td>-0.306700</td>\n",
       "      <td>-6819472559233901419</td>\n",
       "      <td>1.596995e+09</td>\n",
       "      <td>2020-08-09</td>\n",
       "      <td>-1114.241733</td>\n",
       "      <td>NaN</td>\n",
       "    </tr>\n",
       "    <tr>\n",
       "      <th>193556</th>\n",
       "      <td>Sun Aug 09 21:00:45 +0000 2020</td>\n",
       "      <td>EarningsAlley</td>\n",
       "      <td>1.0</td>\n",
       "      <td>EarningsAlley</td>\n",
       "      <td>False</td>\n",
       "      <td>recent</td>\n",
       "      <td>10.000000</td>\n",
       "      <td>NaN</td>\n",
       "      <td>False</td>\n",
       "      <td>1.292566505780138e+18</td>\n",
       "      <td>23123</td>\n",
       "      <td>False</td>\n",
       "      <td>False</td>\n",
       "      <td>nan</td>\n",
       "      <td>en</td>\n",
       "      <td>False</td>\n",
       "      <td>nan</td>\n",
       "      <td>nan</td>\n",
       "      <td>True</td>\n",
       "      <td>1.000000</td>\n",
       "      <td>0.0</td>\n",
       "      <td>True</td>\n",
       "      <td>464.000000</td>\n",
       "      <td>GO</td>\n",
       "      <td>True</td>\n",
       "      <td>True</td>\n",
       "      <td>5.000000</td>\n",
       "      <td>0.00000</td>\n",
       "      <td>1.000000</td>\n",
       "      <td>0.000000</td>\n",
       "      <td>0.000000</td>\n",
       "      <td>332765547698948601</td>\n",
       "      <td>1.597007e+09</td>\n",
       "      <td>2020-08-09</td>\n",
       "      <td>0.000000</td>\n",
       "      <td>NaN</td>\n",
       "    </tr>\n",
       "  </tbody>\n",
       "</table>\n",
       "</div>"
      ],
      "text/plain": [
       "                            created_at user_screen_name  favorite_count in_reply_to_screen_name  user_verified metadata_result_type  user_listed_count  user_time_zone  user_has_extended_profile   in_reply_to_status_id user_statuses_count  user_protected  user_is_translation_enabled        user_location lang  user_geo_enabled place_country place_name  possibly_sensitive  user_friends_count  retweet_count  user_follow_request_sent  user_followers_count f22_ticker  f22_has_cashtag  f22_ticker_in_text  f22_num_other_tickers_in_tweet  f22_sentiment_pos  f22_sentiment_neu  f22_sentiment_neg  f22_sentiment_compound               f22_id  created_at_timestamp        date  f22_compound_score f22_is_tweet_after_hours\n",
       "147293  Sun Aug 09 21:03:19 +0000 2020       Maame_Afya             0.0               Agorkoli_          False               recent           2.000000             NaN                       True  1.2925604792447386e+18              8544.0           False                        False                  nan   en              True           nan        nan                True         1947.750000            6.5                      True           1277.750000       ELCO             True                True                        0.500000            0.19975           0.800250           0.000000                0.406575  8698700209624637587          1.597007e+09  2020-08-09          773.793200                      NaN\n",
       "125360  Sun Aug 09 22:21:21 +0000 2020  EnterpriseLeade             0.0                     nan          False               recent         100.333333             NaN                      False                     nan              577800           False                        False        United States   en             False           nan        nan               False           18.333333            0.0                      True           1830.000000       DCIX             True                True                        0.666667            0.00000           1.000000           0.000000                0.000000 -2562322011414269413          1.597012e+09  2020-08-09            0.000000                      NaN\n",
       "103170  Mon Aug 10 00:15:56 +0000 2020  AmericanBanking             0.0                     nan          False               recent         365.000000             NaN                      False                     nan           2698257.0           False                        False  Sioux Falls&#44; SD   en             False           nan        nan               False         1066.000000            0.0                      True           4026.500000       CNST             True                True                        0.500000            0.09050           0.909500           0.000000                0.238350  5733206439605406186          1.597019e+09  2020-08-09           35.990850                      NaN\n",
       "456192  Sun Aug 09 17:37:53 +0000 2020   Atif_MyChannel             0.0                     nan          False               recent           2.000000             NaN                      False                     nan                7463           False                        False                  nan   en             False           nan        nan               False         1813.666667          281.0                      True           1725.333333       TROY             True                True                        0.000000            0.10500           0.638667           0.256333               -0.306700 -6819472559233901419          1.596995e+09  2020-08-09        -1114.241733                      NaN\n",
       "193556  Sun Aug 09 21:00:45 +0000 2020    EarningsAlley             1.0           EarningsAlley          False               recent          10.000000             NaN                      False   1.292566505780138e+18               23123           False                        False                  nan   en             False           nan        nan                True            1.000000            0.0                      True            464.000000         GO             True                True                        5.000000            0.00000           1.000000           0.000000                0.000000   332765547698948601          1.597007e+09  2020-08-09            0.000000                      NaN"
      ]
     },
     "execution_count": 6,
     "metadata": {},
     "output_type": "execute_result"
    }
   ],
   "source": [
    "%%time\n",
    "\n",
    "df_twitter = twitter_ml_utils.convert_twitter_to_numeric(df=df_booled)\n",
    "df_twitter.head()"
   ]
  },
  {
   "cell_type": "code",
   "execution_count": 7,
   "metadata": {},
   "outputs": [
    {
     "name": "stdout",
     "output_type": "stream",
     "text": [
      "Training\n",
      "Wall time: 31.7 s\n"
     ]
    },
    {
     "data": {
      "text/html": [
       "<div>\n",
       "<style scoped>\n",
       "    .dataframe tbody tr th:only-of-type {\n",
       "        vertical-align: middle;\n",
       "    }\n",
       "\n",
       "    .dataframe tbody tr th {\n",
       "        vertical-align: top;\n",
       "    }\n",
       "\n",
       "    .dataframe thead th {\n",
       "        text-align: right;\n",
       "    }\n",
       "</style>\n",
       "<table border=\"1\" class=\"dataframe\">\n",
       "  <thead>\n",
       "    <tr style=\"text-align: right;\">\n",
       "      <th></th>\n",
       "      <th>ticker</th>\n",
       "      <th>date</th>\n",
       "      <th>open</th>\n",
       "      <th>high</th>\n",
       "      <th>low</th>\n",
       "      <th>close</th>\n",
       "      <th>volume</th>\n",
       "      <th>dividends</th>\n",
       "      <th>closeunadj</th>\n",
       "      <th>lastupdated</th>\n",
       "      <th>future_open</th>\n",
       "      <th>future_low</th>\n",
       "      <th>future_high</th>\n",
       "      <th>future_close</th>\n",
       "      <th>future_date</th>\n",
       "      <th>None</th>\n",
       "    </tr>\n",
       "  </thead>\n",
       "  <tbody>\n",
       "    <tr>\n",
       "      <th>2921</th>\n",
       "      <td>AAL</td>\n",
       "      <td>2020-08-11</td>\n",
       "      <td>15.02</td>\n",
       "      <td>15.10</td>\n",
       "      <td>13.55</td>\n",
       "      <td>13.73</td>\n",
       "      <td>126759332.0</td>\n",
       "      <td>0.0</td>\n",
       "      <td>13.73</td>\n",
       "      <td>2020-08-11</td>\n",
       "      <td>12.600</td>\n",
       "      <td>12.51</td>\n",
       "      <td>12.88</td>\n",
       "      <td>12.60</td>\n",
       "      <td>2020-08-18</td>\n",
       "      <td>NaN</td>\n",
       "    </tr>\n",
       "    <tr>\n",
       "      <th>2922</th>\n",
       "      <td>AAL</td>\n",
       "      <td>2020-08-12</td>\n",
       "      <td>14.03</td>\n",
       "      <td>14.06</td>\n",
       "      <td>13.10</td>\n",
       "      <td>13.54</td>\n",
       "      <td>77075223.0</td>\n",
       "      <td>0.0</td>\n",
       "      <td>13.54</td>\n",
       "      <td>2020-08-12</td>\n",
       "      <td>12.650</td>\n",
       "      <td>12.58</td>\n",
       "      <td>13.44</td>\n",
       "      <td>12.68</td>\n",
       "      <td>2020-08-19</td>\n",
       "      <td>NaN</td>\n",
       "    </tr>\n",
       "    <tr>\n",
       "      <th>2923</th>\n",
       "      <td>AAL</td>\n",
       "      <td>2020-08-13</td>\n",
       "      <td>13.19</td>\n",
       "      <td>13.90</td>\n",
       "      <td>13.11</td>\n",
       "      <td>13.30</td>\n",
       "      <td>47397842.0</td>\n",
       "      <td>0.0</td>\n",
       "      <td>13.30</td>\n",
       "      <td>2020-08-13</td>\n",
       "      <td>12.380</td>\n",
       "      <td>12.26</td>\n",
       "      <td>12.67</td>\n",
       "      <td>12.50</td>\n",
       "      <td>2020-08-20</td>\n",
       "      <td>NaN</td>\n",
       "    </tr>\n",
       "    <tr>\n",
       "      <th>2924</th>\n",
       "      <td>AAL</td>\n",
       "      <td>2020-08-14</td>\n",
       "      <td>13.11</td>\n",
       "      <td>13.56</td>\n",
       "      <td>13.01</td>\n",
       "      <td>13.33</td>\n",
       "      <td>45670200.0</td>\n",
       "      <td>0.0</td>\n",
       "      <td>13.33</td>\n",
       "      <td>2020-08-14</td>\n",
       "      <td>12.438</td>\n",
       "      <td>12.09</td>\n",
       "      <td>12.63</td>\n",
       "      <td>12.16</td>\n",
       "      <td>2020-08-21</td>\n",
       "      <td>NaN</td>\n",
       "    </tr>\n",
       "    <tr>\n",
       "      <th>2925</th>\n",
       "      <td>AAL</td>\n",
       "      <td>2020-08-17</td>\n",
       "      <td>13.32</td>\n",
       "      <td>13.38</td>\n",
       "      <td>12.61</td>\n",
       "      <td>12.62</td>\n",
       "      <td>55705663.0</td>\n",
       "      <td>0.0</td>\n",
       "      <td>12.62</td>\n",
       "      <td>2020-08-17</td>\n",
       "      <td>12.440</td>\n",
       "      <td>12.27</td>\n",
       "      <td>13.48</td>\n",
       "      <td>13.44</td>\n",
       "      <td>2020-08-24</td>\n",
       "      <td>NaN</td>\n",
       "    </tr>\n",
       "  </tbody>\n",
       "</table>\n",
       "</div>"
      ],
      "text/plain": [
       "     ticker        date   open   high    low  close       volume  dividends  closeunadj lastupdated  future_open  future_low  future_high  future_close future_date  None\n",
       "2921    AAL  2020-08-11  15.02  15.10  13.55  13.73  126759332.0        0.0       13.73  2020-08-11       12.600       12.51        12.88         12.60  2020-08-18   NaN\n",
       "2922    AAL  2020-08-12  14.03  14.06  13.10  13.54   77075223.0        0.0       13.54  2020-08-12       12.650       12.58        13.44         12.68  2020-08-19   NaN\n",
       "2923    AAL  2020-08-13  13.19  13.90  13.11  13.30   47397842.0        0.0       13.30  2020-08-13       12.380       12.26        12.67         12.50  2020-08-20   NaN\n",
       "2924    AAL  2020-08-14  13.11  13.56  13.01  13.33   45670200.0        0.0       13.33  2020-08-14       12.438       12.09        12.63         12.16  2020-08-21   NaN\n",
       "2925    AAL  2020-08-17  13.32  13.38  12.61  12.62   55705663.0        0.0       12.62  2020-08-17       12.440       12.27        13.48         13.44  2020-08-24   NaN"
      ]
     },
     "execution_count": 7,
     "metadata": {},
     "output_type": "execute_result"
    }
   ],
   "source": [
    "%%time\n",
    "\n",
    "df_stock_data = twitter_ml_utils.get_twitter_stock_data(df_tweets=df_twitter, \n",
    "                                                        num_hold_days=num_hold_days, \n",
    "                                                        workflow_mode=workflow_mode)\n",
    "df_stock_data.head()"
   ]
  },
  {
   "cell_type": "code",
   "execution_count": 8,
   "metadata": {
    "pycharm": {
     "name": "#%%\n"
    }
   },
   "outputs": [],
   "source": [
    "# %%time\n",
    "\n",
    "df_rec_quart_drop = twitter_service.get_all_quarterly_data_for_twitter()\n",
    "\n",
    "columns_fundy = list(df_rec_quart_drop.columns)"
   ]
  },
  {
   "cell_type": "code",
   "execution_count": 9,
   "metadata": {
    "pycharm": {
     "name": "#%%\n"
    }
   },
   "outputs": [
    {
     "name": "stdout",
     "output_type": "stream",
     "text": [
      "Wall time: 7.41 s\n"
     ]
    },
    {
     "data": {
      "text/html": [
       "<div>\n",
       "<style scoped>\n",
       "    .dataframe tbody tr th:only-of-type {\n",
       "        vertical-align: middle;\n",
       "    }\n",
       "\n",
       "    .dataframe tbody tr th {\n",
       "        vertical-align: top;\n",
       "    }\n",
       "\n",
       "    .dataframe thead th {\n",
       "        text-align: right;\n",
       "    }\n",
       "</style>\n",
       "<table border=\"1\" class=\"dataframe\">\n",
       "  <thead>\n",
       "    <tr style=\"text-align: right;\">\n",
       "      <th></th>\n",
       "      <th>ticker</th>\n",
       "      <th>dimension</th>\n",
       "      <th>calendardate</th>\n",
       "      <th>datekey</th>\n",
       "      <th>reportperiod</th>\n",
       "      <th>lastupdated</th>\n",
       "      <th>accoci</th>\n",
       "      <th>assets</th>\n",
       "      <th>assetsavg</th>\n",
       "      <th>assetsc</th>\n",
       "      <th>assetsnc</th>\n",
       "      <th>assetturnover</th>\n",
       "      <th>bvps</th>\n",
       "      <th>capex</th>\n",
       "      <th>cashneq</th>\n",
       "      <th>cashnequsd</th>\n",
       "      <th>cor</th>\n",
       "      <th>consolinc</th>\n",
       "      <th>currentratio</th>\n",
       "      <th>de</th>\n",
       "      <th>debt</th>\n",
       "      <th>debtc</th>\n",
       "      <th>debtnc</th>\n",
       "      <th>debtusd</th>\n",
       "      <th>deferredrev</th>\n",
       "      <th>depamor</th>\n",
       "      <th>deposits</th>\n",
       "      <th>divyield</th>\n",
       "      <th>dps</th>\n",
       "      <th>ebit</th>\n",
       "      <th>ebitda</th>\n",
       "      <th>ebitdamargin</th>\n",
       "      <th>ebitdausd</th>\n",
       "      <th>ebitusd</th>\n",
       "      <th>ebt</th>\n",
       "      <th>eps</th>\n",
       "      <th>epsdil</th>\n",
       "      <th>epsusd</th>\n",
       "      <th>equity</th>\n",
       "      <th>equityavg</th>\n",
       "      <th>equityusd</th>\n",
       "      <th>ev</th>\n",
       "      <th>evebit</th>\n",
       "      <th>evebitda</th>\n",
       "      <th>fcf</th>\n",
       "      <th>fcfps</th>\n",
       "      <th>fxusd</th>\n",
       "      <th>gp</th>\n",
       "      <th>grossmargin</th>\n",
       "      <th>intangibles</th>\n",
       "      <th>intexp</th>\n",
       "      <th>invcap</th>\n",
       "      <th>invcapavg</th>\n",
       "      <th>inventory</th>\n",
       "      <th>investments</th>\n",
       "      <th>investmentsc</th>\n",
       "      <th>investmentsnc</th>\n",
       "      <th>liabilities</th>\n",
       "      <th>liabilitiesc</th>\n",
       "      <th>liabilitiesnc</th>\n",
       "      <th>marketcap</th>\n",
       "      <th>ncf</th>\n",
       "      <th>ncfbus</th>\n",
       "      <th>ncfcommon</th>\n",
       "      <th>ncfdebt</th>\n",
       "      <th>ncfdiv</th>\n",
       "      <th>ncff</th>\n",
       "      <th>ncfi</th>\n",
       "      <th>ncfinv</th>\n",
       "      <th>ncfo</th>\n",
       "      <th>ncfx</th>\n",
       "      <th>netinc</th>\n",
       "      <th>netinccmn</th>\n",
       "      <th>netinccmnusd</th>\n",
       "      <th>netincdis</th>\n",
       "      <th>netincnci</th>\n",
       "      <th>netmargin</th>\n",
       "      <th>opex</th>\n",
       "      <th>opinc</th>\n",
       "      <th>payables</th>\n",
       "      <th>payoutratio</th>\n",
       "      <th>pb</th>\n",
       "      <th>pe</th>\n",
       "      <th>pe1</th>\n",
       "      <th>ppnenet</th>\n",
       "      <th>prefdivis</th>\n",
       "      <th>price</th>\n",
       "      <th>ps</th>\n",
       "      <th>ps1</th>\n",
       "      <th>receivables</th>\n",
       "      <th>retearn</th>\n",
       "      <th>revenue</th>\n",
       "      <th>revenueusd</th>\n",
       "      <th>rnd</th>\n",
       "      <th>roa</th>\n",
       "      <th>roe</th>\n",
       "      <th>roic</th>\n",
       "      <th>ros</th>\n",
       "      <th>sbcomp</th>\n",
       "      <th>sgna</th>\n",
       "      <th>sharefactor</th>\n",
       "      <th>sharesbas</th>\n",
       "      <th>shareswa</th>\n",
       "      <th>shareswadil</th>\n",
       "      <th>sps</th>\n",
       "      <th>tangibles</th>\n",
       "      <th>taxassets</th>\n",
       "      <th>taxexp</th>\n",
       "      <th>taxliabilities</th>\n",
       "      <th>tbvps</th>\n",
       "      <th>workingcapital</th>\n",
       "      <th>date</th>\n",
       "      <th>open</th>\n",
       "      <th>high</th>\n",
       "      <th>low</th>\n",
       "      <th>close</th>\n",
       "      <th>volume</th>\n",
       "      <th>dividends</th>\n",
       "      <th>closeunadj</th>\n",
       "      <th>lastupdated_eq_fun</th>\n",
       "      <th>future_open</th>\n",
       "      <th>future_low</th>\n",
       "      <th>future_high</th>\n",
       "      <th>future_close</th>\n",
       "      <th>future_date</th>\n",
       "      <th>None</th>\n",
       "    </tr>\n",
       "  </thead>\n",
       "  <tbody>\n",
       "    <tr>\n",
       "      <th>0</th>\n",
       "      <td>A</td>\n",
       "      <td>ARQ</td>\n",
       "      <td>2015-03-31</td>\n",
       "      <td>2015-06-05</td>\n",
       "      <td>2015-04-30</td>\n",
       "      <td>2020-09-01</td>\n",
       "      <td>-270000000.0</td>\n",
       "      <td>7.412000e+09</td>\n",
       "      <td>NaN</td>\n",
       "      <td>3.620000e+09</td>\n",
       "      <td>3.792000e+09</td>\n",
       "      <td>NaN</td>\n",
       "      <td>12.449</td>\n",
       "      <td>-9000000.0</td>\n",
       "      <td>2.197000e+09</td>\n",
       "      <td>2.197000e+09</td>\n",
       "      <td>483000000.0</td>\n",
       "      <td>83000000.0</td>\n",
       "      <td>3.892</td>\n",
       "      <td>0.782</td>\n",
       "      <td>1.656000e+09</td>\n",
       "      <td>0.0</td>\n",
       "      <td>1.656000e+09</td>\n",
       "      <td>1.656000e+09</td>\n",
       "      <td>271000000.0</td>\n",
       "      <td>63000000.0</td>\n",
       "      <td>0.0</td>\n",
       "      <td>0.400</td>\n",
       "      <td>0.100</td>\n",
       "      <td>108000000.0</td>\n",
       "      <td>171000000.0</td>\n",
       "      <td>0.178</td>\n",
       "      <td>171000000.0</td>\n",
       "      <td>108000000.0</td>\n",
       "      <td>91000000.0</td>\n",
       "      <td>0.25</td>\n",
       "      <td>0.25</td>\n",
       "      <td>0.25</td>\n",
       "      <td>4.158000e+09</td>\n",
       "      <td>NaN</td>\n",
       "      <td>4.158000e+09</td>\n",
       "      <td>1.288996e+10</td>\n",
       "      <td>24.0</td>\n",
       "      <td>15.129</td>\n",
       "      <td>174000000.0</td>\n",
       "      <td>0.521</td>\n",
       "      <td>1.0</td>\n",
       "      <td>480000000.0</td>\n",
       "      <td>0.498</td>\n",
       "      <td>2.857000e+09</td>\n",
       "      <td>17000000.0</td>\n",
       "      <td>3.084000e+09</td>\n",
       "      <td>NaN</td>\n",
       "      <td>556000000.0</td>\n",
       "      <td>91000000.0</td>\n",
       "      <td>0.0</td>\n",
       "      <td>91000000.0</td>\n",
       "      <td>3.251000e+09</td>\n",
       "      <td>9.300000e+08</td>\n",
       "      <td>2.321000e+09</td>\n",
       "      <td>1.343096e+10</td>\n",
       "      <td>0.000000e+00</td>\n",
       "      <td>2000000.0</td>\n",
       "      <td>-130000000.0</td>\n",
       "      <td>0.0</td>\n",
       "      <td>-33000000.0</td>\n",
       "      <td>-101000000.0</td>\n",
       "      <td>-7000000.0</td>\n",
       "      <td>0.0</td>\n",
       "      <td>183000000.0</td>\n",
       "      <td>4000000.0</td>\n",
       "      <td>83000000.0</td>\n",
       "      <td>83000000.0</td>\n",
       "      <td>83000000.0</td>\n",
       "      <td>5000000.0</td>\n",
       "      <td>0.0</td>\n",
       "      <td>0.086</td>\n",
       "      <td>373000000.0</td>\n",
       "      <td>107000000.0</td>\n",
       "      <td>261000000.0</td>\n",
       "      <td>0.400</td>\n",
       "      <td>3.230</td>\n",
       "      <td>41.326</td>\n",
       "      <td>41.557</td>\n",
       "      <td>593000000.0</td>\n",
       "      <td>0.0</td>\n",
       "      <td>40.31</td>\n",
       "      <td>2.416</td>\n",
       "      <td>2.421</td>\n",
       "      <td>576000000.0</td>\n",
       "      <td>5.397000e+09</td>\n",
       "      <td>9.630000e+08</td>\n",
       "      <td>9.630000e+08</td>\n",
       "      <td>81000000.0</td>\n",
       "      <td>NaN</td>\n",
       "      <td>NaN</td>\n",
       "      <td>NaN</td>\n",
       "      <td>NaN</td>\n",
       "      <td>11000000.0</td>\n",
       "      <td>292000000.0</td>\n",
       "      <td>1.0</td>\n",
       "      <td>333191751.0</td>\n",
       "      <td>334000000.0</td>\n",
       "      <td>337000000.0</td>\n",
       "      <td>2.883</td>\n",
       "      <td>4.555000e+09</td>\n",
       "      <td>0.0</td>\n",
       "      <td>8000000.0</td>\n",
       "      <td>0.0</td>\n",
       "      <td>13.638</td>\n",
       "      <td>2.690000e+09</td>\n",
       "      <td>NaN</td>\n",
       "      <td>NaN</td>\n",
       "      <td>NaN</td>\n",
       "      <td>NaN</td>\n",
       "      <td>NaN</td>\n",
       "      <td>NaN</td>\n",
       "      <td>NaN</td>\n",
       "      <td>NaN</td>\n",
       "      <td>NaN</td>\n",
       "      <td>NaN</td>\n",
       "      <td>NaN</td>\n",
       "      <td>NaN</td>\n",
       "      <td>NaN</td>\n",
       "      <td>NaN</td>\n",
       "      <td>NaN</td>\n",
       "    </tr>\n",
       "    <tr>\n",
       "      <th>1</th>\n",
       "      <td>A</td>\n",
       "      <td>ARQ</td>\n",
       "      <td>2015-06-30</td>\n",
       "      <td>2015-09-02</td>\n",
       "      <td>2015-07-31</td>\n",
       "      <td>2020-09-01</td>\n",
       "      <td>-332000000.0</td>\n",
       "      <td>7.251000e+09</td>\n",
       "      <td>NaN</td>\n",
       "      <td>3.478000e+09</td>\n",
       "      <td>3.773000e+09</td>\n",
       "      <td>NaN</td>\n",
       "      <td>12.358</td>\n",
       "      <td>-19000000.0</td>\n",
       "      <td>2.075000e+09</td>\n",
       "      <td>2.075000e+09</td>\n",
       "      <td>501000000.0</td>\n",
       "      <td>103000000.0</td>\n",
       "      <td>4.077</td>\n",
       "      <td>0.767</td>\n",
       "      <td>1.655000e+09</td>\n",
       "      <td>0.0</td>\n",
       "      <td>1.655000e+09</td>\n",
       "      <td>1.655000e+09</td>\n",
       "      <td>265000000.0</td>\n",
       "      <td>62000000.0</td>\n",
       "      <td>0.0</td>\n",
       "      <td>0.453</td>\n",
       "      <td>0.100</td>\n",
       "      <td>143000000.0</td>\n",
       "      <td>205000000.0</td>\n",
       "      <td>0.202</td>\n",
       "      <td>205000000.0</td>\n",
       "      <td>143000000.0</td>\n",
       "      <td>126000000.0</td>\n",
       "      <td>0.31</td>\n",
       "      <td>0.31</td>\n",
       "      <td>0.31</td>\n",
       "      <td>4.103000e+09</td>\n",
       "      <td>NaN</td>\n",
       "      <td>4.103000e+09</td>\n",
       "      <td>1.135476e+10</td>\n",
       "      <td>25.0</td>\n",
       "      <td>15.200</td>\n",
       "      <td>72000000.0</td>\n",
       "      <td>0.217</td>\n",
       "      <td>1.0</td>\n",
       "      <td>513000000.0</td>\n",
       "      <td>0.506</td>\n",
       "      <td>2.850000e+09</td>\n",
       "      <td>17000000.0</td>\n",
       "      <td>3.128000e+09</td>\n",
       "      <td>NaN</td>\n",
       "      <td>545000000.0</td>\n",
       "      <td>88000000.0</td>\n",
       "      <td>0.0</td>\n",
       "      <td>88000000.0</td>\n",
       "      <td>3.145000e+09</td>\n",
       "      <td>8.530000e+08</td>\n",
       "      <td>2.292000e+09</td>\n",
       "      <td>1.177476e+10</td>\n",
       "      <td>0.000000e+00</td>\n",
       "      <td>-66000000.0</td>\n",
       "      <td>-82000000.0</td>\n",
       "      <td>0.0</td>\n",
       "      <td>-33000000.0</td>\n",
       "      <td>-110000000.0</td>\n",
       "      <td>-87000000.0</td>\n",
       "      <td>-2000000.0</td>\n",
       "      <td>91000000.0</td>\n",
       "      <td>-16000000.0</td>\n",
       "      <td>103000000.0</td>\n",
       "      <td>103000000.0</td>\n",
       "      <td>103000000.0</td>\n",
       "      <td>2000000.0</td>\n",
       "      <td>0.0</td>\n",
       "      <td>0.102</td>\n",
       "      <td>369000000.0</td>\n",
       "      <td>144000000.0</td>\n",
       "      <td>248000000.0</td>\n",
       "      <td>0.323</td>\n",
       "      <td>2.870</td>\n",
       "      <td>41.903</td>\n",
       "      <td>42.298</td>\n",
       "      <td>587000000.0</td>\n",
       "      <td>0.0</td>\n",
       "      <td>35.53</td>\n",
       "      <td>2.449</td>\n",
       "      <td>2.453</td>\n",
       "      <td>584000000.0</td>\n",
       "      <td>5.474000e+09</td>\n",
       "      <td>1.014000e+09</td>\n",
       "      <td>1.014000e+09</td>\n",
       "      <td>79000000.0</td>\n",
       "      <td>NaN</td>\n",
       "      <td>NaN</td>\n",
       "      <td>NaN</td>\n",
       "      <td>NaN</td>\n",
       "      <td>5000000.0</td>\n",
       "      <td>290000000.0</td>\n",
       "      <td>1.0</td>\n",
       "      <td>331403231.0</td>\n",
       "      <td>332000000.0</td>\n",
       "      <td>334000000.0</td>\n",
       "      <td>3.054</td>\n",
       "      <td>4.401000e+09</td>\n",
       "      <td>0.0</td>\n",
       "      <td>23000000.0</td>\n",
       "      <td>0.0</td>\n",
       "      <td>13.256</td>\n",
       "      <td>2.625000e+09</td>\n",
       "      <td>NaN</td>\n",
       "      <td>NaN</td>\n",
       "      <td>NaN</td>\n",
       "      <td>NaN</td>\n",
       "      <td>NaN</td>\n",
       "      <td>NaN</td>\n",
       "      <td>NaN</td>\n",
       "      <td>NaN</td>\n",
       "      <td>NaN</td>\n",
       "      <td>NaN</td>\n",
       "      <td>NaN</td>\n",
       "      <td>NaN</td>\n",
       "      <td>NaN</td>\n",
       "      <td>NaN</td>\n",
       "      <td>NaN</td>\n",
       "    </tr>\n",
       "    <tr>\n",
       "      <th>2</th>\n",
       "      <td>A</td>\n",
       "      <td>ARQ</td>\n",
       "      <td>2015-09-30</td>\n",
       "      <td>2015-12-21</td>\n",
       "      <td>2015-10-31</td>\n",
       "      <td>2020-09-01</td>\n",
       "      <td>-391000000.0</td>\n",
       "      <td>7.479000e+09</td>\n",
       "      <td>NaN</td>\n",
       "      <td>3.686000e+09</td>\n",
       "      <td>3.793000e+09</td>\n",
       "      <td>NaN</td>\n",
       "      <td>12.627</td>\n",
       "      <td>-26000000.0</td>\n",
       "      <td>2.245000e+09</td>\n",
       "      <td>2.245000e+09</td>\n",
       "      <td>500000000.0</td>\n",
       "      <td>143000000.0</td>\n",
       "      <td>3.777</td>\n",
       "      <td>0.794</td>\n",
       "      <td>1.655000e+09</td>\n",
       "      <td>0.0</td>\n",
       "      <td>1.655000e+09</td>\n",
       "      <td>1.655000e+09</td>\n",
       "      <td>258000000.0</td>\n",
       "      <td>60000000.0</td>\n",
       "      <td>0.0</td>\n",
       "      <td>0.010</td>\n",
       "      <td>0.100</td>\n",
       "      <td>159000000.0</td>\n",
       "      <td>219000000.0</td>\n",
       "      <td>0.212</td>\n",
       "      <td>219000000.0</td>\n",
       "      <td>159000000.0</td>\n",
       "      <td>143000000.0</td>\n",
       "      <td>0.43</td>\n",
       "      <td>0.43</td>\n",
       "      <td>0.43</td>\n",
       "      <td>4.167000e+09</td>\n",
       "      <td>NaN</td>\n",
       "      <td>4.167000e+09</td>\n",
       "      <td>1.297254e+10</td>\n",
       "      <td>25.0</td>\n",
       "      <td>17.024</td>\n",
       "      <td>211000000.0</td>\n",
       "      <td>0.639</td>\n",
       "      <td>1.0</td>\n",
       "      <td>535000000.0</td>\n",
       "      <td>0.517</td>\n",
       "      <td>2.811000e+09</td>\n",
       "      <td>16000000.0</td>\n",
       "      <td>3.102000e+09</td>\n",
       "      <td>NaN</td>\n",
       "      <td>541000000.0</td>\n",
       "      <td>86000000.0</td>\n",
       "      <td>0.0</td>\n",
       "      <td>86000000.0</td>\n",
       "      <td>3.309000e+09</td>\n",
       "      <td>9.760000e+08</td>\n",
       "      <td>2.333000e+09</td>\n",
       "      <td>1.356254e+10</td>\n",
       "      <td>-1.026000e+09</td>\n",
       "      <td>-8000000.0</td>\n",
       "      <td>1000000.0</td>\n",
       "      <td>0.0</td>\n",
       "      <td>-33000000.0</td>\n",
       "      <td>-29000000.0</td>\n",
       "      <td>-275000000.0</td>\n",
       "      <td>-240000000.0</td>\n",
       "      <td>237000000.0</td>\n",
       "      <td>-5000000.0</td>\n",
       "      <td>143000000.0</td>\n",
       "      <td>143000000.0</td>\n",
       "      <td>143000000.0</td>\n",
       "      <td>0.0</td>\n",
       "      <td>0.0</td>\n",
       "      <td>0.138</td>\n",
       "      <td>379000000.0</td>\n",
       "      <td>156000000.0</td>\n",
       "      <td>279000000.0</td>\n",
       "      <td>0.233</td>\n",
       "      <td>3.255</td>\n",
       "      <td>33.822</td>\n",
       "      <td>34.025</td>\n",
       "      <td>604000000.0</td>\n",
       "      <td>0.0</td>\n",
       "      <td>40.83</td>\n",
       "      <td>3.359</td>\n",
       "      <td>3.367</td>\n",
       "      <td>606000000.0</td>\n",
       "      <td>5.581000e+09</td>\n",
       "      <td>1.035000e+09</td>\n",
       "      <td>1.035000e+09</td>\n",
       "      <td>82000000.0</td>\n",
       "      <td>NaN</td>\n",
       "      <td>NaN</td>\n",
       "      <td>NaN</td>\n",
       "      <td>NaN</td>\n",
       "      <td>8000000.0</td>\n",
       "      <td>297000000.0</td>\n",
       "      <td>1.0</td>\n",
       "      <td>332170890.0</td>\n",
       "      <td>330000000.0</td>\n",
       "      <td>332000000.0</td>\n",
       "      <td>3.136</td>\n",
       "      <td>4.668000e+09</td>\n",
       "      <td>0.0</td>\n",
       "      <td>0.0</td>\n",
       "      <td>0.0</td>\n",
       "      <td>14.145</td>\n",
       "      <td>2.710000e+09</td>\n",
       "      <td>NaN</td>\n",
       "      <td>NaN</td>\n",
       "      <td>NaN</td>\n",
       "      <td>NaN</td>\n",
       "      <td>NaN</td>\n",
       "      <td>NaN</td>\n",
       "      <td>NaN</td>\n",
       "      <td>NaN</td>\n",
       "      <td>NaN</td>\n",
       "      <td>NaN</td>\n",
       "      <td>NaN</td>\n",
       "      <td>NaN</td>\n",
       "      <td>NaN</td>\n",
       "      <td>NaN</td>\n",
       "      <td>NaN</td>\n",
       "    </tr>\n",
       "    <tr>\n",
       "      <th>3</th>\n",
       "      <td>A</td>\n",
       "      <td>ARQ</td>\n",
       "      <td>2015-12-31</td>\n",
       "      <td>2016-03-08</td>\n",
       "      <td>2016-01-31</td>\n",
       "      <td>2020-09-01</td>\n",
       "      <td>-438000000.0</td>\n",
       "      <td>7.302000e+09</td>\n",
       "      <td>NaN</td>\n",
       "      <td>3.399000e+09</td>\n",
       "      <td>3.903000e+09</td>\n",
       "      <td>NaN</td>\n",
       "      <td>12.295</td>\n",
       "      <td>-38000000.0</td>\n",
       "      <td>1.931000e+09</td>\n",
       "      <td>1.931000e+09</td>\n",
       "      <td>491000000.0</td>\n",
       "      <td>123000000.0</td>\n",
       "      <td>3.589</td>\n",
       "      <td>0.804</td>\n",
       "      <td>1.733000e+09</td>\n",
       "      <td>80000000.0</td>\n",
       "      <td>1.653000e+09</td>\n",
       "      <td>1.733000e+09</td>\n",
       "      <td>277000000.0</td>\n",
       "      <td>66000000.0</td>\n",
       "      <td>0.0</td>\n",
       "      <td>0.011</td>\n",
       "      <td>0.115</td>\n",
       "      <td>160000000.0</td>\n",
       "      <td>226000000.0</td>\n",
       "      <td>0.220</td>\n",
       "      <td>226000000.0</td>\n",
       "      <td>160000000.0</td>\n",
       "      <td>142000000.0</td>\n",
       "      <td>0.37</td>\n",
       "      <td>0.37</td>\n",
       "      <td>0.37</td>\n",
       "      <td>4.045000e+09</td>\n",
       "      <td>NaN</td>\n",
       "      <td>4.045000e+09</td>\n",
       "      <td>1.228676e+10</td>\n",
       "      <td>22.0</td>\n",
       "      <td>14.966</td>\n",
       "      <td>66000000.0</td>\n",
       "      <td>0.201</td>\n",
       "      <td>1.0</td>\n",
       "      <td>537000000.0</td>\n",
       "      <td>0.522</td>\n",
       "      <td>2.991000e+09</td>\n",
       "      <td>18000000.0</td>\n",
       "      <td>3.166000e+09</td>\n",
       "      <td>NaN</td>\n",
       "      <td>554000000.0</td>\n",
       "      <td>76000000.0</td>\n",
       "      <td>0.0</td>\n",
       "      <td>76000000.0</td>\n",
       "      <td>3.254000e+09</td>\n",
       "      <td>9.470000e+08</td>\n",
       "      <td>2.307000e+09</td>\n",
       "      <td>1.248476e+10</td>\n",
       "      <td>2.450000e+08</td>\n",
       "      <td>-235000000.0</td>\n",
       "      <td>-176000000.0</td>\n",
       "      <td>80000000.0</td>\n",
       "      <td>-38000000.0</td>\n",
       "      <td>-132000000.0</td>\n",
       "      <td>-28000000.0</td>\n",
       "      <td>0.0</td>\n",
       "      <td>104000000.0</td>\n",
       "      <td>-16000000.0</td>\n",
       "      <td>123000000.0</td>\n",
       "      <td>123000000.0</td>\n",
       "      <td>123000000.0</td>\n",
       "      <td>0.0</td>\n",
       "      <td>0.0</td>\n",
       "      <td>0.120</td>\n",
       "      <td>382000000.0</td>\n",
       "      <td>155000000.0</td>\n",
       "      <td>250000000.0</td>\n",
       "      <td>0.311</td>\n",
       "      <td>3.086</td>\n",
       "      <td>27.621</td>\n",
       "      <td>28.007</td>\n",
       "      <td>594000000.0</td>\n",
       "      <td>0.0</td>\n",
       "      <td>38.09</td>\n",
       "      <td>3.090</td>\n",
       "      <td>3.102</td>\n",
       "      <td>617000000.0</td>\n",
       "      <td>5.666000e+09</td>\n",
       "      <td>1.028000e+09</td>\n",
       "      <td>1.028000e+09</td>\n",
       "      <td>78000000.0</td>\n",
       "      <td>NaN</td>\n",
       "      <td>NaN</td>\n",
       "      <td>NaN</td>\n",
       "      <td>NaN</td>\n",
       "      <td>21000000.0</td>\n",
       "      <td>304000000.0</td>\n",
       "      <td>1.0</td>\n",
       "      <td>327770081.0</td>\n",
       "      <td>329000000.0</td>\n",
       "      <td>332000000.0</td>\n",
       "      <td>3.125</td>\n",
       "      <td>4.311000e+09</td>\n",
       "      <td>0.0</td>\n",
       "      <td>19000000.0</td>\n",
       "      <td>0.0</td>\n",
       "      <td>13.103</td>\n",
       "      <td>2.452000e+09</td>\n",
       "      <td>NaN</td>\n",
       "      <td>NaN</td>\n",
       "      <td>NaN</td>\n",
       "      <td>NaN</td>\n",
       "      <td>NaN</td>\n",
       "      <td>NaN</td>\n",
       "      <td>NaN</td>\n",
       "      <td>NaN</td>\n",
       "      <td>NaN</td>\n",
       "      <td>NaN</td>\n",
       "      <td>NaN</td>\n",
       "      <td>NaN</td>\n",
       "      <td>NaN</td>\n",
       "      <td>NaN</td>\n",
       "      <td>NaN</td>\n",
       "    </tr>\n",
       "    <tr>\n",
       "      <th>4</th>\n",
       "      <td>A</td>\n",
       "      <td>ARQ</td>\n",
       "      <td>2016-03-31</td>\n",
       "      <td>2016-06-07</td>\n",
       "      <td>2016-04-30</td>\n",
       "      <td>2020-09-01</td>\n",
       "      <td>-299000000.0</td>\n",
       "      <td>7.640000e+09</td>\n",
       "      <td>NaN</td>\n",
       "      <td>3.488000e+09</td>\n",
       "      <td>4.152000e+09</td>\n",
       "      <td>NaN</td>\n",
       "      <td>12.767</td>\n",
       "      <td>-25000000.0</td>\n",
       "      <td>2.139000e+09</td>\n",
       "      <td>2.139000e+09</td>\n",
       "      <td>489000000.0</td>\n",
       "      <td>91000000.0</td>\n",
       "      <td>3.079</td>\n",
       "      <td>0.835</td>\n",
       "      <td>1.889000e+09</td>\n",
       "      <td>235000000.0</td>\n",
       "      <td>1.654000e+09</td>\n",
       "      <td>1.889000e+09</td>\n",
       "      <td>279000000.0</td>\n",
       "      <td>64000000.0</td>\n",
       "      <td>0.0</td>\n",
       "      <td>0.009</td>\n",
       "      <td>0.115</td>\n",
       "      <td>135000000.0</td>\n",
       "      <td>199000000.0</td>\n",
       "      <td>0.195</td>\n",
       "      <td>199000000.0</td>\n",
       "      <td>135000000.0</td>\n",
       "      <td>117000000.0</td>\n",
       "      <td>0.28</td>\n",
       "      <td>0.28</td>\n",
       "      <td>0.28</td>\n",
       "      <td>4.162000e+09</td>\n",
       "      <td>NaN</td>\n",
       "      <td>4.162000e+09</td>\n",
       "      <td>1.464262e+10</td>\n",
       "      <td>25.0</td>\n",
       "      <td>17.247</td>\n",
       "      <td>231000000.0</td>\n",
       "      <td>0.709</td>\n",
       "      <td>1.0</td>\n",
       "      <td>530000000.0</td>\n",
       "      <td>0.520</td>\n",
       "      <td>3.046000e+09</td>\n",
       "      <td>18000000.0</td>\n",
       "      <td>3.211000e+09</td>\n",
       "      <td>NaN</td>\n",
       "      <td>555000000.0</td>\n",
       "      <td>157000000.0</td>\n",
       "      <td>0.0</td>\n",
       "      <td>157000000.0</td>\n",
       "      <td>3.475000e+09</td>\n",
       "      <td>1.133000e+09</td>\n",
       "      <td>2.342000e+09</td>\n",
       "      <td>1.489262e+10</td>\n",
       "      <td>0.000000e+00</td>\n",
       "      <td>0.0</td>\n",
       "      <td>-86000000.0</td>\n",
       "      <td>155000000.0</td>\n",
       "      <td>-37000000.0</td>\n",
       "      <td>30000000.0</td>\n",
       "      <td>-108000000.0</td>\n",
       "      <td>-83000000.0</td>\n",
       "      <td>256000000.0</td>\n",
       "      <td>30000000.0</td>\n",
       "      <td>91000000.0</td>\n",
       "      <td>91000000.0</td>\n",
       "      <td>91000000.0</td>\n",
       "      <td>0.0</td>\n",
       "      <td>0.0</td>\n",
       "      <td>0.089</td>\n",
       "      <td>399000000.0</td>\n",
       "      <td>131000000.0</td>\n",
       "      <td>220000000.0</td>\n",
       "      <td>0.411</td>\n",
       "      <td>3.578</td>\n",
       "      <td>32.375</td>\n",
       "      <td>32.914</td>\n",
       "      <td>610000000.0</td>\n",
       "      <td>0.0</td>\n",
       "      <td>45.75</td>\n",
       "      <td>3.636</td>\n",
       "      <td>3.641</td>\n",
       "      <td>602000000.0</td>\n",
       "      <td>5.720000e+09</td>\n",
       "      <td>1.019000e+09</td>\n",
       "      <td>1.019000e+09</td>\n",
       "      <td>81000000.0</td>\n",
       "      <td>NaN</td>\n",
       "      <td>NaN</td>\n",
       "      <td>NaN</td>\n",
       "      <td>NaN</td>\n",
       "      <td>15000000.0</td>\n",
       "      <td>318000000.0</td>\n",
       "      <td>1.0</td>\n",
       "      <td>325521700.0</td>\n",
       "      <td>326000000.0</td>\n",
       "      <td>328000000.0</td>\n",
       "      <td>3.126</td>\n",
       "      <td>4.594000e+09</td>\n",
       "      <td>0.0</td>\n",
       "      <td>26000000.0</td>\n",
       "      <td>0.0</td>\n",
       "      <td>14.092</td>\n",
       "      <td>2.355000e+09</td>\n",
       "      <td>NaN</td>\n",
       "      <td>NaN</td>\n",
       "      <td>NaN</td>\n",
       "      <td>NaN</td>\n",
       "      <td>NaN</td>\n",
       "      <td>NaN</td>\n",
       "      <td>NaN</td>\n",
       "      <td>NaN</td>\n",
       "      <td>NaN</td>\n",
       "      <td>NaN</td>\n",
       "      <td>NaN</td>\n",
       "      <td>NaN</td>\n",
       "      <td>NaN</td>\n",
       "      <td>NaN</td>\n",
       "      <td>NaN</td>\n",
       "    </tr>\n",
       "  </tbody>\n",
       "</table>\n",
       "</div>"
      ],
      "text/plain": [
       "  ticker dimension calendardate     datekey reportperiod lastupdated       accoci        assets  assetsavg       assetsc      assetsnc  assetturnover    bvps       capex       cashneq    cashnequsd          cor    consolinc  currentratio     de          debt        debtc        debtnc       debtusd  deferredrev     depamor  deposits  divyield    dps         ebit       ebitda  ebitdamargin    ebitdausd      ebitusd          ebt   eps  epsdil  epsusd        equity  equityavg     equityusd            ev  evebit  evebitda          fcf  fcfps  fxusd           gp  grossmargin   intangibles      intexp        invcap  invcapavg    inventory  investments  investmentsc  investmentsnc   liabilities  liabilitiesc  liabilitiesnc     marketcap           ncf       ncfbus    ncfcommon      ncfdebt      ncfdiv         ncff         ncfi       ncfinv         ncfo        ncfx       netinc    netinccmn  netinccmnusd  netincdis  netincnci  netmargin         opex        opinc     payables  payoutratio  \\\n",
       "0      A       ARQ   2015-03-31  2015-06-05   2015-04-30  2020-09-01 -270000000.0  7.412000e+09        NaN  3.620000e+09  3.792000e+09            NaN  12.449  -9000000.0  2.197000e+09  2.197000e+09  483000000.0   83000000.0         3.892  0.782  1.656000e+09          0.0  1.656000e+09  1.656000e+09  271000000.0  63000000.0       0.0     0.400  0.100  108000000.0  171000000.0         0.178  171000000.0  108000000.0   91000000.0  0.25    0.25    0.25  4.158000e+09        NaN  4.158000e+09  1.288996e+10    24.0    15.129  174000000.0  0.521    1.0  480000000.0        0.498  2.857000e+09  17000000.0  3.084000e+09        NaN  556000000.0   91000000.0           0.0     91000000.0  3.251000e+09  9.300000e+08   2.321000e+09  1.343096e+10  0.000000e+00    2000000.0 -130000000.0          0.0 -33000000.0 -101000000.0   -7000000.0          0.0  183000000.0   4000000.0   83000000.0   83000000.0    83000000.0  5000000.0        0.0      0.086  373000000.0  107000000.0  261000000.0        0.400   \n",
       "1      A       ARQ   2015-06-30  2015-09-02   2015-07-31  2020-09-01 -332000000.0  7.251000e+09        NaN  3.478000e+09  3.773000e+09            NaN  12.358 -19000000.0  2.075000e+09  2.075000e+09  501000000.0  103000000.0         4.077  0.767  1.655000e+09          0.0  1.655000e+09  1.655000e+09  265000000.0  62000000.0       0.0     0.453  0.100  143000000.0  205000000.0         0.202  205000000.0  143000000.0  126000000.0  0.31    0.31    0.31  4.103000e+09        NaN  4.103000e+09  1.135476e+10    25.0    15.200   72000000.0  0.217    1.0  513000000.0        0.506  2.850000e+09  17000000.0  3.128000e+09        NaN  545000000.0   88000000.0           0.0     88000000.0  3.145000e+09  8.530000e+08   2.292000e+09  1.177476e+10  0.000000e+00  -66000000.0  -82000000.0          0.0 -33000000.0 -110000000.0  -87000000.0   -2000000.0   91000000.0 -16000000.0  103000000.0  103000000.0   103000000.0  2000000.0        0.0      0.102  369000000.0  144000000.0  248000000.0        0.323   \n",
       "2      A       ARQ   2015-09-30  2015-12-21   2015-10-31  2020-09-01 -391000000.0  7.479000e+09        NaN  3.686000e+09  3.793000e+09            NaN  12.627 -26000000.0  2.245000e+09  2.245000e+09  500000000.0  143000000.0         3.777  0.794  1.655000e+09          0.0  1.655000e+09  1.655000e+09  258000000.0  60000000.0       0.0     0.010  0.100  159000000.0  219000000.0         0.212  219000000.0  159000000.0  143000000.0  0.43    0.43    0.43  4.167000e+09        NaN  4.167000e+09  1.297254e+10    25.0    17.024  211000000.0  0.639    1.0  535000000.0        0.517  2.811000e+09  16000000.0  3.102000e+09        NaN  541000000.0   86000000.0           0.0     86000000.0  3.309000e+09  9.760000e+08   2.333000e+09  1.356254e+10 -1.026000e+09   -8000000.0    1000000.0          0.0 -33000000.0  -29000000.0 -275000000.0 -240000000.0  237000000.0  -5000000.0  143000000.0  143000000.0   143000000.0        0.0        0.0      0.138  379000000.0  156000000.0  279000000.0        0.233   \n",
       "3      A       ARQ   2015-12-31  2016-03-08   2016-01-31  2020-09-01 -438000000.0  7.302000e+09        NaN  3.399000e+09  3.903000e+09            NaN  12.295 -38000000.0  1.931000e+09  1.931000e+09  491000000.0  123000000.0         3.589  0.804  1.733000e+09   80000000.0  1.653000e+09  1.733000e+09  277000000.0  66000000.0       0.0     0.011  0.115  160000000.0  226000000.0         0.220  226000000.0  160000000.0  142000000.0  0.37    0.37    0.37  4.045000e+09        NaN  4.045000e+09  1.228676e+10    22.0    14.966   66000000.0  0.201    1.0  537000000.0        0.522  2.991000e+09  18000000.0  3.166000e+09        NaN  554000000.0   76000000.0           0.0     76000000.0  3.254000e+09  9.470000e+08   2.307000e+09  1.248476e+10  2.450000e+08 -235000000.0 -176000000.0   80000000.0 -38000000.0 -132000000.0  -28000000.0          0.0  104000000.0 -16000000.0  123000000.0  123000000.0   123000000.0        0.0        0.0      0.120  382000000.0  155000000.0  250000000.0        0.311   \n",
       "4      A       ARQ   2016-03-31  2016-06-07   2016-04-30  2020-09-01 -299000000.0  7.640000e+09        NaN  3.488000e+09  4.152000e+09            NaN  12.767 -25000000.0  2.139000e+09  2.139000e+09  489000000.0   91000000.0         3.079  0.835  1.889000e+09  235000000.0  1.654000e+09  1.889000e+09  279000000.0  64000000.0       0.0     0.009  0.115  135000000.0  199000000.0         0.195  199000000.0  135000000.0  117000000.0  0.28    0.28    0.28  4.162000e+09        NaN  4.162000e+09  1.464262e+10    25.0    17.247  231000000.0  0.709    1.0  530000000.0        0.520  3.046000e+09  18000000.0  3.211000e+09        NaN  555000000.0  157000000.0           0.0    157000000.0  3.475000e+09  1.133000e+09   2.342000e+09  1.489262e+10  0.000000e+00          0.0  -86000000.0  155000000.0 -37000000.0   30000000.0 -108000000.0  -83000000.0  256000000.0  30000000.0   91000000.0   91000000.0    91000000.0        0.0        0.0      0.089  399000000.0  131000000.0  220000000.0        0.411   \n",
       "\n",
       "      pb      pe     pe1      ppnenet  prefdivis  price     ps    ps1  receivables       retearn       revenue    revenueusd         rnd  roa  roe  roic  ros      sbcomp         sgna  sharefactor    sharesbas     shareswa  shareswadil    sps     tangibles  taxassets      taxexp  taxliabilities   tbvps  workingcapital date  open  high  low  close  volume  dividends  closeunadj lastupdated_eq_fun  future_open  future_low  future_high  future_close future_date  None  \n",
       "0  3.230  41.326  41.557  593000000.0        0.0  40.31  2.416  2.421  576000000.0  5.397000e+09  9.630000e+08  9.630000e+08  81000000.0  NaN  NaN   NaN  NaN  11000000.0  292000000.0          1.0  333191751.0  334000000.0  337000000.0  2.883  4.555000e+09        0.0   8000000.0             0.0  13.638    2.690000e+09  NaN   NaN   NaN  NaN    NaN     NaN        NaN         NaN                NaN          NaN         NaN          NaN           NaN         NaN   NaN  \n",
       "1  2.870  41.903  42.298  587000000.0        0.0  35.53  2.449  2.453  584000000.0  5.474000e+09  1.014000e+09  1.014000e+09  79000000.0  NaN  NaN   NaN  NaN   5000000.0  290000000.0          1.0  331403231.0  332000000.0  334000000.0  3.054  4.401000e+09        0.0  23000000.0             0.0  13.256    2.625000e+09  NaN   NaN   NaN  NaN    NaN     NaN        NaN         NaN                NaN          NaN         NaN          NaN           NaN         NaN   NaN  \n",
       "2  3.255  33.822  34.025  604000000.0        0.0  40.83  3.359  3.367  606000000.0  5.581000e+09  1.035000e+09  1.035000e+09  82000000.0  NaN  NaN   NaN  NaN   8000000.0  297000000.0          1.0  332170890.0  330000000.0  332000000.0  3.136  4.668000e+09        0.0         0.0             0.0  14.145    2.710000e+09  NaN   NaN   NaN  NaN    NaN     NaN        NaN         NaN                NaN          NaN         NaN          NaN           NaN         NaN   NaN  \n",
       "3  3.086  27.621  28.007  594000000.0        0.0  38.09  3.090  3.102  617000000.0  5.666000e+09  1.028000e+09  1.028000e+09  78000000.0  NaN  NaN   NaN  NaN  21000000.0  304000000.0          1.0  327770081.0  329000000.0  332000000.0  3.125  4.311000e+09        0.0  19000000.0             0.0  13.103    2.452000e+09  NaN   NaN   NaN  NaN    NaN     NaN        NaN         NaN                NaN          NaN         NaN          NaN           NaN         NaN   NaN  \n",
       "4  3.578  32.375  32.914  610000000.0        0.0  45.75  3.636  3.641  602000000.0  5.720000e+09  1.019000e+09  1.019000e+09  81000000.0  NaN  NaN   NaN  NaN  15000000.0  318000000.0          1.0  325521700.0  326000000.0  328000000.0  3.126  4.594000e+09        0.0  26000000.0             0.0  14.092    2.355000e+09  NaN   NaN   NaN  NaN    NaN     NaN        NaN         NaN                NaN          NaN         NaN          NaN           NaN         NaN   NaN  "
      ]
     },
     "execution_count": 9,
     "metadata": {},
     "output_type": "execute_result"
    }
   ],
   "source": [
    "%%time\n",
    "\n",
    "df_result = twitter_ml_utils.merge_fundies_with_stock(df_stock_data=df_stock_data)\n",
    "df_result.head()\n"
   ]
  },
  {
   "cell_type": "code",
   "execution_count": 10,
   "metadata": {},
   "outputs": [
    {
     "data": {
      "text/plain": [
       "1183105"
      ]
     },
     "execution_count": 10,
     "metadata": {},
     "output_type": "execute_result"
    }
   ],
   "source": [
    "df_drop_init = df_result.dropna(subset=[\"date\"]).drop(columns=\"lastupdated_eq_fun\")\n",
    "\n",
    "df_drop_future = df_drop_init[df_drop_init[\"date\"] > df_drop_init[\"calendardate\"]]\n",
    "\n",
    "df_drop_future = df_drop_future.sort_values(by=[\"ticker\", \"date\", \"calendardate\"], ascending=False)\n",
    "\n",
    "df_stock_and_quarter = df_drop_future.drop_duplicates(subset=[\"ticker\", \"date\"], keep=\"first\")\n",
    "\n",
    "# df_stock_and_quarter.shape[0]\n",
    "df_drop_init.shape[0]"
   ]
  },
  {
   "cell_type": "code",
   "execution_count": 11,
   "metadata": {
    "pycharm": {
     "name": "#%%\n"
    }
   },
   "outputs": [
    {
     "name": "stderr",
     "output_type": "stream",
     "text": [
      "c:\\programdata\\miniconda3\\envs\\alpha_media_signal\\lib\\site-packages\\pandas\\core\\indexing.py:1763: SettingWithCopyWarning: \n",
      "A value is trying to be set on a copy of a slice from a DataFrame.\n",
      "Try using .loc[row_indexer,col_indexer] = value instead\n",
      "\n",
      "See the caveats in the documentation: https://pandas.pydata.org/pandas-docs/stable/user_guide/indexing.html#returning-a-view-versus-a-copy\n",
      "  isetter(loc, value)\n",
      "c:\\programdata\\miniconda3\\envs\\alpha_media_signal\\lib\\site-packages\\pandas\\core\\indexing.py:1743: SettingWithCopyWarning: \n",
      "A value is trying to be set on a copy of a slice from a DataFrame.\n",
      "Try using .loc[row_indexer,col_indexer] = value instead\n",
      "\n",
      "See the caveats in the documentation: https://pandas.pydata.org/pandas-docs/stable/user_guide/indexing.html#returning-a-view-versus-a-copy\n",
      "  isetter(ilocs[0], value)\n"
     ]
    }
   ],
   "source": [
    "df_nas_tickers_info, cat_uniques = ticker_service.get_nasdaq_tickers(cat_uniques=cat_uniques)"
   ]
  },
  {
   "cell_type": "code",
   "execution_count": 12,
   "metadata": {
    "pycharm": {
     "name": "#%%\n"
    }
   },
   "outputs": [
    {
     "name": "stdout",
     "output_type": "stream",
     "text": [
      "Wall time: 0 ns\n"
     ]
    },
    {
     "data": {
      "text/plain": [
       "112102"
      ]
     },
     "execution_count": 12,
     "metadata": {},
     "output_type": "execute_result"
    }
   ],
   "source": [
    "%time\n",
    "\n",
    "col_ticker = \"ticker_drop\"\n",
    "\n",
    "df_stock_quart_info = pd.merge(df_stock_and_quarter, df_nas_tickers_info, how='inner', left_on=[\"ticker\"], right_on=[col_ticker])\n",
    "df_sqi = df_stock_quart_info.drop(columns=[col_ticker])\n",
    "\n",
    "df_sqi.shape[0]"
   ]
  },
  {
   "cell_type": "code",
   "execution_count": 13,
   "metadata": {
    "pycharm": {
     "name": "#%%\n"
    }
   },
   "outputs": [
    {
     "name": "stdout",
     "output_type": "stream",
     "text": [
      "Num merged: 112102\n",
      "Wall time: 1.25 s\n"
     ]
    }
   ],
   "source": [
    "%%time\n",
    "\n",
    "df_stock_renamed = df_sqi.rename(columns={\"ticker\": \"f22_ticker\"})\n",
    "\n",
    "if 'None' in df_stock_renamed.columns:\n",
    "    df_stock_renamed = df_stock_renamed.drop(columns=['None'])\n",
    "\n",
    "df_merged = pd.merge(df_twitter, df_stock_renamed, how='inner', left_on=[\"f22_ticker\",\"date\"], right_on=[\"f22_ticker\",\"date\"])\n",
    "\n",
    "print(f'Num merged: {df_merged.shape[0]}')"
   ]
  },
  {
   "cell_type": "code",
   "execution_count": 14,
   "metadata": {},
   "outputs": [
    {
     "name": "stdout",
     "output_type": "stream",
     "text": [
      "Num rows in play: 112102\n"
     ]
    }
   ],
   "source": [
    "df_days = twitter_ml_utils.add_days_since_quarter_results(df=df_merged)"
   ]
  },
  {
   "cell_type": "code",
   "execution_count": 15,
   "metadata": {},
   "outputs": [
    {
     "data": {
      "text/plain": [
       "'2020-10-29'"
      ]
     },
     "execution_count": 15,
     "metadata": {},
     "output_type": "execute_result"
    }
   ],
   "source": [
    "df_days[\"future_date\"].max()"
   ]
  },
  {
   "cell_type": "code",
   "execution_count": 16,
   "metadata": {},
   "outputs": [
    {
     "name": "stdout",
     "output_type": "stream",
     "text": [
      "Wall time: 7.41 s\n"
     ]
    },
    {
     "data": {
      "text/plain": [
       "'2020-10-29'"
      ]
     },
     "execution_count": 16,
     "metadata": {},
     "output_type": "execute_result"
    }
   ],
   "source": [
    "%%time\n",
    "\n",
    "df_days_of = twitter_ml_utils.add_calendar_days(df=df_days)\n",
    "\n",
    "df_days_of[\"future_date\"].max()"
   ]
  },
  {
   "cell_type": "code",
   "execution_count": 17,
   "metadata": {},
   "outputs": [
    {
     "name": "stdout",
     "output_type": "stream",
     "text": [
      "Wall time: 1.59 s\n"
     ]
    }
   ],
   "source": [
    "%%time\n",
    "\n",
    "df_dd = twitter_ml_utils.add_nasdaq_roi(df=df_days_of)"
   ]
  },
  {
   "cell_type": "code",
   "execution_count": 18,
   "metadata": {
    "pycharm": {
     "name": "#%%\n"
    }
   },
   "outputs": [
    {
     "name": "stdout",
     "output_type": "stream",
     "text": [
      "Wall time: 129 ms\n"
     ]
    }
   ],
   "source": [
    "%%time\n",
    "\n",
    "if workflow_mode == WorkflowMode.Training:\n",
    "    df_thin_rabbit = twitter_service.add_buy_sell(df=df_dd)\n",
    "else:\n",
    "    df_thin_rabbit = df_dd"
   ]
  },
  {
   "cell_type": "code",
   "execution_count": 19,
   "metadata": {
    "pycharm": {
     "name": "#%%\n"
    }
   },
   "outputs": [
    {
     "name": "stdout",
     "output_type": "stream",
     "text": [
      "Num df_thin_rabbit: 56051\n"
     ]
    }
   ],
   "source": [
    "df_thin_rabbit[\"original_close_price\"] = df_thin_rabbit[\"close\"]\n",
    "df_thin_rabbit[\"date\"].max()\n",
    "print(f'Num df_thin_rabbit: {df_thin_rabbit.shape[0]}')"
   ]
  },
  {
   "cell_type": "code",
   "execution_count": 20,
   "metadata": {},
   "outputs": [],
   "source": [
    "# save_twitter_stock_join(df=df_thin_rabbit)"
   ]
  },
  {
   "cell_type": "code",
   "execution_count": 21,
   "metadata": {
    "pycharm": {
     "name": "#%%\n"
    }
   },
   "outputs": [
    {
     "name": "stdout",
     "output_type": "stream",
     "text": [
      "Wall time: 194 ms\n"
     ]
    }
   ],
   "source": [
    "%%time\n",
    "cols_fundy_numeric = list(set(columns_fundy) - {\"ticker\", 'calendardate', 'datekey', 'reportperiod'})\n",
    "\n",
    "df_no_z = twitter_service.fill_null_numeric(df=df_thin_rabbit, cols_fundy_numeric=cols_fundy_numeric)"
   ]
  },
  {
   "cell_type": "code",
   "execution_count": 22,
   "metadata": {
    "pycharm": {
     "name": "#%%\n"
    }
   },
   "outputs": [
    {
     "name": "stdout",
     "output_type": "stream",
     "text": [
      "Wall time: 1min 14s\n"
     ]
    }
   ],
   "source": [
    "%%time\n",
    "    \n",
    "df_since_sma = twitter_ml_utils.add_sma_stuff(df=df_no_z)"
   ]
  },
  {
   "cell_type": "code",
   "execution_count": 23,
   "metadata": {
    "pycharm": {
     "name": "#%%\n"
    }
   },
   "outputs": [
    {
     "name": "stdout",
     "output_type": "stream",
     "text": [
      "Wall time: 1e+03 µs\n"
     ]
    }
   ],
   "source": [
    "%%time\n",
    "\n",
    "df_since_sma[\"purchase_date\"] = df_since_sma[\"date\"]"
   ]
  },
  {
   "cell_type": "code",
   "execution_count": 24,
   "metadata": {},
   "outputs": [
    {
     "name": "stdout",
     "output_type": "stream",
     "text": [
      "Wall time: 2.06 s\n"
     ]
    }
   ],
   "source": [
    "%%time\n",
    "\n",
    "df_days_until = ticker_service.add_days_until_sale(df=df_since_sma)"
   ]
  },
  {
   "cell_type": "code",
   "execution_count": 25,
   "metadata": {
    "pycharm": {
     "name": "#%%\n"
    }
   },
   "outputs": [
    {
     "name": "stdout",
     "output_type": "stream",
     "text": [
      "Wall time: 11.3 s\n"
     ]
    }
   ],
   "source": [
    "%%time\n",
    "df = twitter_service.refine_pool(df=df_days_until, min_volume=None, min_price=None, max_price=None)\n",
    "df = twitter_service.omit_columns(df=df)\n",
    "df_tweet_counted = twitter_service.add_tweet_count(df=df).drop(columns=[\"calendardate\", \"reportperiod\", \"dimension\", \"datekey\"])"
   ]
  },
  {
   "cell_type": "code",
   "execution_count": 26,
   "metadata": {},
   "outputs": [
    {
     "data": {
      "text/plain": [
       "'2020-10-29'"
      ]
     },
     "execution_count": 26,
     "metadata": {},
     "output_type": "execute_result"
    }
   ],
   "source": [
    "df_tweet_counted[\"future_date\"].max()"
   ]
  },
  {
   "cell_type": "code",
   "execution_count": 27,
   "metadata": {},
   "outputs": [],
   "source": [
    "# df_winnowed = twitter_ml_utils.truncate_avail_columns(df=df_tweet_counted)"
   ]
  },
  {
   "cell_type": "code",
   "execution_count": 28,
   "metadata": {},
   "outputs": [
    {
     "name": "stdout",
     "output_type": "stream",
     "text": [
      "56051\n"
     ]
    }
   ],
   "source": [
    "print(df_tweet_counted.shape[0])\n",
    "\n",
    "df_ranked = twitter_ml_utils.add_tip_ranks(df=df_tweet_counted, tr_file_path=tr_file_path)"
   ]
  },
  {
   "cell_type": "code",
   "execution_count": 29,
   "metadata": {},
   "outputs": [
    {
     "data": {
      "text/plain": [
       "'2020-10-29'"
      ]
     },
     "execution_count": 29,
     "metadata": {},
     "output_type": "execute_result"
    }
   ],
   "source": [
    "df_ranked[\"future_date\"].max()"
   ]
  },
  {
   "cell_type": "code",
   "execution_count": 30,
   "metadata": {
    "scrolled": true
   },
   "outputs": [
    {
     "name": "stdout",
     "output_type": "stream",
     "text": [
      "56051\n",
      "cat_uniques is not used.\n",
      "2221\n"
     ]
    }
   ],
   "source": [
    "print(df_ranked.shape[0])\n",
    "\n",
    "df_ticker_hotted, unique_tickers = ticker_service.make_f22_ticker_one_hotted(df_ranked=df_ranked, cat_uniques=cat_uniques)\n",
    "\n",
    "cat_uniques[\"f22_ticker\"] = unique_tickers\n",
    "print(f\"{len(cat_uniques['f22_ticker'])}\")\n",
    "\n",
    "narrow_cols = list(df_ticker_hotted.columns)"
   ]
  },
  {
   "cell_type": "code",
   "execution_count": 31,
   "metadata": {
    "pycharm": {
     "name": "#%%\n"
    },
    "scrolled": true
   },
   "outputs": [
    {
     "name": "stdout",
     "output_type": "stream",
     "text": [
      "56051\n",
      "2020-10-29\n",
      "2221\n",
      "Split | min: 2020-08-10 | max: 2020-10-22\n",
      "Split dates for small dataset: ['2020-10-21', '2020-10-22']\n",
      "Original: 56051; train_set: 54715; val_set: 1336\n"
     ]
    },
    {
     "name": "stderr",
     "output_type": "stream",
     "text": [
      "C:\\Users\\Chris\\AppData\\Roaming\\Python\\Python37\\site-packages\\numpy\\lib\\nanfunctions.py:1112: RuntimeWarning: Mean of empty slice\n",
      "  return np.nanmean(a, axis, out=out, keepdims=keepdims)\n",
      "C:\\Users\\Chris\\AppData\\Roaming\\Python\\Python37\\site-packages\\numpy\\lib\\nanfunctions.py:1112: RuntimeWarning: Mean of empty slice\n",
      "  return np.nanmean(a, axis, out=out, keepdims=keepdims)\n"
     ]
    },
    {
     "name": "stdout",
     "output_type": "stream",
     "text": [
      "Mean: 0.18840579710144928\n",
      "Avg investment per trade: 90.28276167471824\n",
      "Roi per trade: -0.0287\n",
      "Num trades: 621 | acc: 0.21256 | s@close roi: 0.020462912708200613 | s@high roi: 0.011052\n",
      "Sell high/close roi@0.07: -0.038775; weight: -24.079328069273302\n",
      "Mean sac_roi: 0.020462912708200613\n",
      "\n",
      "Overall mean s@close: 0.020462912708200613\n",
      "\n",
      "Wall time: 1min 2s\n"
     ]
    }
   ],
   "source": [
    "%%time\n",
    "\n",
    "df_train = df_ticker_hotted\n",
    "\n",
    "print(df_train.shape[0])\n",
    "print(df_train[\"future_date\"].max())\n",
    "print(len(cat_uniques[\"f22_ticker\"]))\n",
    "\n",
    "if workflow_mode is WorkflowMode.Training:\n",
    "    # sac_roi_list = twitter_ml_utils.find_ml_pred_perf(df=df_train)\n",
    "#     sac_roi_list = twitter_ml_utils.torch_non_linear(df=df_train, narrow_cols=narrow_cols)\n",
    "    sac_roi_list = twitter_ml_utils.xgb_learning(df=df_train, narrow_cols=narrow_cols, cat_uniques=cat_uniques)    "
   ]
  },
  {
   "cell_type": "code",
   "execution_count": 32,
   "metadata": {},
   "outputs": [
    {
     "name": "stdout",
     "output_type": "stream",
     "text": [
      "roi amount: 1020.4629127082006\n",
      "[0.020462912708200613]\n"
     ]
    }
   ],
   "source": [
    "if workflow_mode is WorkflowMode.Training: \n",
    "    startup_cash = 1000\n",
    "\n",
    "    investment = startup_cash\n",
    "    for s in sac_roi_list:\n",
    "        investment = (investment * s) + investment\n",
    "\n",
    "    print(f\"roi amount: {investment}\")\n",
    "    print(sac_roi_list)"
   ]
  },
  {
   "cell_type": "code",
   "execution_count": 33,
   "metadata": {},
   "outputs": [],
   "source": [
    "from ams.services import pickle_service\n",
    "from datetime import datetime\n",
    "\n",
    "overwrite_file = False\n",
    "if workflow_mode is WorkflowMode.Prediction:\n",
    "    def get_data_for_predictions(df: pd.DataFrame, narrow_cols: List[str]):\n",
    "        feature_cols = twitter_service.get_feature_columns(narrow_cols)\n",
    "\n",
    "        return np.array(df[feature_cols])\n",
    "\n",
    "    X_predict = get_data_for_predictions(df=df_ticker_hotted, narrow_cols=narrow_cols)\n",
    "\n",
    "    prediction = model_xgb.model.predict(X_predict)\n",
    "\n",
    "    df_ticker_hotted[\"prediction\"] = prediction\n",
    "    \n",
    "    df_buy = df_ticker_hotted[df_ticker_hotted[\"prediction\"] == 1][[\"f22_ticker\", \"purchase_date\"]]\n",
    "    df_buy[\"num_hold_days\"] = num_hold_days\n",
    "    df_buy[\"run_timestamp\"] = datetime.timestamp(datetime.now())\n",
    "    \n",
    "    print(df_buy.head(10))\n",
    "    \n",
    "    rows = df_buy.to_dict('records')\n",
    "\n",
    "    from ams.services import csv_service\n",
    "    csv_service.write_dicts_as_csv(output_file_path=constants.TWITTER_PREDICTIONS_PATH,\n",
    "                                  overwrite=overwrite_file,\n",
    "                                  rows=rows)"
   ]
  },
  {
   "cell_type": "code",
   "execution_count": null,
   "metadata": {},
   "outputs": [],
   "source": []
  }
 ],
 "metadata": {
  "kernelspec": {
   "display_name": "Python 3",
   "language": "python",
   "name": "python3"
  },
  "language_info": {
   "codemirror_mode": {
    "name": "ipython",
    "version": 3
   },
   "file_extension": ".py",
   "mimetype": "text/x-python",
   "name": "python",
   "nbconvert_exporter": "python",
   "pygments_lexer": "ipython3",
   "version": "3.7.9"
  },
  "pycharm": {
   "stem_cell": {
    "cell_type": "raw",
    "source": [],
    "metadata": {
     "collapsed": false
    }
   }
  }
 },
 "nbformat": 4,
 "nbformat_minor": 1
}