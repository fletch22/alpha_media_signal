{
 "cells": [
  {
   "cell_type": "code",
   "execution_count": 5,
   "metadata": {},
   "outputs": [],
   "source": [
    "import initialize_notebook"
   ]
  },
  {
   "cell_type": "code",
   "execution_count": 6,
   "metadata": {
    "pycharm": {
     "name": "#%%\n"
    }
   },
   "outputs": [
    {
     "name": "stdout",
     "output_type": "stream",
     "text": [
      "Setting up logging...\n",
      "Will use logging path: /home/jovyan/work/data/logs/alpha_media_signal\n"
     ]
    }
   ],
   "source": [
    "import sys\n",
    "from pathlib import Path\n",
    "from typing import Dict\n",
    "\n",
    "from pyspark.sql import functions as F\n",
    "from pyspark.sql.functions import udf\n",
    "from pyspark.sql.types import StructType, Row, StructField, DoubleType, ArrayType, StringType, FloatType\n",
    "from vaderSentiment.vaderSentiment import SentimentIntensityAnalyzer\n",
    "\n",
    "from ams.config import constants\n",
    "from ams.services import file_services\n",
    "from ams.services import spark_service\n",
    "from ams.utils import sentiment\n",
    "\n",
    "spark = spark_service.get_or_create('assign_sentiment_and_stock')"
   ]
  },
  {
   "cell_type": "code",
   "execution_count": 7,
   "metadata": {
    "pycharm": {
     "name": "#%%\n"
    }
   },
   "outputs": [],
   "source": [
    "twitter_folder = 'twitter'\n",
    "\n",
    "flat_tweet_path = Path(constants.DATA_PATH, twitter_folder, r'flattened_drop', \"tweets_flat_2020-09-20_05-46-31-96.9\")"
   ]
  },
  {
   "cell_type": "code",
   "execution_count": 8,
   "metadata": {
    "pycharm": {
     "name": "#%%\n"
    }
   },
   "outputs": [
    {
     "name": "stdout",
     "output_type": "stream",
     "text": [
      "df_red count: 909703\n",
      "Total load time; 31.10253357887268 seconds\n"
     ]
    }
   ],
   "source": [
    "from pyspark.sql import functions as F\n",
    "import time\n",
    "\n",
    "start = time.time()\n",
    "df_red =  spark.read.csv(str(flat_tweet_path), header=True)\n",
    "print(f'df_red count: {df_red.count()}')\n",
    "end = time.time()\n",
    "\n",
    "print(f'Total load time; {end - start} seconds')"
   ]
  },
  {
   "cell_type": "code",
   "execution_count": 9,
   "metadata": {
    "pycharm": {
     "name": "#%%\n"
    }
   },
   "outputs": [
    {
     "name": "stdout",
     "output_type": "stream",
     "text": [
      "3577381.7031526878 per second.\n",
      "Not null found: 909703 rows\n"
     ]
    }
   ],
   "source": [
    "analyzer = SentimentIntensityAnalyzer()\n",
    "def get_sentiment_intensity_score(text: str) -> Dict:\n",
    "    return analyzer.polarity_scores(text)\n",
    "\n",
    "sent_udf = udf(get_sentiment_intensity_score, StructType(fields=[StructField(\"neg\", StringType()),\n",
    "                                                                           StructField(\"neu\", StringType()),\n",
    "                                                                           StructField(\"pos\", StringType()),\n",
    "                                                                           StructField(\"compound\", StringType())\n",
    "                                                                           ]))\n",
    "\n",
    "start = time.time()\n",
    "df_sent = df_red.where(F.col('text').isNotNull()).withColumn('tmp_sentiment', sent_udf(F.col('text')))\\\n",
    "                .withColumn('f22_sentiment_pos', F.col('tmp_sentiment.neg'))\\\n",
    "                .withColumn('f22_sentiment_neu', F.col('tmp_sentiment.neu'))\\\n",
    "                .withColumn('f22_sentiment_neg', F.col('tmp_sentiment.pos'))\\\n",
    "                .withColumn('f22_sentiment_compound', F.col('tmp_sentiment.compound'))\\\n",
    "                .drop('tmp_sentiment')\n",
    "                \n",
    "df_final = df_sent\n",
    "count = df_sent.count()\n",
    "end = time.time()\n",
    "\n",
    "sent_per_sec = count / (end - start)\n",
    "\n",
    "print(f'{sent_per_sec} per second.')\n",
    "\n",
    "df_tmp = df_sent.where(F.col(\"f22_sentiment_compound\").isNotNull())\n",
    "\n",
    "print(f'Not null found: {df_tmp.count()} rows')"
   ]
  },
  {
   "cell_type": "code",
   "execution_count": 10,
   "metadata": {
    "pycharm": {
     "name": "#%%\n"
    }
   },
   "outputs": [
    {
     "name": "stdout",
     "output_type": "stream",
     "text": [
      "/home/jovyan/work/data/twitter/sent_drop/tweet_sent_2020-09-20_12-55-15-934.3\n"
     ]
    }
   ],
   "source": [
    "from ams.services import dataframe_services\n",
    "\n",
    "sent_drop_path = Path(constants.DATA_PATH, twitter_folder, 'sent_drop')\n",
    "\n",
    "dataframe_services.persist_dataframe_as_csv(df=df_tmp, output_drop_folder_path=sent_drop_path, prefix='tweet_sent')"
   ]
  },
  {
   "cell_type": "code",
   "execution_count": null,
   "metadata": {},
   "outputs": [],
   "source": []
  }
 ],
 "metadata": {
  "kernelspec": {
   "display_name": "Python 3",
   "language": "python",
   "name": "python3"
  },
  "language_info": {
   "codemirror_mode": {
    "name": "ipython",
    "version": 3
   },
   "file_extension": ".py",
   "mimetype": "text/x-python",
   "name": "python",
   "nbconvert_exporter": "python",
   "pygments_lexer": "ipython3",
   "version": "3.7.6"
  },
  "pycharm": {
   "stem_cell": {
    "cell_type": "raw",
    "metadata": {
     "collapsed": false
    },
    "source": []
   }
  }
 },
 "nbformat": 4,
 "nbformat_minor": 1
}
