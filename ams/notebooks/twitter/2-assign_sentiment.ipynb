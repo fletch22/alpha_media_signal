{
 "cells": [
  {
   "cell_type": "code",
   "execution_count": 1,
   "metadata": {},
   "outputs": [
    {
     "name": "stdout",
     "output_type": "stream",
     "text": [
      "Setting up logging...\n",
      "Will use logging path: C:\\Users\\Chris\\workspaces\\data\\logs\\alpha_media_signal\n"
     ]
    }
   ],
   "source": [
    "from pathlib import Path\n",
    "\n",
    "from vaderSentiment.vaderSentiment import SentimentIntensityAnalyzer\n",
    "\n",
    "from ams.config import constants\n",
    "from ams.services import file_services"
   ]
  },
  {
   "cell_type": "code",
   "execution_count": 2,
   "metadata": {},
   "outputs": [],
   "source": [
    "input_path = Path(constants.TWITTER_OUTPUT_RAW_PATH, \"deduped\", \"main\")\n",
    "files = file_services.list_files(str(input_path), ends_with=\".parquet\", use_dir_recursion=True)"
   ]
  },
  {
   "cell_type": "code",
   "execution_count": 3,
   "metadata": {
    "pycharm": {
     "name": "#%%\n"
    }
   },
   "outputs": [
    {
     "name": "stdout",
     "output_type": "stream",
     "text": [
      "Converting Pandas dataframe to Dask DF ...\n",
      "Converting Pandas dataframe to Dask DF ...\n",
      "Converting Pandas dataframe to Dask DF ...\n",
      "Converting Pandas dataframe to Dask DF ...\n",
      "Concatenating Dask DFs ...\n",
      "Wall time: 1min 33s\n"
     ]
    },
    {
     "data": {
      "text/plain": [
       "Index(['truncated', 'user_translator_type', 'user_profile_link_color',\n",
       "       'user_time_zone', 'user_profile_banner_url',\n",
       "       'user_default_profile_image', 'is_quote_status', 'user_url', 'lang',\n",
       "       'user_description', 'retweet_count', 'user_created_at',\n",
       "       'user_following', 'user_geo_enabled', 'id', 'user_contributors_enabled',\n",
       "       'user_id', 'user_profile_background_image_url',\n",
       "       'user_profile_background_color', 'entities_urls_1',\n",
       "       'entities_user_mentions_3', 'user_favourites_count', 'user_location',\n",
       "       'user_profile_sidebar_fill_color', 'user_utc_offset',\n",
       "       'user_notifications', 'user_lang', 'user_listed_count',\n",
       "       'user_default_profile', 'user_profile_image_url_https',\n",
       "       'user_profile_sidebar_border_color', 'possibly_sensitive',\n",
       "       'user_is_translation_enabled', 'user_profile_background_tile',\n",
       "       'user_protected', 'entities_urls_0', 'entities_user_mentions_1',\n",
       "       'entities_urls_2', 'in_reply_to_status_id', 'user_statuses_count',\n",
       "       'retweeted', 'contributors', 'entities_user_mentions_2',\n",
       "       'user_profile_text_color', 'user_follow_request_sent',\n",
       "       'user_is_translator', 'place_country', 'user_has_extended_profile',\n",
       "       'created_at', 'user_verified', 'user_name', 'user_friends_count',\n",
       "       'source', 'user_profile_image_url', 'favorite_count', 'entities_urls_3',\n",
       "       'user_profile_use_background_image', 'user_followers_count',\n",
       "       'user_screen_name', 'metadata_result_type', 'in_reply_to_screen_name',\n",
       "       'user_profile_background_image_url_https', 'in_reply_to_user_id',\n",
       "       'metadata_iso_language_code', 'place_name', 'entities_user_mentions_0',\n",
       "       'f22_ticker', 'f22_has_cashtag', 'f22_ticker_in_text',\n",
       "       'f22_num_other_tickers_in_tweet', 'f22_id', '__index_level_0__',\n",
       "       'nlp_text'],\n",
       "      dtype='object')"
      ]
     },
     "execution_count": 3,
     "metadata": {},
     "output_type": "execute_result"
    }
   ],
   "source": [
    "%%time\n",
    "import pandas as pd\n",
    "import time\n",
    "import dask\n",
    "import dask.dataframe as dd\n",
    "from dask.dataframe import from_pandas\n",
    "\n",
    "dask.config.set(scheduler='processes')\n",
    "\n",
    "all_ddf = []\n",
    "for f in files:\n",
    "    pdf = pd.read_parquet(f)\n",
    "    print(\"Converting Pandas dataframe to Dask DF ...\")\n",
    "    ddf = from_pandas(pdf, npartitions=3)\n",
    "    all_ddf.append(ddf)\n",
    "\n",
    "print(\"Concatenating Dask DFs ...\")\n",
    "ddf = dd.concat(all_ddf,axis=0)\n",
    "\n",
    "ddf.columns"
   ]
  },
  {
   "cell_type": "code",
   "execution_count": 4,
   "metadata": {},
   "outputs": [
    {
     "name": "stdout",
     "output_type": "stream",
     "text": [
      "Elapsed: 938.7162492275238\n"
     ]
    }
   ],
   "source": [
    "from typing import List\n",
    "analyzer = SentimentIntensityAnalyzer()\n",
    "\n",
    "def add_senti(text) -> List[str]:\n",
    "    result = analyzer.polarity_scores(text)\n",
    "    return [result[\"neg\"], result[\"neu\"], result[\"pos\"], result[\"compound\"]]\n",
    "\n",
    "ddf = ddf.assign(sent_list = ddf.nlp_text.map(lambda x: add_senti(x)))\n",
    "ddf = ddf.assign(f22_sentiment_neg = ddf.sent_list.map(lambda x: x[0]))\n",
    "ddf = ddf.assign(f22_sentiment_neu = ddf.sent_list.map(lambda x: x[1]))\n",
    "ddf = ddf.assign(f22_sentiment_pos = ddf.sent_list.map(lambda x: x[2]))\n",
    "ddf = ddf.assign(f22_sentiment_compound = ddf.sent_list.map(lambda x: x[-1]))\n",
    "ddf.drop(\"sent_list\", axis=1)\n",
    "\n",
    "start = time.time()\n",
    "ddf.compute()\n",
    "end = time.time()\n",
    "print(\"Elapsed: \" + str(end - start))"
   ]
  },
  {
   "cell_type": "code",
   "execution_count": 6,
   "metadata": {},
   "outputs": [],
   "source": [
    "parent = Path(constants.TWITTER_OUTPUT_RAW_PATH, 'sent_drop', \"staging\")\n",
    "sent_drop_path = file_services.create_unique_folder_name(parent, prefix=\"sd\")\n",
    "\n",
    "ddf.to_parquet(path=str(sent_drop_path), engine=\"pyarrow\", compression=\"snappy\")"
   ]
  },
  {
   "cell_type": "code",
   "execution_count": null,
   "metadata": {},
   "outputs": [],
   "source": []
  }
 ],
 "metadata": {
  "kernelspec": {
   "display_name": "Python 3",
   "language": "python",
   "name": "python3"
  },
  "language_info": {
   "codemirror_mode": {
    "name": "ipython",
    "version": 3
   },
   "file_extension": ".py",
   "mimetype": "text/x-python",
   "name": "python",
   "nbconvert_exporter": "python",
   "pygments_lexer": "ipython3",
   "version": "3.7.9"
  },
  "pycharm": {
   "stem_cell": {
    "cell_type": "raw",
    "metadata": {
     "collapsed": false
    },
    "source": []
   }
  }
 },
 "nbformat": 4,
 "nbformat_minor": 1
}
