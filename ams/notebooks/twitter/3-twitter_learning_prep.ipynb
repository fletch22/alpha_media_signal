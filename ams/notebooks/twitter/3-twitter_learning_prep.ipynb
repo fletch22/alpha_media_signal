{
 "cells": [
  {
   "cell_type": "code",
   "execution_count": 1,
   "metadata": {},
   "outputs": [
    {
     "name": "stderr",
     "output_type": "stream",
     "text": [
      "\n",
      "Bad key \"text.kerning_factor\" on line 4 in\n",
      "C:\\ProgramData\\Miniconda3\\envs\\alpha_media_signal\\lib\\site-packages\\matplotlib\\mpl-data\\stylelib\\_classic_test_patch.mplstyle.\n",
      "You probably need to get an updated matplotlibrc file from\n",
      "https://github.com/matplotlib/matplotlib/blob/v3.1.2/matplotlibrc.template\n",
      "or from the matplotlib source distribution\n"
     ]
    },
    {
     "name": "stdout",
     "output_type": "stream",
     "text": [
      "Setting up logging...\n",
      "Will use logging path: C:\\Users\\Chris\\workspaces\\data\\logs\\alpha_media_signal\n"
     ]
    }
   ],
   "source": [
    "import initialize_notebook\n",
    "\n",
    "import numpy as np\n",
    "import pandas as pd\n",
    "import seaborn as sns\n",
    "import matplotlib as mpl\n",
    "import matplotlib.pyplot as plt\n",
    "from pyspark.sql import SparkSession\n",
    "\n",
    "import io\n",
    "from ams import config\n",
    "from sklearn.preprocessing import StandardScaler\n",
    "import pandas_datareader.data as web\n",
    "import math\n",
    "import os\n",
    "import datetime as dt\n",
    "import sys\n",
    "from pathlib import Path\n",
    "from typing import Dict\n",
    "\n",
    "from pyspark.sql import functions as F\n",
    "from pyspark.sql.functions import udf\n",
    "from pyspark.sql.types import StructType, Row, StructField, DoubleType, ArrayType, StringType\n",
    "from vaderSentiment.vaderSentiment import SentimentIntensityAnalyzer\n",
    "\n",
    "from ams.config import constants\n",
    "from ams.services import file_services\n",
    "from ams.services import spark_service\n",
    "from ams.utils import sentiment\n",
    "from pyspark.storagelevel import StorageLevel\n",
    "\n",
    "%matplotlib inline"
   ]
  },
  {
   "cell_type": "code",
   "execution_count": 2,
   "metadata": {
    "pycharm": {
     "name": "#%%\n"
    }
   },
   "outputs": [],
   "source": [
    "# import findspark\n",
    "\n",
    "# findspark.init()\n",
    "spark = spark_service.get_or_create('learning_prep')\n",
    "# spark.stop()\n",
    "# spark = spark_service.get_or_create('learning_prep')"
   ]
  },
  {
   "cell_type": "code",
   "execution_count": 3,
   "metadata": {
    "pycharm": {
     "name": "#%%\n"
    }
   },
   "outputs": [],
   "source": [
    "twitter_folder = 'twitter'\n",
    "\n",
    "tweet_sent_overflow_archive = [\n",
    "    \"tweet_sent_2020-09-14_01-54-46-424.27\", \"tweet_sent_2020-09-16_04-20-22-347.55\", \n",
    "    \"tweet_sent_2020-09-18_13-56-57-859.2\", \"tweet_sent_2020-09-18_22-23-53-311.06\", \n",
    "    \"tweet_sent_2020-09-20_12-55-15-934.3\", \"tweet_sent_2020-09-26_09-31-41-445.65\", \n",
    "    \"tweet_sent_2020-09-26_14-37-22-544.29\", \"tweet_sent_2020-09-28_21-45-23-139.81\", \n",
    "    \"tweet_sent_2020-10-10_08-37-57-420.11\", \"tweet_sent_2020-10-12_17-01-57-220.74\"   \n",
    "]\n",
    "\n",
    "tweet_sent_orig_archive = [\n",
    "    \"tweet_sent_2020-10-17_10-47-14-355.0\", \"tweet_sent_2020-10-21_20-42-38-339.38\",\n",
    "    \"tweet_sent_2020-10-25_17-01-21-632.26\"\n",
    "]"
   ]
  },
  {
   "cell_type": "code",
   "execution_count": 4,
   "metadata": {},
   "outputs": [
    {
     "name": "stdout",
     "output_type": "stream",
     "text": [
      "D:\\workspaces\\data\\twitter\\sent_drop\\archive\\tweet_sent_2020-09-14_01-54-46-424.27\n",
      "loaded 2606202\n",
      "D:\\workspaces\\data\\twitter\\sent_drop\\archive\\tweet_sent_2020-09-16_04-20-22-347.55\n",
      "loaded 312411\n",
      "D:\\workspaces\\data\\twitter\\sent_drop\\archive\\tweet_sent_2020-09-18_13-56-57-859.2\n",
      "loaded 1376331\n",
      "D:\\workspaces\\data\\twitter\\sent_drop\\archive\\tweet_sent_2020-09-18_22-23-53-311.06\n",
      "loaded 690703\n",
      "D:\\workspaces\\data\\twitter\\sent_drop\\archive\\tweet_sent_2020-09-20_12-55-15-934.3\n",
      "loaded 909703\n",
      "D:\\workspaces\\data\\twitter\\sent_drop\\archive\\tweet_sent_2020-09-26_09-31-41-445.65\n",
      "loaded 623898\n",
      "D:\\workspaces\\data\\twitter\\sent_drop\\archive\\tweet_sent_2020-09-26_14-37-22-544.29\n",
      "loaded 463726\n",
      "D:\\workspaces\\data\\twitter\\sent_drop\\archive\\tweet_sent_2020-09-28_21-45-23-139.81\n",
      "loaded 724522\n",
      "D:\\workspaces\\data\\twitter\\sent_drop\\archive\\tweet_sent_2020-10-10_08-37-57-420.11\n",
      "loaded 2882840\n",
      "D:\\workspaces\\data\\twitter\\sent_drop\\archive\\tweet_sent_2020-10-12_17-01-57-220.74\n",
      "loaded 470770\n",
      "C:\\Users\\Chris\\workspaces\\data\\twitter\\sent_drop\\tweet_sent_2020-10-17_10-47-14-355.0\n",
      "loaded 1036364\n",
      "C:\\Users\\Chris\\workspaces\\data\\twitter\\sent_drop\\tweet_sent_2020-10-21_20-42-38-339.38\n",
      "loaded 869645\n",
      "C:\\Users\\Chris\\workspaces\\data\\twitter\\sent_drop\\tweet_sent_2020-10-25_17-01-21-632.26\n",
      "loaded 930308\n",
      "Wall time: 52.7 s\n"
     ]
    }
   ],
   "source": [
    "%%time\n",
    "\n",
    "senti_dataframes = []\n",
    "\n",
    "file_paths = [Path(constants.OVERFLOW_DATA_PATH, twitter_folder, \"sent_drop\", \"archive\", t) for t in tweet_sent_overflow_archive]\n",
    "\n",
    "file_paths += [Path(constants.DATA_PATH, twitter_folder, \"sent_drop\", t) for t in tweet_sent_orig_archive]\n",
    "\n",
    "for f in file_paths:\n",
    "    print(str(f))\n",
    "    df = spark.read.csv(str(f), header=True)\n",
    "    print(f\"loaded {df.count()}\")\n",
    "    senti_dataframes.append(df) "
   ]
  },
  {
   "cell_type": "code",
   "execution_count": 5,
   "metadata": {},
   "outputs": [
    {
     "name": "stdout",
     "output_type": "stream",
     "text": [
      "Wall time: 161 ms\n"
     ]
    }
   ],
   "source": [
    "%%time\n",
    "\n",
    "from functools import reduce\n",
    "from pyspark.sql import DataFrame\n",
    "\n",
    "df = reduce(DataFrame.unionByName, senti_dataframes)\n",
    "senti_dataframes = None\n",
    "\n",
    "df_red = df\n",
    "# df.persist(StorageLevel.DISK_ONLY)\n",
    "# df = None"
   ]
  },
  {
   "cell_type": "code",
   "execution_count": 6,
   "metadata": {},
   "outputs": [
    {
     "name": "stdout",
     "output_type": "stream",
     "text": [
      "Count: 13897423\n",
      "Wall time: 20.8 s\n"
     ]
    }
   ],
   "source": [
    "%%time\n",
    "\n",
    "from ams.utils import date_utils\n",
    "from pyspark.sql import types as T\n",
    "from datetime import datetime\n",
    "\n",
    "def add_timestamp(df):\n",
    "    twitter_format = date_utils.TWITTER_LONG_FORMAT \n",
    "    def udf_wrapper(date_string: str):\n",
    "        return int(datetime.strptime(date_string, twitter_format).timestamp())\n",
    "\n",
    "    parse_udf = F.udf(udf_wrapper, T.IntegerType())\n",
    "\n",
    "    print(f'Count: {df.count()}')\n",
    "\n",
    "    df = df.withColumn('created_at_timestamp', parse_udf(F.col('created_at')))\n",
    "    \n",
    "    return df\n",
    "\n",
    "df_ts = add_timestamp(df_red)"
   ]
  },
  {
   "cell_type": "code",
   "execution_count": 7,
   "metadata": {},
   "outputs": [],
   "source": [
    "from pyspark.sql import functions as F\n",
    "from pyspark.sql import types as T\n",
    "from ams.utils import date_utils\n",
    "\n",
    "def get_fave_cols(df):\n",
    "    return df.select(*[\"created_at\",\n",
    "                     \"created_at_timestamp\",\n",
    "                     \"user_screen_name\",\n",
    "                     \"favorite_count\",\n",
    "                     \"in_reply_to_screen_name\",\n",
    "                     \"user_verified\",\n",
    "                     \"metadata_result_type\",\n",
    "                     \"user_listed_count\",\n",
    "                     \"user_time_zone\",\n",
    "                     \"user_has_extended_profile\",\n",
    "                     \"in_reply_to_status_id\",\n",
    "                     \"user_statuses_count\",\n",
    "                     \"user_protected\",\n",
    "                     \"user_is_translation_enabled\",\n",
    "                     \"user_location\",\n",
    "                     \"lang\",\n",
    "                     \"user_geo_enabled\",\n",
    "                     \"place_country\",\n",
    "                     \"place_name\",\n",
    "                     \"possibly_sensitive\",\n",
    "                     \"user_friends_count\",\n",
    "                     \"retweet_count\",\n",
    "                     \"user_follow_request_sent\",\n",
    "                     \"user_followers_count\",\n",
    "                     \"f22_ticker\",\n",
    "                     \"f22_has_cashtag\",\n",
    "                     \"f22_ticker_in_text\",\n",
    "                     \"f22_num_other_tickers_in_tweet\",\n",
    "                     \"f22_sentiment_pos\",\n",
    "                     \"f22_sentiment_neu\",\n",
    "                     \"f22_sentiment_neg\",\n",
    "                     \"f22_sentiment_compound\"])\n",
    "\n",
    "df_winn = get_fave_cols(df_ts)\n",
    "# df_ts = None"
   ]
  },
  {
   "cell_type": "code",
   "execution_count": 8,
   "metadata": {
    "pycharm": {
     "name": "#%%\n"
    }
   },
   "outputs": [],
   "source": [
    "df_has_time = df_winn.where(F.col('created_at_timestamp').isNotNull())\n",
    "# df_winn.persist(StorageLevel.DISK_ONLY)\n",
    "# df_winn = None"
   ]
  },
  {
   "cell_type": "code",
   "execution_count": 9,
   "metadata": {},
   "outputs": [
    {
     "name": "stdout",
     "output_type": "stream",
     "text": [
      "Will split into 6 chunks...\n",
      "2315902\n",
      "2315588\n",
      "2317688\n",
      "2315460\n",
      "2315719\n",
      "2317066\n",
      "Wall time: 11min 57s\n"
     ]
    }
   ],
   "source": [
    "%%time\n",
    "\n",
    "from ams.utils import twitter_utils\n",
    "from pyspark.sql import functions as F, types as T\n",
    "from ams.utils.date_utils import TZ_AMERICA_NEW_YORK, STANDARD_DAY_FORMAT\n",
    "import pytz\n",
    "\n",
    "\n",
    "def convert_to_date_string(utc_timestamp: int):\n",
    "    dt_utc = datetime.fromtimestamp(utc_timestamp)\n",
    "    dt_nyc = dt_utc.astimezone(pytz.timezone(TZ_AMERICA_NEW_YORK))\n",
    "    return dt_nyc.strftime(STANDARD_DAY_FORMAT)\n",
    "\n",
    "def chunk_for_udf(df: DataFrame):\n",
    "    parse_udf = F.udf(convert_to_date_string, T.StringType())\n",
    "\n",
    "    chunk_size = 6\n",
    "    print(f\"Will split into {chunk_size} chunks...\")\n",
    "    \n",
    "    split_arr = [1.] * chunk_size\n",
    "    all_dfs = df.randomSplit(split_arr)\n",
    "\n",
    "    new_dfs = []\n",
    "    for df in all_dfs:\n",
    "        df = df.withColumn('date', parse_udf(F.col('created_at_timestamp')))\n",
    "        print(df.count())\n",
    "        new_dfs.append(df)\n",
    "\n",
    "    all_dfs = None\n",
    "\n",
    "    return reduce(DataFrame.union, new_dfs)\n",
    "    \n",
    "df_dated = chunk_for_udf(df_winn)"
   ]
  },
  {
   "cell_type": "code",
   "execution_count": 10,
   "metadata": {
    "pycharm": {
     "name": "#%%\n"
    }
   },
   "outputs": [
    {
     "name": "stdout",
     "output_type": "stream",
     "text": [
      "1361\n",
      "Wall time: 22min 32s\n"
     ]
    }
   ],
   "source": [
    "%%time\n",
    "\n",
    "df_sample = df_dated.sample(fraction=.0001)\n",
    "df_sample.cache()\n",
    "\n",
    "print(df_sample.count())"
   ]
  },
  {
   "cell_type": "code",
   "execution_count": 11,
   "metadata": {
    "pycharm": {
     "name": "#%%\n"
    }
   },
   "outputs": [
    {
     "name": "stdout",
     "output_type": "stream",
     "text": [
      "Wall time: 4.28 s\n"
     ]
    },
    {
     "data": {
      "text/plain": [
       "<matplotlib.axes._subplots.AxesSubplot at 0x2492deee448>"
      ]
     },
     "execution_count": 11,
     "metadata": {},
     "output_type": "execute_result"
    },
    {
     "data": {
      "image/png": "[encoded data removed]",
      "text/plain": [
       "<Figure size 720x360 with 1 Axes>"
      ]
     },
     "metadata": {
      "needs_background": "light"
     },
     "output_type": "display_data"
    }
   ],
   "source": [
    "%%time\n",
    "\n",
    "df_pd = df_sample.toPandas().sort_values('date', inplace=False)\n",
    "\n",
    "day_groups = df_pd.groupby(df_pd['date'])['date'].count()\n",
    "\n",
    "day_groups.plot(kind='bar',figsize=(10,5),legend=None)"
   ]
  },
  {
   "cell_type": "code",
   "execution_count": 12,
   "metadata": {},
   "outputs": [
    {
     "name": "stdout",
     "output_type": "stream",
     "text": [
      "Has followers and compound score: 8705788\n",
      "Wall time: 12min 7s\n"
     ]
    }
   ],
   "source": [
    "%%time\n",
    "\n",
    "df_time_converted = df_dated.withColumn('user_followers_count', F.col('user_followers_count').cast(T.IntegerType())).withColumn('f22_sentiment_compound', F.col('f22_sentiment_compound').cast(T.FloatType()))\n",
    "\n",
    "df_has_scores = df_time_converted.where(F.col('user_followers_count') > 0).where(F.col('f22_sentiment_compound') != 0)\n",
    "\n",
    "df_com_score = df_has_scores.withColumn('f22_compound_score', F.col('user_followers_count') * F.col('f22_sentiment_compound'))\n",
    "print(f'Has followers and compound score: {df_has_scores.count()}')"
   ]
  },
  {
   "cell_type": "code",
   "execution_count": 13,
   "metadata": {},
   "outputs": [
    {
     "name": "stdout",
     "output_type": "stream",
     "text": [
      "C:\\Users\\Chris\\workspaces\\data\\twitter\\learning_prep_drop\\learning_prep_drop_2020-10-25_18-00-45-267.63\n",
      "Wall time: 23min 36s\n"
     ]
    }
   ],
   "source": [
    "%%time\n",
    "\n",
    "from ams.services import dataframe_services\n",
    "\n",
    "tag = 'learning_prep_drop'\n",
    "\n",
    "sent_drop_path = Path(constants.DATA_PATH, twitter_folder, tag)\n",
    "\n",
    "dataframe_services.persist_dataframe_as_csv(df=df_com_score, output_drop_folder_path=sent_drop_path, prefix=tag, num_output_files=1)"
   ]
  },
  {
   "cell_type": "code",
   "execution_count": null,
   "metadata": {},
   "outputs": [],
   "source": []
  }
 ],
 "metadata": {
  "kernelspec": {
   "display_name": "Python 3",
   "language": "python",
   "name": "python3"
  },
  "language_info": {
   "codemirror_mode": {
    "name": "ipython",
    "version": 3
   },
   "file_extension": ".py",
   "mimetype": "text/x-python",
   "name": "python",
   "nbconvert_exporter": "python",
   "pygments_lexer": "ipython3",
   "version": "3.7.7"
  },
  "pycharm": {
   "stem_cell": {
    "cell_type": "raw",
    "metadata": {
     "collapsed": false
    },
    "source": []
   }
  }
 },
 "nbformat": 4,
 "nbformat_minor": 1
}
