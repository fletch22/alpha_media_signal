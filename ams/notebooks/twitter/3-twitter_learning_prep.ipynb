{
 "cells": [
  {
   "cell_type": "code",
   "execution_count": 15,
   "metadata": {},
   "outputs": [],
   "source": [
    "import initialize_notebook\n",
    "\n",
    "import numpy as np\n",
    "import pandas as pd\n",
    "import seaborn as sns\n",
    "import matplotlib as mpl\n",
    "import matplotlib.pyplot as plt\n",
    "from pyspark.sql import SparkSession\n",
    "\n",
    "import io\n",
    "from ams import config\n",
    "from sklearn.preprocessing import StandardScaler\n",
    "import pandas_datareader.data as web\n",
    "import math\n",
    "import os\n",
    "import datetime as dt\n",
    "import sys\n",
    "from pathlib import Path\n",
    "from typing import Dict\n",
    "\n",
    "from pyspark.sql import functions as F\n",
    "from pyspark.sql.functions import udf\n",
    "from pyspark.sql.types import StructType, Row, StructField, DoubleType, ArrayType, StringType\n",
    "from vaderSentiment.vaderSentiment import SentimentIntensityAnalyzer\n",
    "\n",
    "from ams.config import constants\n",
    "from ams.services import file_services\n",
    "from ams.services import spark_service\n",
    "from ams.utils import sentiment\n",
    "from pyspark.storagelevel import StorageLevel\n",
    "\n",
    "%matplotlib inline"
   ]
  },
  {
   "cell_type": "code",
   "execution_count": 16,
   "metadata": {
    "pycharm": {
     "name": "#%%\n"
    }
   },
   "outputs": [],
   "source": [
    "# import findspark\n",
    "\n",
    "# findspark.init()\n",
    "spark = spark_service.get_or_create('learning_prep')\n",
    "# spark.stop()\n",
    "# spark = spark_service.get_or_create('learning_prep')"
   ]
  },
  {
   "cell_type": "code",
   "execution_count": 17,
   "metadata": {
    "pycharm": {
     "name": "#%%\n"
    }
   },
   "outputs": [],
   "source": [
    "twitter_folder = 'twitter'\n",
    "\n",
    "tweet_sent_folders = [\n",
    "    \"tweet_sent_2020-09-14_01-54-46-424.27\", \"tweet_sent_2020-09-16_04-20-22-347.55\", \n",
    "    \"tweet_sent_2020-09-18_13-56-57-859.2\", \"tweet_sent_2020-09-18_22-23-53-311.06\", \n",
    "    \"tweet_sent_2020-09-20_12-55-15-934.3\", \"tweet_sent_2020-09-26_09-31-41-445.65\", \n",
    "    \"tweet_sent_2020-09-26_14-37-22-544.29\", \"tweet_sent_2020-09-28_21-45-23-139.81\"\n",
    "]"
   ]
  },
  {
   "cell_type": "code",
   "execution_count": 18,
   "metadata": {},
   "outputs": [
    {
     "name": "stdout",
     "output_type": "stream",
     "text": [
      "df_1: 2606202\n",
      "df_1: 312411\n",
      "df_1: 1376331\n",
      "df_1: 690703\n",
      "df_1: 909703\n",
      "df_1: 623898\n",
      "df_1: 463726\n",
      "df_1: 724522\n",
      "Wall time: 35.8 s\n"
     ]
    }
   ],
   "source": [
    "%%time\n",
    "\n",
    "senti_dataframes = []\n",
    "\n",
    "for t in tweet_sent_folders:\n",
    "    file_path = Path(constants.DATA_PATH, twitter_folder, \"sent_drop\", t)\n",
    "    df = spark.read.csv(str(file_path), header=True)\n",
    "    print(f'df_1: {df.count()}')\n",
    "    senti_dataframes.append(df) "
   ]
  },
  {
   "cell_type": "code",
   "execution_count": 19,
   "metadata": {},
   "outputs": [
    {
     "name": "stdout",
     "output_type": "stream",
     "text": [
      "Wall time: 58.6 ms\n"
     ]
    }
   ],
   "source": [
    "%%time\n",
    "\n",
    "from functools import reduce\n",
    "from pyspark.sql import DataFrame\n",
    "\n",
    "df = reduce(DataFrame.unionByName, senti_dataframes)\n",
    "senti_dataframes = None\n",
    "\n",
    "df_red = df\n",
    "# df.persist(StorageLevel.DISK_ONLY)\n",
    "df = None"
   ]
  },
  {
   "cell_type": "code",
   "execution_count": 20,
   "metadata": {},
   "outputs": [
    {
     "name": "stdout",
     "output_type": "stream",
     "text": [
      "['entities_urls_1', 'text', 'entities_user_mentions_2', 'entities_urls_2', 'user_profile_background_tile', 'entities_urls_3', 'user_screen_name', 'favorite_count', 'in_reply_to_screen_name', 'user_verified', 'metadata_result_type', 'user_listed_count', 'user_time_zone', 'user_profile_banner_url', 'entities_urls_0', 'user_has_extended_profile', 'in_reply_to_status_id', 'user_profile_background_color', 'in_reply_to_user_id', 'user_statuses_count', 'user_url', 'user_protected', 'user_profile_background_image_url', 'user_is_translation_enabled', 'user_utc_offset', 'contributors', 'user_location', 'user_profile_text_color', 'source', 'lang', 'metadata_iso_language_code', 'entities_user_mentions_0', 'user_profile_link_color', 'user_geo_enabled', 'user_profile_image_url_https', 'user_favourites_count', 'place_country', 'place_name', 'possibly_sensitive', 'user_description', 'user_profile_sidebar_fill_color', 'user_friends_count', 'id', 'user_notifications', 'user_default_profile', 'retweeted', 'user_profile_background_image_url_https', 'user_created_at', 'user_followers_count', 'retweet_count', 'user_id', 'entities_user_mentions_3', 'user_lang', 'user_profile_use_background_image', 'user_follow_request_sent', 'user_profile_sidebar_border_color', 'user_default_profile_image', 'user_contributors_enabled', 'user_is_translator', 'user_following', 'user_name', 'is_quote_status', 'user_translator_type', 'user_profile_image_url', 'truncated', 'entities_user_mentions_1', 'created_at', 'f22_ticker', 'f22_has_cashtag', 'f22_ticker_in_text', 'f22_num_other_tickers_in_tweet', 'f22_sentiment_pos', 'f22_sentiment_neu', 'f22_sentiment_neg', 'f22_sentiment_compound']\n"
     ]
    }
   ],
   "source": [
    "print(df_red.columns)"
   ]
  },
  {
   "cell_type": "code",
   "execution_count": 21,
   "metadata": {},
   "outputs": [
    {
     "name": "stdout",
     "output_type": "stream",
     "text": [
      "Count: 7707496\n",
      "Wall time: 34.7 s\n"
     ]
    }
   ],
   "source": [
    "%%time\n",
    "\n",
    "from ams.utils import date_utils\n",
    "from pyspark.sql import types as T\n",
    "from datetime import datetime\n",
    "\n",
    "def add_timestamp(df):\n",
    "    twitter_format = date_utils.TWITTER_LONG_FORMAT \n",
    "    def udf_wrapper(date_string: str):\n",
    "        return int(datetime.strptime(date_string, twitter_format).timestamp())\n",
    "\n",
    "    parse_udf = F.udf(udf_wrapper, T.IntegerType())\n",
    "\n",
    "    print(f'Count: {df.count()}')\n",
    "\n",
    "    df = df.withColumn('created_at_timestamp', parse_udf(F.col('created_at')))\n",
    "    \n",
    "    return df\n",
    "\n",
    "df_ts = add_timestamp(df_red)"
   ]
  },
  {
   "cell_type": "code",
   "execution_count": 22,
   "metadata": {},
   "outputs": [],
   "source": [
    "from pyspark.sql import functions as F\n",
    "from pyspark.sql import types as T\n",
    "from ams.utils import date_utils\n",
    "\n",
    "def get_fave_cols(df):\n",
    "    return df.select(*[\"created_at\",\n",
    "                     \"created_at_timestamp\",\n",
    "                     \"user_screen_name\",\n",
    "                     \"favorite_count\",\n",
    "                     \"in_reply_to_screen_name\",\n",
    "                     \"user_verified\",\n",
    "                     \"metadata_result_type\",\n",
    "                     \"user_listed_count\",\n",
    "                     \"user_time_zone\",\n",
    "                     \"user_has_extended_profile\",\n",
    "                     \"in_reply_to_status_id\",\n",
    "                     \"user_statuses_count\",\n",
    "                     \"user_protected\",\n",
    "                     \"user_is_translation_enabled\",\n",
    "                     \"user_location\",\n",
    "                     \"lang\",\n",
    "                     \"user_geo_enabled\",\n",
    "                     \"place_country\",\n",
    "                     \"place_name\",\n",
    "                     \"possibly_sensitive\",\n",
    "                     \"user_friends_count\",\n",
    "                     \"retweet_count\",\n",
    "                     \"user_follow_request_sent\",\n",
    "                     \"user_followers_count\",\n",
    "                     \"f22_ticker\",\n",
    "                     \"f22_has_cashtag\",\n",
    "                     \"f22_ticker_in_text\",\n",
    "                     \"f22_num_other_tickers_in_tweet\",\n",
    "                     \"f22_sentiment_pos\",\n",
    "                     \"f22_sentiment_neu\",\n",
    "                     \"f22_sentiment_neg\",\n",
    "                     \"f22_sentiment_compound\"])\n",
    "\n",
    "df_winn = get_fave_cols(df_ts)\n",
    "df_ts = None"
   ]
  },
  {
   "cell_type": "code",
   "execution_count": 23,
   "metadata": {
    "pycharm": {
     "name": "#%%\n"
    }
   },
   "outputs": [],
   "source": [
    "df_has_time = df_winn.where(F.col('created_at_timestamp').isNotNull())\n",
    "# df_winn.persist(StorageLevel.DISK_ONLY)\n",
    "df_winn = None"
   ]
  },
  {
   "cell_type": "code",
   "execution_count": 29,
   "metadata": {},
   "outputs": [
    {
     "name": "stdout",
     "output_type": "stream",
     "text": [
      "5\n",
      "1539263\n",
      "1541502\n",
      "1542534\n",
      "1542153\n",
      "1542044\n",
      "Wall time: 20.8 s\n"
     ]
    }
   ],
   "source": [
    "%%time\n",
    "\n",
    "from ams.utils import twitter_utils\n",
    "from pyspark.sql import functions as F, types as T\n",
    "from ams.utils.date_utils import TZ_AMERICA_NEW_YORK, STANDARD_DAY_FORMAT\n",
    "import pytz\n",
    "\n",
    "# df_dated = twitter_utils.create_date_column(df_has_time)\n",
    "\n",
    "# df_dated = df_has_time.withColumn('date', date_utils.convert_timestamp_to_nyc_date_str(F.col('created_at_timestamp')))\n",
    "\n",
    "def convert_to_date_string(utc_timestamp: int):\n",
    "#     return date_utils.convert_timestamp_to_nyc_date_str(utc_timestamp=utc_timestamp)\n",
    "    dt_utc = datetime.fromtimestamp(utc_timestamp)\n",
    "    dt_nyc = dt_utc.astimezone(pytz.timezone(TZ_AMERICA_NEW_YORK))\n",
    "    return dt_nyc.strftime(STANDARD_DAY_FORMAT)\n",
    "\n",
    "parse_udf = F.udf(convert_to_date_string, T.StringType())\n",
    "\n",
    "df_has_time.persist(StorageLevel.DISK_ONLY)\n",
    "# df_has_time = df_has_time.loc[:1000, :].withColumn('date', parse_udf(F.col('created_at_timestamp')))\n",
    "\n",
    "all_dfs = list(df_has_time.randomSplit([.2, .2, .2, .2, .2]))\n",
    "\n",
    "print(len(all_dfs))\n",
    "\n",
    "new_dfs = []\n",
    "for df in all_dfs:\n",
    "    df = df.withColumn('date', parse_udf(F.col('created_at_timestamp')))\n",
    "    print(df.count())\n",
    "    new_dfs.append(df)\n",
    "\n",
    "all_dfs = None\n",
    "\n",
    "df_dated = reduce(DataFrame.union, new_dfs)\n",
    "# df_has_time = None\n",
    "\n",
    "# t1.withColumn('date', parse_udf(F.col('created_at_timestamp')))\n",
    "# df1, df2, df3, df4, df5 = splitDF(0), splitDF(1), splitDF(2), splitDF(3), splitDF(4)\n",
    "# df1.withColumn('date', parse_udf(F.col('created_at_timestamp')))\n",
    "\n",
    "# df_dated.persist(StorageLevel.DISK_ONLY)\n",
    "# df_has_time = None\n",
    "\n",
    "# print(df_has_time.count())"
   ]
  },
  {
   "cell_type": "code",
   "execution_count": 30,
   "metadata": {
    "pycharm": {
     "name": "#%%\n"
    }
   },
   "outputs": [
    {
     "name": "stdout",
     "output_type": "stream",
     "text": [
      "7610\n",
      "Wall time: 19.6 s\n"
     ]
    }
   ],
   "source": [
    "%%time\n",
    "\n",
    "df_sample = df_dated.sample(fraction=.0001)\n",
    "\n",
    "print(df_sample.count())"
   ]
  },
  {
   "cell_type": "code",
   "execution_count": 31,
   "metadata": {
    "pycharm": {
     "name": "#%%\n"
    }
   },
   "outputs": [
    {
     "name": "stdout",
     "output_type": "stream",
     "text": [
      "Wall time: 5min 18s\n"
     ]
    },
    {
     "data": {
      "text/plain": [
       "<matplotlib.axes._subplots.AxesSubplot at 0x16f57ccee48>"
      ]
     },
     "execution_count": 31,
     "metadata": {},
     "output_type": "execute_result"
    },
    {
     "data": {
      "image/png": "[encoded data removed]",
      "text/plain": [
       "<Figure size 720x360 with 1 Axes>"
      ]
     },
     "metadata": {
      "needs_background": "light"
     },
     "output_type": "display_data"
    }
   ],
   "source": [
    "%%time\n",
    "\n",
    "df_pd = df_sample.toPandas().sort_values('date', inplace=False)\n",
    "\n",
    "day_groups = df_pd.groupby(df_pd['date'])['date'].count()\n",
    "\n",
    "day_groups.plot(kind='bar',figsize=(10,5),legend=None)"
   ]
  },
  {
   "cell_type": "code",
   "execution_count": 32,
   "metadata": {},
   "outputs": [
    {
     "name": "stdout",
     "output_type": "stream",
     "text": [
      "Has followers and compound score: 4810317\n",
      "Wall time: 22.2 s\n"
     ]
    }
   ],
   "source": [
    "%%time\n",
    "\n",
    "df_time_converted = df_dated.withColumn('user_followers_count', F.col('user_followers_count').cast(T.IntegerType())).withColumn('f22_sentiment_compound', F.col('f22_sentiment_compound').cast(T.FloatType()))\n",
    "\n",
    "df_has_scores = df_time_converted.where(F.col('user_followers_count') > 0).where(F.col('f22_sentiment_compound') != 0)\n",
    "\n",
    "print(f'Has followers and compound score: {df_has_scores.count()}')\n",
    "\n",
    "df_com_score = df_has_scores.withColumn('f22_compound_score', F.col('user_followers_count') * F.col('f22_sentiment_compound'))"
   ]
  },
  {
   "cell_type": "code",
   "execution_count": 33,
   "metadata": {},
   "outputs": [
    {
     "name": "stdout",
     "output_type": "stream",
     "text": [
      "C:\\Users\\Chris\\workspaces\\data\\twitter\\learning_prep_drop\\learning_prep_drop_2020-09-29_18-15-09-909.53\n",
      "Wall time: 5min 44s\n"
     ]
    }
   ],
   "source": [
    "%%time\n",
    "\n",
    "from ams.services import dataframe_services\n",
    "\n",
    "tag = 'learning_prep_drop'\n",
    "\n",
    "sent_drop_path = Path(constants.DATA_PATH, twitter_folder, tag)\n",
    "\n",
    "dataframe_services.persist_dataframe_as_csv(df=df_com_score, output_drop_folder_path=sent_drop_path, prefix=tag, num_output_files=1)"
   ]
  },
  {
   "cell_type": "code",
   "execution_count": null,
   "metadata": {},
   "outputs": [],
   "source": []
  }
 ],
 "metadata": {
  "kernelspec": {
   "display_name": "Python 3",
   "language": "python",
   "name": "python3"
  },
  "language_info": {
   "codemirror_mode": {
    "name": "ipython",
    "version": 3
   },
   "file_extension": ".py",
   "mimetype": "text/x-python",
   "name": "python",
   "nbconvert_exporter": "python",
   "pygments_lexer": "ipython3",
   "version": "3.7.7"
  },
  "pycharm": {
   "stem_cell": {
    "cell_type": "raw",
    "source": [],
    "metadata": {
     "collapsed": false
    }
   }
  }
 },
 "nbformat": 4,
 "nbformat_minor": 1
}