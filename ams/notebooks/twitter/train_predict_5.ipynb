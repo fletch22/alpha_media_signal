{
 "cells": [
  {
   "cell_type": "code",
   "execution_count": 1,
   "metadata": {
    "pycharm": {
     "name": "#%%\n"
    }
   },
   "outputs": [],
   "source": [
    "from datetime import timedelta\n",
    "from ams.twitter.PredictionParamFactory import PredictionParamFactory\n",
    "from ams.twitter.twitter_ml_utils import get_next_market_date\n",
    "from ams.utils import date_utils\n",
    "%load_ext autoreload\n",
    "%autoreload 2\n",
    "import sys\n",
    "\n",
    "import gc\n",
    "import pandas as pd\n",
    "from pathlib import Path\n",
    "from ams.config import constants, logger_factory\n",
    "from ams.services import twitter_service\n",
    "from ams.services import ticker_service\n",
    "from ams.twitter import twitter_ml_utils\n",
    "%matplotlib inline\n",
    "\n",
    "pd.set_option('display.max_rows', 5000)\n",
    "pd.set_option('display.max_columns', 500)\n",
    "pd.set_option('display.width', 1000)\n",
    "\n",
    "logger = logger_factory.create(__name__)\n",
    "\n",
    "gc.collect()\n",
    "cell_x = True"
   ]
  },
  {
   "cell_type": "code",
   "execution_count": 2,
   "metadata": {},
   "outputs": [
    {
     "name": "stdout",
     "output_type": "stream",
     "text": [
      "Oldest tweet: 2021-02-13\n",
      "Wall time: 2.17 s\n"
     ]
    }
   ],
   "source": [
    "%%time\n",
    "overall_roi = []\n",
    "df_rec_quart_drop = None\n",
    "\n",
    "great_red_dir = Path(constants.TWITTER_END_DROP)\n",
    "df_tweets = twitter_ml_utils.load_twitter_raw(proc_path=great_red_dir)\n",
    "df_tweets_joinable = twitter_ml_utils.get_stock_matchable(df=df_tweets)\n",
    "\n",
    "print(f\"Oldest tweet: {df_tweets_joinable['date'].max()}\")\n",
    "\n",
    "# pred_params = PredictionParamFactory.create_generic_trainer(df=df, num_hold_days=num_hold_days, max_date_str=max_date_str, min_date_str=min_date_str)\n",
    "\n",
    "tweet_date_str = \"2021-02-10\"\n",
    "\n",
    "tweet_dt = date_utils.parse_std_datestring(tweet_date_str)\n",
    "purchase_date_str = get_next_market_date(date_str=tweet_date_str, num_days=1)\n",
    "num_days_hold = 1"
   ]
  },
  {
   "cell_type": "code",
   "execution_count": 64,
   "metadata": {
    "pycharm": {
     "name": "#%%\n"
    }
   },
   "outputs": [
    {
     "name": "stdout",
     "output_type": "stream",
     "text": [
      "Wall time: 4.69 s\n"
     ]
    }
   ],
   "source": [
    "%%time\n",
    "\n",
    "# tweet_go = df_tweets_joinable.sample(frac=.01)\n",
    "tweet_go = df_tweets_joinable\n",
    "\n",
    "if cell_x:\n",
    "    df_tweets = twitter_ml_utils.easy_convert_columns(df=tweet_go)"
   ]
  },
  {
   "cell_type": "code",
   "execution_count": 65,
   "metadata": {
    "pycharm": {
     "name": "#%%\n"
    },
    "scrolled": true
   },
   "outputs": [
    {
     "ename": "KeyboardInterrupt",
     "evalue": "",
     "output_type": "error",
     "traceback": [
      "\u001B[1;31m---------------------------------------------------------------------------\u001B[0m",
      "\u001B[1;31mKeyboardInterrupt\u001B[0m                         Traceback (most recent call last)",
      "\u001B[1;32m<timed exec>\u001B[0m in \u001B[0;36m<module>\u001B[1;34m\u001B[0m\n",
      "\u001B[1;32m~\\workspaces\\alpha_media_signal\\ams\\twitter\\twitter_ml_utils.py\u001B[0m in \u001B[0;36mget_stocks_based_on_tweets_2\u001B[1;34m(df_tweets, tweet_date_str, num_hold_days, num_days_until_purchase)\u001B[0m\n\u001B[0;32m    750\u001B[0m     df_stock_data = get_twitter_stock_data_2(df_tweets=df_tweets,\n\u001B[0;32m    751\u001B[0m                                              \u001B[0mnum_hold_days\u001B[0m\u001B[1;33m=\u001B[0m\u001B[0mnum_hold_days\u001B[0m\u001B[1;33m,\u001B[0m\u001B[1;33m\u001B[0m\u001B[1;33m\u001B[0m\u001B[0m\n\u001B[1;32m--> 752\u001B[1;33m                                              num_days_until_purchase=num_days_until_purchase)\n\u001B[0m\u001B[0;32m    753\u001B[0m     \u001B[1;32mreturn\u001B[0m \u001B[0mdf_stock_data\u001B[0m\u001B[1;33m\u001B[0m\u001B[1;33m\u001B[0m\u001B[0m\n\u001B[0;32m    754\u001B[0m \u001B[1;33m\u001B[0m\u001B[0m\n",
      "\u001B[1;32m~\\workspaces\\alpha_media_signal\\ams\\twitter\\twitter_ml_utils.py\u001B[0m in \u001B[0;36mget_twitter_stock_data_2\u001B[1;34m(df_tweets, num_hold_days, num_days_until_purchase)\u001B[0m\n\u001B[0;32m    686\u001B[0m     df_stock_data = twitter_service.get_stock_data_for_twitter_companies_2(df_tweets=df_tweets,\n\u001B[0;32m    687\u001B[0m                                                                            \u001B[0mnum_hold_days\u001B[0m\u001B[1;33m=\u001B[0m\u001B[0mnum_hold_days\u001B[0m\u001B[1;33m,\u001B[0m\u001B[1;33m\u001B[0m\u001B[1;33m\u001B[0m\u001B[0m\n\u001B[1;32m--> 688\u001B[1;33m                                                                            num_days_until_purchase=num_days_until_purchase)\n\u001B[0m\u001B[0;32m    689\u001B[0m \u001B[1;33m\u001B[0m\u001B[0m\n\u001B[0;32m    690\u001B[0m     \u001B[0mdf_stock_data\u001B[0m \u001B[1;33m=\u001B[0m \u001B[0madd_future_date_for_nan\u001B[0m\u001B[1;33m(\u001B[0m\u001B[0mdf\u001B[0m\u001B[1;33m=\u001B[0m\u001B[0mdf_stock_data\u001B[0m\u001B[1;33m,\u001B[0m \u001B[0mnum_days_in_future\u001B[0m\u001B[1;33m=\u001B[0m\u001B[0mnum_hold_days\u001B[0m \u001B[1;33m+\u001B[0m \u001B[0mnum_days_until_purchase\u001B[0m\u001B[1;33m)\u001B[0m\u001B[1;33m\u001B[0m\u001B[1;33m\u001B[0m\u001B[0m\n",
      "\u001B[1;32m~\\workspaces\\alpha_media_signal\\ams\\services\\twitter_service.py\u001B[0m in \u001B[0;36mget_stock_data_for_twitter_companies_2\u001B[1;34m(df_tweets, num_hold_days, num_days_until_purchase)\u001B[0m\n\u001B[0;32m    328\u001B[0m \u001B[1;32mdef\u001B[0m \u001B[0mget_stock_data_for_twitter_companies_2\u001B[0m\u001B[1;33m(\u001B[0m\u001B[0mdf_tweets\u001B[0m\u001B[1;33m:\u001B[0m \u001B[0mpd\u001B[0m\u001B[1;33m.\u001B[0m\u001B[0mDataFrame\u001B[0m\u001B[1;33m,\u001B[0m \u001B[0mnum_hold_days\u001B[0m\u001B[1;33m:\u001B[0m \u001B[0mint\u001B[0m\u001B[1;33m,\u001B[0m \u001B[0mnum_days_until_purchase\u001B[0m\u001B[1;33m:\u001B[0m \u001B[0mint\u001B[0m\u001B[1;33m)\u001B[0m\u001B[1;33m:\u001B[0m\u001B[1;33m\u001B[0m\u001B[1;33m\u001B[0m\u001B[0m\n\u001B[0;32m    329\u001B[0m     \u001B[0mttd\u001B[0m \u001B[1;33m=\u001B[0m \u001B[0mticker_service\u001B[0m\u001B[1;33m.\u001B[0m\u001B[0mextract_ticker_tweet_dates\u001B[0m\u001B[1;33m(\u001B[0m\u001B[0mdf_tweets\u001B[0m\u001B[1;33m)\u001B[0m\u001B[1;33m\u001B[0m\u001B[1;33m\u001B[0m\u001B[0m\n\u001B[1;32m--> 330\u001B[1;33m     \u001B[1;32mreturn\u001B[0m \u001B[0mticker_service\u001B[0m\u001B[1;33m.\u001B[0m\u001B[0mget_ticker_on_dates_2\u001B[0m\u001B[1;33m(\u001B[0m\u001B[0mttd\u001B[0m\u001B[1;33m,\u001B[0m \u001B[0mnum_hold_days\u001B[0m\u001B[1;33m=\u001B[0m\u001B[0mnum_hold_days\u001B[0m\u001B[1;33m,\u001B[0m \u001B[0mnum_days_until_purchase\u001B[0m\u001B[1;33m=\u001B[0m\u001B[0mnum_days_until_purchase\u001B[0m\u001B[1;33m)\u001B[0m\u001B[1;33m\u001B[0m\u001B[1;33m\u001B[0m\u001B[0m\n\u001B[0m\u001B[0;32m    331\u001B[0m \u001B[1;33m\u001B[0m\u001B[0m\n\u001B[0;32m    332\u001B[0m \u001B[1;33m\u001B[0m\u001B[0m\n",
      "\u001B[1;32m~\\workspaces\\alpha_media_signal\\ams\\services\\ticker_service.py\u001B[0m in \u001B[0;36mget_ticker_on_dates_2\u001B[1;34m(tick_dates, num_hold_days, num_days_until_purchase)\u001B[0m\n\u001B[0;32m    122\u001B[0m     \u001B[1;32mfor\u001B[0m \u001B[0mticker\u001B[0m\u001B[1;33m,\u001B[0m \u001B[0mdate_strs\u001B[0m \u001B[1;32min\u001B[0m \u001B[0mtick_dates\u001B[0m\u001B[1;33m.\u001B[0m\u001B[0mitems\u001B[0m\u001B[1;33m(\u001B[0m\u001B[1;33m)\u001B[0m\u001B[1;33m:\u001B[0m\u001B[1;33m\u001B[0m\u001B[1;33m\u001B[0m\u001B[0m\n\u001B[0;32m    123\u001B[0m         df_equity = get_equity_on_dates_2(ticker=ticker, date_strs=date_strs,\n\u001B[1;32m--> 124\u001B[1;33m                                           num_hold_days=num_hold_days, num_days_until_purchase=num_days_until_purchase)\n\u001B[0m\u001B[0;32m    125\u001B[0m         \u001B[1;32mif\u001B[0m \u001B[0mdf_equity\u001B[0m \u001B[1;32mis\u001B[0m \u001B[1;32mnot\u001B[0m \u001B[1;32mNone\u001B[0m\u001B[1;33m:\u001B[0m\u001B[1;33m\u001B[0m\u001B[1;33m\u001B[0m\u001B[0m\n\u001B[0;32m    126\u001B[0m             \u001B[0mall_dfs\u001B[0m\u001B[1;33m.\u001B[0m\u001B[0mappend\u001B[0m\u001B[1;33m(\u001B[0m\u001B[0mdf_equity\u001B[0m\u001B[1;33m)\u001B[0m\u001B[1;33m\u001B[0m\u001B[1;33m\u001B[0m\u001B[0m\n",
      "\u001B[1;32m~\\workspaces\\alpha_media_signal\\ams\\services\\ticker_service.py\u001B[0m in \u001B[0;36mget_equity_on_dates_2\u001B[1;34m(ticker, date_strs, num_hold_days, num_days_until_purchase)\u001B[0m\n\u001B[0;32m    201\u001B[0m \u001B[1;33m\u001B[0m\u001B[0m\n\u001B[0;32m    202\u001B[0m \u001B[1;32mdef\u001B[0m \u001B[0mget_equity_on_dates_2\u001B[0m\u001B[1;33m(\u001B[0m\u001B[0mticker\u001B[0m\u001B[1;33m:\u001B[0m \u001B[0mstr\u001B[0m\u001B[1;33m,\u001B[0m \u001B[0mdate_strs\u001B[0m\u001B[1;33m:\u001B[0m \u001B[0mList\u001B[0m\u001B[1;33m[\u001B[0m\u001B[0mstr\u001B[0m\u001B[1;33m]\u001B[0m\u001B[1;33m,\u001B[0m \u001B[0mnum_hold_days\u001B[0m\u001B[1;33m:\u001B[0m \u001B[0mint\u001B[0m\u001B[1;33m,\u001B[0m \u001B[0mnum_days_until_purchase\u001B[0m\u001B[1;33m:\u001B[0m \u001B[0mint\u001B[0m\u001B[1;33m)\u001B[0m \u001B[1;33m->\u001B[0m \u001B[0mpd\u001B[0m\u001B[1;33m.\u001B[0m\u001B[0mDataFrame\u001B[0m\u001B[1;33m:\u001B[0m\u001B[1;33m\u001B[0m\u001B[1;33m\u001B[0m\u001B[0m\n\u001B[1;32m--> 203\u001B[1;33m     \u001B[0mdf\u001B[0m \u001B[1;33m=\u001B[0m \u001B[0mget_ticker_eod_data\u001B[0m\u001B[1;33m(\u001B[0m\u001B[0mticker\u001B[0m\u001B[1;33m)\u001B[0m\u001B[1;33m\u001B[0m\u001B[1;33m\u001B[0m\u001B[0m\n\u001B[0m\u001B[0;32m    204\u001B[0m     \u001B[0mdf_in_dates\u001B[0m \u001B[1;33m=\u001B[0m \u001B[1;32mNone\u001B[0m\u001B[1;33m\u001B[0m\u001B[1;33m\u001B[0m\u001B[0m\n\u001B[0;32m    205\u001B[0m     \u001B[1;32mif\u001B[0m \u001B[0mdf\u001B[0m \u001B[1;32mis\u001B[0m \u001B[1;32mnot\u001B[0m \u001B[1;32mNone\u001B[0m\u001B[1;33m:\u001B[0m\u001B[1;33m\u001B[0m\u001B[1;33m\u001B[0m\u001B[0m\n",
      "\u001B[1;32m~\\workspaces\\alpha_media_signal\\ams\\services\\ticker_service.py\u001B[0m in \u001B[0;36mget_ticker_eod_data\u001B[1;34m(ticker)\u001B[0m\n\u001B[0;32m     37\u001B[0m     \u001B[0mdf\u001B[0m \u001B[1;33m=\u001B[0m \u001B[1;32mNone\u001B[0m\u001B[1;33m\u001B[0m\u001B[1;33m\u001B[0m\u001B[0m\n\u001B[0;32m     38\u001B[0m     \u001B[1;32mif\u001B[0m \u001B[0mticker_path\u001B[0m\u001B[1;33m.\u001B[0m\u001B[0mexists\u001B[0m\u001B[1;33m(\u001B[0m\u001B[1;33m)\u001B[0m\u001B[1;33m:\u001B[0m\u001B[1;33m\u001B[0m\u001B[1;33m\u001B[0m\u001B[0m\n\u001B[1;32m---> 39\u001B[1;33m         \u001B[0mdf\u001B[0m \u001B[1;33m=\u001B[0m \u001B[0mpd\u001B[0m\u001B[1;33m.\u001B[0m\u001B[0mread_csv\u001B[0m\u001B[1;33m(\u001B[0m\u001B[0mstr\u001B[0m\u001B[1;33m(\u001B[0m\u001B[0mticker_path\u001B[0m\u001B[1;33m)\u001B[0m\u001B[1;33m)\u001B[0m\u001B[1;33m\u001B[0m\u001B[1;33m\u001B[0m\u001B[0m\n\u001B[0m\u001B[0;32m     40\u001B[0m \u001B[1;33m\u001B[0m\u001B[0m\n\u001B[0;32m     41\u001B[0m     \u001B[1;32mreturn\u001B[0m \u001B[0mdf\u001B[0m\u001B[1;33m\u001B[0m\u001B[1;33m\u001B[0m\u001B[0m\n",
      "\u001B[1;32mc:\\programdata\\miniconda3\\envs\\alpha_media_signal\\lib\\site-packages\\pandas\\io\\parsers.py\u001B[0m in \u001B[0;36mread_csv\u001B[1;34m(filepath_or_buffer, sep, delimiter, header, names, index_col, usecols, squeeze, prefix, mangle_dupe_cols, dtype, engine, converters, true_values, false_values, skipinitialspace, skiprows, skipfooter, nrows, na_values, keep_default_na, na_filter, verbose, skip_blank_lines, parse_dates, infer_datetime_format, keep_date_col, date_parser, dayfirst, cache_dates, iterator, chunksize, compression, thousands, decimal, lineterminator, quotechar, quoting, doublequote, escapechar, comment, encoding, dialect, error_bad_lines, warn_bad_lines, delim_whitespace, low_memory, memory_map, float_precision)\u001B[0m\n\u001B[0;32m    686\u001B[0m     )\n\u001B[0;32m    687\u001B[0m \u001B[1;33m\u001B[0m\u001B[0m\n\u001B[1;32m--> 688\u001B[1;33m     \u001B[1;32mreturn\u001B[0m \u001B[0m_read\u001B[0m\u001B[1;33m(\u001B[0m\u001B[0mfilepath_or_buffer\u001B[0m\u001B[1;33m,\u001B[0m \u001B[0mkwds\u001B[0m\u001B[1;33m)\u001B[0m\u001B[1;33m\u001B[0m\u001B[1;33m\u001B[0m\u001B[0m\n\u001B[0m\u001B[0;32m    689\u001B[0m \u001B[1;33m\u001B[0m\u001B[0m\n\u001B[0;32m    690\u001B[0m \u001B[1;33m\u001B[0m\u001B[0m\n",
      "\u001B[1;32mc:\\programdata\\miniconda3\\envs\\alpha_media_signal\\lib\\site-packages\\pandas\\io\\parsers.py\u001B[0m in \u001B[0;36m_read\u001B[1;34m(filepath_or_buffer, kwds)\u001B[0m\n\u001B[0;32m    458\u001B[0m \u001B[1;33m\u001B[0m\u001B[0m\n\u001B[0;32m    459\u001B[0m     \u001B[1;32mtry\u001B[0m\u001B[1;33m:\u001B[0m\u001B[1;33m\u001B[0m\u001B[1;33m\u001B[0m\u001B[0m\n\u001B[1;32m--> 460\u001B[1;33m         \u001B[0mdata\u001B[0m \u001B[1;33m=\u001B[0m \u001B[0mparser\u001B[0m\u001B[1;33m.\u001B[0m\u001B[0mread\u001B[0m\u001B[1;33m(\u001B[0m\u001B[0mnrows\u001B[0m\u001B[1;33m)\u001B[0m\u001B[1;33m\u001B[0m\u001B[1;33m\u001B[0m\u001B[0m\n\u001B[0m\u001B[0;32m    461\u001B[0m     \u001B[1;32mfinally\u001B[0m\u001B[1;33m:\u001B[0m\u001B[1;33m\u001B[0m\u001B[1;33m\u001B[0m\u001B[0m\n\u001B[0;32m    462\u001B[0m         \u001B[0mparser\u001B[0m\u001B[1;33m.\u001B[0m\u001B[0mclose\u001B[0m\u001B[1;33m(\u001B[0m\u001B[1;33m)\u001B[0m\u001B[1;33m\u001B[0m\u001B[1;33m\u001B[0m\u001B[0m\n",
      "\u001B[1;32mc:\\programdata\\miniconda3\\envs\\alpha_media_signal\\lib\\site-packages\\pandas\\io\\parsers.py\u001B[0m in \u001B[0;36mread\u001B[1;34m(self, nrows)\u001B[0m\n\u001B[0;32m   1196\u001B[0m     \u001B[1;32mdef\u001B[0m \u001B[0mread\u001B[0m\u001B[1;33m(\u001B[0m\u001B[0mself\u001B[0m\u001B[1;33m,\u001B[0m \u001B[0mnrows\u001B[0m\u001B[1;33m=\u001B[0m\u001B[1;32mNone\u001B[0m\u001B[1;33m)\u001B[0m\u001B[1;33m:\u001B[0m\u001B[1;33m\u001B[0m\u001B[1;33m\u001B[0m\u001B[0m\n\u001B[0;32m   1197\u001B[0m         \u001B[0mnrows\u001B[0m \u001B[1;33m=\u001B[0m \u001B[0m_validate_integer\u001B[0m\u001B[1;33m(\u001B[0m\u001B[1;34m\"nrows\"\u001B[0m\u001B[1;33m,\u001B[0m \u001B[0mnrows\u001B[0m\u001B[1;33m)\u001B[0m\u001B[1;33m\u001B[0m\u001B[1;33m\u001B[0m\u001B[0m\n\u001B[1;32m-> 1198\u001B[1;33m         \u001B[0mret\u001B[0m \u001B[1;33m=\u001B[0m \u001B[0mself\u001B[0m\u001B[1;33m.\u001B[0m\u001B[0m_engine\u001B[0m\u001B[1;33m.\u001B[0m\u001B[0mread\u001B[0m\u001B[1;33m(\u001B[0m\u001B[0mnrows\u001B[0m\u001B[1;33m)\u001B[0m\u001B[1;33m\u001B[0m\u001B[1;33m\u001B[0m\u001B[0m\n\u001B[0m\u001B[0;32m   1199\u001B[0m \u001B[1;33m\u001B[0m\u001B[0m\n\u001B[0;32m   1200\u001B[0m         \u001B[1;31m# May alter columns / col_dict\u001B[0m\u001B[1;33m\u001B[0m\u001B[1;33m\u001B[0m\u001B[1;33m\u001B[0m\u001B[0m\n",
      "\u001B[1;32mc:\\programdata\\miniconda3\\envs\\alpha_media_signal\\lib\\site-packages\\pandas\\io\\parsers.py\u001B[0m in \u001B[0;36mread\u001B[1;34m(self, nrows)\u001B[0m\n\u001B[0;32m   2155\u001B[0m     \u001B[1;32mdef\u001B[0m \u001B[0mread\u001B[0m\u001B[1;33m(\u001B[0m\u001B[0mself\u001B[0m\u001B[1;33m,\u001B[0m \u001B[0mnrows\u001B[0m\u001B[1;33m=\u001B[0m\u001B[1;32mNone\u001B[0m\u001B[1;33m)\u001B[0m\u001B[1;33m:\u001B[0m\u001B[1;33m\u001B[0m\u001B[1;33m\u001B[0m\u001B[0m\n\u001B[0;32m   2156\u001B[0m         \u001B[1;32mtry\u001B[0m\u001B[1;33m:\u001B[0m\u001B[1;33m\u001B[0m\u001B[1;33m\u001B[0m\u001B[0m\n\u001B[1;32m-> 2157\u001B[1;33m             \u001B[0mdata\u001B[0m \u001B[1;33m=\u001B[0m \u001B[0mself\u001B[0m\u001B[1;33m.\u001B[0m\u001B[0m_reader\u001B[0m\u001B[1;33m.\u001B[0m\u001B[0mread\u001B[0m\u001B[1;33m(\u001B[0m\u001B[0mnrows\u001B[0m\u001B[1;33m)\u001B[0m\u001B[1;33m\u001B[0m\u001B[1;33m\u001B[0m\u001B[0m\n\u001B[0m\u001B[0;32m   2158\u001B[0m         \u001B[1;32mexcept\u001B[0m \u001B[0mStopIteration\u001B[0m\u001B[1;33m:\u001B[0m\u001B[1;33m\u001B[0m\u001B[1;33m\u001B[0m\u001B[0m\n\u001B[0;32m   2159\u001B[0m             \u001B[1;32mif\u001B[0m \u001B[0mself\u001B[0m\u001B[1;33m.\u001B[0m\u001B[0m_first_chunk\u001B[0m\u001B[1;33m:\u001B[0m\u001B[1;33m\u001B[0m\u001B[1;33m\u001B[0m\u001B[0m\n",
      "\u001B[1;32mpandas\\_libs\\parsers.pyx\u001B[0m in \u001B[0;36mpandas._libs.parsers.TextReader.read\u001B[1;34m()\u001B[0m\n",
      "\u001B[1;32mpandas\\_libs\\parsers.pyx\u001B[0m in \u001B[0;36mpandas._libs.parsers.TextReader._read_low_memory\u001B[1;34m()\u001B[0m\n",
      "\u001B[1;32mpandas\\_libs\\parsers.pyx\u001B[0m in \u001B[0;36mpandas._libs.parsers.TextReader._read_rows\u001B[1;34m()\u001B[0m\n",
      "\u001B[1;32mpandas\\_libs\\parsers.pyx\u001B[0m in \u001B[0;36mpandas._libs.parsers.TextReader._convert_column_data\u001B[1;34m()\u001B[0m\n",
      "\u001B[1;32mpandas\\_libs\\parsers.pyx\u001B[0m in \u001B[0;36mpandas._libs.parsers.TextReader._convert_tokens\u001B[1;34m()\u001B[0m\n",
      "\u001B[1;32mpandas\\_libs\\parsers.pyx\u001B[0m in \u001B[0;36mpandas._libs.parsers.TextReader._convert_with_dtype\u001B[1;34m()\u001B[0m\n",
      "\u001B[1;32mc:\\programdata\\miniconda3\\envs\\alpha_media_signal\\lib\\site-packages\\pandas\\core\\dtypes\\common.py\u001B[0m in \u001B[0;36mis_categorical_dtype\u001B[1;34m(arr_or_dtype)\u001B[0m\n\u001B[0;32m    528\u001B[0m \u001B[1;33m\u001B[0m\u001B[0m\n\u001B[0;32m    529\u001B[0m \u001B[1;33m\u001B[0m\u001B[0m\n\u001B[1;32m--> 530\u001B[1;33m \u001B[1;32mdef\u001B[0m \u001B[0mis_categorical_dtype\u001B[0m\u001B[1;33m(\u001B[0m\u001B[0marr_or_dtype\u001B[0m\u001B[1;33m)\u001B[0m \u001B[1;33m->\u001B[0m \u001B[0mbool\u001B[0m\u001B[1;33m:\u001B[0m\u001B[1;33m\u001B[0m\u001B[1;33m\u001B[0m\u001B[0m\n\u001B[0m\u001B[0;32m    531\u001B[0m     \"\"\"\n\u001B[0;32m    532\u001B[0m     \u001B[0mCheck\u001B[0m \u001B[0mwhether\u001B[0m \u001B[0man\u001B[0m \u001B[0marray\u001B[0m\u001B[1;33m-\u001B[0m\u001B[0mlike\u001B[0m \u001B[1;32mor\u001B[0m \u001B[0mdtype\u001B[0m \u001B[1;32mis\u001B[0m \u001B[0mof\u001B[0m \u001B[0mthe\u001B[0m \u001B[0mCategorical\u001B[0m \u001B[0mdtype\u001B[0m\u001B[1;33m.\u001B[0m\u001B[1;33m\u001B[0m\u001B[1;33m\u001B[0m\u001B[0m\n",
      "\u001B[1;31mKeyboardInterrupt\u001B[0m: "
     ]
    }
   ],
   "source": [
    "%%time\n",
    "num_hold_days = 1\n",
    "num_days_until_purchase = 1\n",
    "oldest_tweet_date = \"2020-08-10\"\n",
    "\n",
    "# print(df_tweets[df_tweets[\"date\"] == \"2021-02-07\"].shape[0])\n",
    "# df_tweets.loc[:, \"purchase_date\"] == df[\"date\"].apply(get_next_market_)\n",
    "\n",
    "if cell_x:\n",
    "    df_sd_futured = twitter_ml_utils.get_stocks_based_on_tweets_2(df_tweets=df_tweets, tweet_date_str=tweet_date_str, num_hold_days=num_hold_days, num_days_until_purchase=num_days_until_purchase)"
   ]
  },
  {
   "cell_type": "code",
   "execution_count": 66,
   "metadata": {},
   "outputs": [
    {
     "data": {
      "text/html": [
       "<div>\n",
       "<style scoped>\n",
       "    .dataframe tbody tr th:only-of-type {\n",
       "        vertical-align: middle;\n",
       "    }\n",
       "\n",
       "    .dataframe tbody tr th {\n",
       "        vertical-align: top;\n",
       "    }\n",
       "\n",
       "    .dataframe thead th {\n",
       "        text-align: right;\n",
       "    }\n",
       "</style>\n",
       "<table border=\"1\" class=\"dataframe\">\n",
       "  <thead>\n",
       "    <tr style=\"text-align: right;\">\n",
       "      <th></th>\n",
       "      <th>ticker</th>\n",
       "      <th>date</th>\n",
       "      <th>purchase_date</th>\n",
       "      <th>future_date</th>\n",
       "    </tr>\n",
       "  </thead>\n",
       "  <tbody>\n",
       "    <tr>\n",
       "      <th>122</th>\n",
       "      <td>AACQ</td>\n",
       "      <td>2021-01-06</td>\n",
       "      <td>2021-01-07</td>\n",
       "      <td>2021-01-08</td>\n",
       "    </tr>\n",
       "    <tr>\n",
       "      <th>1811</th>\n",
       "      <td>AAOI</td>\n",
       "      <td>2020-12-04</td>\n",
       "      <td>2020-12-07</td>\n",
       "      <td>2020-12-08</td>\n",
       "    </tr>\n",
       "    <tr>\n",
       "      <th>3022</th>\n",
       "      <td>AAPL</td>\n",
       "      <td>2021-01-05</td>\n",
       "      <td>2021-01-06</td>\n",
       "      <td>2021-01-07</td>\n",
       "    </tr>\n",
       "    <tr>\n",
       "      <th>2962</th>\n",
       "      <td>AAXN</td>\n",
       "      <td>2020-10-08</td>\n",
       "      <td>2020-10-09</td>\n",
       "      <td>2020-10-12</td>\n",
       "    </tr>\n",
       "    <tr>\n",
       "      <th>3018</th>\n",
       "      <td>AAXN</td>\n",
       "      <td>2020-12-29</td>\n",
       "      <td>2020-12-30</td>\n",
       "      <td>2020-12-31</td>\n",
       "    </tr>\n",
       "  </tbody>\n",
       "</table>\n",
       "</div>"
      ],
      "text/plain": [
       "     ticker        date purchase_date future_date\n",
       "122    AACQ  2021-01-06    2021-01-07  2021-01-08\n",
       "1811   AAOI  2020-12-04    2020-12-07  2020-12-08\n",
       "3022   AAPL  2021-01-05    2021-01-06  2021-01-07\n",
       "2962   AAXN  2020-10-08    2020-10-09  2020-10-12\n",
       "3018   AAXN  2020-12-29    2020-12-30  2020-12-31"
      ]
     },
     "execution_count": 66,
     "metadata": {},
     "output_type": "execute_result"
    }
   ],
   "source": [
    "# if cell_x:\n",
    "    \n",
    "#     print(df_sd_futured.shape[0])\n",
    "#     print(list(df_sd_futured.columns))\n",
    "df_sd_futured[[\"ticker\", \"date\", \"purchase_date\", \"future_date\"]].head()"
   ]
  },
  {
   "cell_type": "code",
   "execution_count": 67,
   "metadata": {
    "pycharm": {
     "name": "#%%\n"
    }
   },
   "outputs": [
    {
     "ename": "KeyboardInterrupt",
     "evalue": "",
     "output_type": "error",
     "traceback": [
      "\u001B[1;31m---------------------------------------------------------------------------\u001B[0m",
      "\u001B[1;31mKeyboardInterrupt\u001B[0m                         Traceback (most recent call last)",
      "\u001B[1;32m<timed exec>\u001B[0m in \u001B[0;36m<module>\u001B[1;34m\u001B[0m\n",
      "\u001B[1;32m~\\workspaces\\alpha_media_signal\\ams\\twitter\\twitter_ml_utils.py\u001B[0m in \u001B[0;36mcombine_with_quarterly_stock_data\u001B[1;34m(df)\u001B[0m\n\u001B[0;32m    765\u001B[0m     \u001B[1;31m# without stock fundamentals from the future leaking data into the daily tweet + daily stock data.\u001B[0m\u001B[1;33m\u001B[0m\u001B[1;33m\u001B[0m\u001B[1;33m\u001B[0m\u001B[0m\n\u001B[0;32m    766\u001B[0m \u001B[1;33m\u001B[0m\u001B[0m\n\u001B[1;32m--> 767\u001B[1;33m     \u001B[0mdf_rec_quart_drop\u001B[0m \u001B[1;33m=\u001B[0m \u001B[0mget_quarterly_data\u001B[0m\u001B[1;33m(\u001B[0m\u001B[1;33m)\u001B[0m\u001B[1;33m\u001B[0m\u001B[1;33m\u001B[0m\u001B[0m\n\u001B[0m\u001B[0;32m    768\u001B[0m     \u001B[0mcolumns_fundy\u001B[0m \u001B[1;33m=\u001B[0m \u001B[0mlist\u001B[0m\u001B[1;33m(\u001B[0m\u001B[0mdf_rec_quart_drop\u001B[0m\u001B[1;33m.\u001B[0m\u001B[0mcolumns\u001B[0m\u001B[1;33m)\u001B[0m\u001B[1;33m\u001B[0m\u001B[1;33m\u001B[0m\u001B[0m\n\u001B[0;32m    769\u001B[0m     \u001B[0mdf_result\u001B[0m \u001B[1;33m=\u001B[0m \u001B[0mmerge_fundies_with_stock\u001B[0m\u001B[1;33m(\u001B[0m\u001B[0mdf_stock_data\u001B[0m\u001B[1;33m=\u001B[0m\u001B[0mdf\u001B[0m\u001B[1;33m)\u001B[0m\u001B[1;33m.\u001B[0m\u001B[0mcopy\u001B[0m\u001B[1;33m(\u001B[0m\u001B[1;33m)\u001B[0m\u001B[1;33m\u001B[0m\u001B[1;33m\u001B[0m\u001B[0m\n",
      "\u001B[1;32m~\\workspaces\\alpha_media_signal\\ams\\twitter\\twitter_ml_utils.py\u001B[0m in \u001B[0;36mget_quarterly_data\u001B[1;34m()\u001B[0m\n\u001B[0;32m    757\u001B[0m     \u001B[1;32mglobal\u001B[0m \u001B[0mdf_rec_quart_drop\u001B[0m\u001B[1;33m\u001B[0m\u001B[1;33m\u001B[0m\u001B[0m\n\u001B[0;32m    758\u001B[0m     \u001B[1;32mif\u001B[0m \u001B[0mdf_rec_quart_drop\u001B[0m \u001B[1;32mis\u001B[0m \u001B[1;32mNone\u001B[0m\u001B[1;33m:\u001B[0m\u001B[1;33m\u001B[0m\u001B[1;33m\u001B[0m\u001B[0m\n\u001B[1;32m--> 759\u001B[1;33m         \u001B[0mdf_rec_quart_drop\u001B[0m \u001B[1;33m=\u001B[0m \u001B[0mtwitter_service\u001B[0m\u001B[1;33m.\u001B[0m\u001B[0mget_all_quarterly_data_for_twitter\u001B[0m\u001B[1;33m(\u001B[0m\u001B[1;33m)\u001B[0m\u001B[1;33m\u001B[0m\u001B[1;33m\u001B[0m\u001B[0m\n\u001B[0m\u001B[0;32m    760\u001B[0m     \u001B[1;32mreturn\u001B[0m \u001B[0mdf_rec_quart_drop\u001B[0m\u001B[1;33m.\u001B[0m\u001B[0mcopy\u001B[0m\u001B[1;33m(\u001B[0m\u001B[1;33m)\u001B[0m\u001B[1;33m\u001B[0m\u001B[1;33m\u001B[0m\u001B[0m\n\u001B[0;32m    761\u001B[0m \u001B[1;33m\u001B[0m\u001B[0m\n",
      "\u001B[1;32m~\\workspaces\\alpha_media_signal\\ams\\services\\twitter_service.py\u001B[0m in \u001B[0;36mget_all_quarterly_data_for_twitter\u001B[1;34m()\u001B[0m\n\u001B[0;32m    338\u001B[0m \u001B[1;33m\u001B[0m\u001B[0m\n\u001B[0;32m    339\u001B[0m \u001B[1;32mdef\u001B[0m \u001B[0mget_all_quarterly_data_for_twitter\u001B[0m\u001B[1;33m(\u001B[0m\u001B[1;33m)\u001B[0m\u001B[1;33m:\u001B[0m\u001B[1;33m\u001B[0m\u001B[1;33m\u001B[0m\u001B[0m\n\u001B[1;32m--> 340\u001B[1;33m     \u001B[0mdf_rec_quart\u001B[0m \u001B[1;33m=\u001B[0m \u001B[0mequity_fundy_service\u001B[0m\u001B[1;33m.\u001B[0m\u001B[0mget_all_quarterly_data\u001B[0m\u001B[1;33m(\u001B[0m\u001B[1;33m)\u001B[0m\u001B[1;33m\u001B[0m\u001B[1;33m\u001B[0m\u001B[0m\n\u001B[0m\u001B[0;32m    341\u001B[0m     \u001B[1;32mreturn\u001B[0m \u001B[0mdf_rec_quart\u001B[0m\u001B[1;33m.\u001B[0m\u001B[0mdrop\u001B[0m\u001B[1;33m(\u001B[0m\u001B[0mcolumns\u001B[0m\u001B[1;33m=\u001B[0m\u001B[1;33m[\u001B[0m\u001B[1;34m\"lastupdated\"\u001B[0m\u001B[1;33m,\u001B[0m \u001B[1;34m\"dimension\"\u001B[0m\u001B[1;33m,\u001B[0m \u001B[1;34m\"datekey\"\u001B[0m\u001B[1;33m,\u001B[0m \u001B[1;34m\"reportperiod\"\u001B[0m\u001B[1;33m]\u001B[0m\u001B[1;33m)\u001B[0m\u001B[1;33m\u001B[0m\u001B[1;33m\u001B[0m\u001B[0m\n\u001B[0;32m    342\u001B[0m \u001B[1;33m\u001B[0m\u001B[0m\n",
      "\u001B[1;32m~\\workspaces\\alpha_media_signal\\ams\\services\\equities\\equity_fundy_service.py\u001B[0m in \u001B[0;36mget_all_quarterly_data\u001B[1;34m()\u001B[0m\n\u001B[0;32m     19\u001B[0m \u001B[1;33m\u001B[0m\u001B[0m\n\u001B[0;32m     20\u001B[0m \u001B[1;32mdef\u001B[0m \u001B[0mget_all_quarterly_data\u001B[0m\u001B[1;33m(\u001B[0m\u001B[1;33m)\u001B[0m\u001B[1;33m:\u001B[0m\u001B[1;33m\u001B[0m\u001B[1;33m\u001B[0m\u001B[0m\n\u001B[1;32m---> 21\u001B[1;33m     \u001B[0mdf\u001B[0m \u001B[1;33m=\u001B[0m \u001B[0mget_equity_fundies\u001B[0m\u001B[1;33m(\u001B[0m\u001B[1;33m)\u001B[0m\u001B[1;33m\u001B[0m\u001B[1;33m\u001B[0m\u001B[0m\n\u001B[0m\u001B[0;32m     22\u001B[0m \u001B[1;33m\u001B[0m\u001B[0m\n\u001B[0;32m     23\u001B[0m     \u001B[0mdf_fil\u001B[0m \u001B[1;33m=\u001B[0m \u001B[0mdf\u001B[0m\u001B[1;33m[\u001B[0m\u001B[0mdf\u001B[0m\u001B[1;33m[\u001B[0m\u001B[1;34m\"dimension\"\u001B[0m\u001B[1;33m]\u001B[0m \u001B[1;33m==\u001B[0m \u001B[0mEquityFundaDimension\u001B[0m\u001B[1;33m.\u001B[0m\u001B[0mAsReportedQuarterly\u001B[0m\u001B[1;33m.\u001B[0m\u001B[0mvalue\u001B[0m\u001B[1;33m]\u001B[0m\u001B[1;33m.\u001B[0m\u001B[0mcopy\u001B[0m\u001B[1;33m(\u001B[0m\u001B[1;33m)\u001B[0m\u001B[1;33m\u001B[0m\u001B[1;33m\u001B[0m\u001B[0m\n",
      "\u001B[1;32m~\\workspaces\\alpha_media_signal\\ams\\services\\equities\\equity_fundy_service.py\u001B[0m in \u001B[0;36mget_equity_fundies\u001B[1;34m()\u001B[0m\n\u001B[0;32m      6\u001B[0m \u001B[1;33m\u001B[0m\u001B[0m\n\u001B[0;32m      7\u001B[0m \u001B[1;32mdef\u001B[0m \u001B[0mget_equity_fundies\u001B[0m\u001B[1;33m(\u001B[0m\u001B[1;33m)\u001B[0m\u001B[1;33m:\u001B[0m\u001B[1;33m\u001B[0m\u001B[1;33m\u001B[0m\u001B[0m\n\u001B[1;32m----> 8\u001B[1;33m     \u001B[1;32mreturn\u001B[0m \u001B[0mpd\u001B[0m\u001B[1;33m.\u001B[0m\u001B[0mread_csv\u001B[0m\u001B[1;33m(\u001B[0m\u001B[0mconstants\u001B[0m\u001B[1;33m.\u001B[0m\u001B[0mSHAR_CORE_FUNDY_FILE_PATH\u001B[0m\u001B[1;33m)\u001B[0m\u001B[1;33m\u001B[0m\u001B[1;33m\u001B[0m\u001B[0m\n\u001B[0m\u001B[0;32m      9\u001B[0m \u001B[1;33m\u001B[0m\u001B[0m\n\u001B[0;32m     10\u001B[0m \u001B[1;33m\u001B[0m\u001B[0m\n",
      "\u001B[1;32mc:\\programdata\\miniconda3\\envs\\alpha_media_signal\\lib\\site-packages\\pandas\\io\\parsers.py\u001B[0m in \u001B[0;36mread_csv\u001B[1;34m(filepath_or_buffer, sep, delimiter, header, names, index_col, usecols, squeeze, prefix, mangle_dupe_cols, dtype, engine, converters, true_values, false_values, skipinitialspace, skiprows, skipfooter, nrows, na_values, keep_default_na, na_filter, verbose, skip_blank_lines, parse_dates, infer_datetime_format, keep_date_col, date_parser, dayfirst, cache_dates, iterator, chunksize, compression, thousands, decimal, lineterminator, quotechar, quoting, doublequote, escapechar, comment, encoding, dialect, error_bad_lines, warn_bad_lines, delim_whitespace, low_memory, memory_map, float_precision)\u001B[0m\n\u001B[0;32m    686\u001B[0m     )\n\u001B[0;32m    687\u001B[0m \u001B[1;33m\u001B[0m\u001B[0m\n\u001B[1;32m--> 688\u001B[1;33m     \u001B[1;32mreturn\u001B[0m \u001B[0m_read\u001B[0m\u001B[1;33m(\u001B[0m\u001B[0mfilepath_or_buffer\u001B[0m\u001B[1;33m,\u001B[0m \u001B[0mkwds\u001B[0m\u001B[1;33m)\u001B[0m\u001B[1;33m\u001B[0m\u001B[1;33m\u001B[0m\u001B[0m\n\u001B[0m\u001B[0;32m    689\u001B[0m \u001B[1;33m\u001B[0m\u001B[0m\n\u001B[0;32m    690\u001B[0m \u001B[1;33m\u001B[0m\u001B[0m\n",
      "\u001B[1;32mc:\\programdata\\miniconda3\\envs\\alpha_media_signal\\lib\\site-packages\\pandas\\io\\parsers.py\u001B[0m in \u001B[0;36m_read\u001B[1;34m(filepath_or_buffer, kwds)\u001B[0m\n\u001B[0;32m    458\u001B[0m \u001B[1;33m\u001B[0m\u001B[0m\n\u001B[0;32m    459\u001B[0m     \u001B[1;32mtry\u001B[0m\u001B[1;33m:\u001B[0m\u001B[1;33m\u001B[0m\u001B[1;33m\u001B[0m\u001B[0m\n\u001B[1;32m--> 460\u001B[1;33m         \u001B[0mdata\u001B[0m \u001B[1;33m=\u001B[0m \u001B[0mparser\u001B[0m\u001B[1;33m.\u001B[0m\u001B[0mread\u001B[0m\u001B[1;33m(\u001B[0m\u001B[0mnrows\u001B[0m\u001B[1;33m)\u001B[0m\u001B[1;33m\u001B[0m\u001B[1;33m\u001B[0m\u001B[0m\n\u001B[0m\u001B[0;32m    461\u001B[0m     \u001B[1;32mfinally\u001B[0m\u001B[1;33m:\u001B[0m\u001B[1;33m\u001B[0m\u001B[1;33m\u001B[0m\u001B[0m\n\u001B[0;32m    462\u001B[0m         \u001B[0mparser\u001B[0m\u001B[1;33m.\u001B[0m\u001B[0mclose\u001B[0m\u001B[1;33m(\u001B[0m\u001B[1;33m)\u001B[0m\u001B[1;33m\u001B[0m\u001B[1;33m\u001B[0m\u001B[0m\n",
      "\u001B[1;32mc:\\programdata\\miniconda3\\envs\\alpha_media_signal\\lib\\site-packages\\pandas\\io\\parsers.py\u001B[0m in \u001B[0;36mread\u001B[1;34m(self, nrows)\u001B[0m\n\u001B[0;32m   1196\u001B[0m     \u001B[1;32mdef\u001B[0m \u001B[0mread\u001B[0m\u001B[1;33m(\u001B[0m\u001B[0mself\u001B[0m\u001B[1;33m,\u001B[0m \u001B[0mnrows\u001B[0m\u001B[1;33m=\u001B[0m\u001B[1;32mNone\u001B[0m\u001B[1;33m)\u001B[0m\u001B[1;33m:\u001B[0m\u001B[1;33m\u001B[0m\u001B[1;33m\u001B[0m\u001B[0m\n\u001B[0;32m   1197\u001B[0m         \u001B[0mnrows\u001B[0m \u001B[1;33m=\u001B[0m \u001B[0m_validate_integer\u001B[0m\u001B[1;33m(\u001B[0m\u001B[1;34m\"nrows\"\u001B[0m\u001B[1;33m,\u001B[0m \u001B[0mnrows\u001B[0m\u001B[1;33m)\u001B[0m\u001B[1;33m\u001B[0m\u001B[1;33m\u001B[0m\u001B[0m\n\u001B[1;32m-> 1198\u001B[1;33m         \u001B[0mret\u001B[0m \u001B[1;33m=\u001B[0m \u001B[0mself\u001B[0m\u001B[1;33m.\u001B[0m\u001B[0m_engine\u001B[0m\u001B[1;33m.\u001B[0m\u001B[0mread\u001B[0m\u001B[1;33m(\u001B[0m\u001B[0mnrows\u001B[0m\u001B[1;33m)\u001B[0m\u001B[1;33m\u001B[0m\u001B[1;33m\u001B[0m\u001B[0m\n\u001B[0m\u001B[0;32m   1199\u001B[0m \u001B[1;33m\u001B[0m\u001B[0m\n\u001B[0;32m   1200\u001B[0m         \u001B[1;31m# May alter columns / col_dict\u001B[0m\u001B[1;33m\u001B[0m\u001B[1;33m\u001B[0m\u001B[1;33m\u001B[0m\u001B[0m\n",
      "\u001B[1;32mc:\\programdata\\miniconda3\\envs\\alpha_media_signal\\lib\\site-packages\\pandas\\io\\parsers.py\u001B[0m in \u001B[0;36mread\u001B[1;34m(self, nrows)\u001B[0m\n\u001B[0;32m   2155\u001B[0m     \u001B[1;32mdef\u001B[0m \u001B[0mread\u001B[0m\u001B[1;33m(\u001B[0m\u001B[0mself\u001B[0m\u001B[1;33m,\u001B[0m \u001B[0mnrows\u001B[0m\u001B[1;33m=\u001B[0m\u001B[1;32mNone\u001B[0m\u001B[1;33m)\u001B[0m\u001B[1;33m:\u001B[0m\u001B[1;33m\u001B[0m\u001B[1;33m\u001B[0m\u001B[0m\n\u001B[0;32m   2156\u001B[0m         \u001B[1;32mtry\u001B[0m\u001B[1;33m:\u001B[0m\u001B[1;33m\u001B[0m\u001B[1;33m\u001B[0m\u001B[0m\n\u001B[1;32m-> 2157\u001B[1;33m             \u001B[0mdata\u001B[0m \u001B[1;33m=\u001B[0m \u001B[0mself\u001B[0m\u001B[1;33m.\u001B[0m\u001B[0m_reader\u001B[0m\u001B[1;33m.\u001B[0m\u001B[0mread\u001B[0m\u001B[1;33m(\u001B[0m\u001B[0mnrows\u001B[0m\u001B[1;33m)\u001B[0m\u001B[1;33m\u001B[0m\u001B[1;33m\u001B[0m\u001B[0m\n\u001B[0m\u001B[0;32m   2158\u001B[0m         \u001B[1;32mexcept\u001B[0m \u001B[0mStopIteration\u001B[0m\u001B[1;33m:\u001B[0m\u001B[1;33m\u001B[0m\u001B[1;33m\u001B[0m\u001B[0m\n\u001B[0;32m   2159\u001B[0m             \u001B[1;32mif\u001B[0m \u001B[0mself\u001B[0m\u001B[1;33m.\u001B[0m\u001B[0m_first_chunk\u001B[0m\u001B[1;33m:\u001B[0m\u001B[1;33m\u001B[0m\u001B[1;33m\u001B[0m\u001B[0m\n",
      "\u001B[1;32mpandas\\_libs\\parsers.pyx\u001B[0m in \u001B[0;36mpandas._libs.parsers.TextReader.read\u001B[1;34m()\u001B[0m\n",
      "\u001B[1;32mpandas\\_libs\\parsers.pyx\u001B[0m in \u001B[0;36mpandas._libs.parsers.TextReader._read_low_memory\u001B[1;34m()\u001B[0m\n",
      "\u001B[1;32mpandas\\_libs\\parsers.pyx\u001B[0m in \u001B[0;36mpandas._libs.parsers.TextReader._read_rows\u001B[1;34m()\u001B[0m\n",
      "\u001B[1;32mpandas\\_libs\\parsers.pyx\u001B[0m in \u001B[0;36mpandas._libs.parsers.TextReader._convert_column_data\u001B[1;34m()\u001B[0m\n",
      "\u001B[1;32mpandas\\_libs\\parsers.pyx\u001B[0m in \u001B[0;36mpandas._libs.parsers.TextReader._convert_tokens\u001B[1;34m()\u001B[0m\n",
      "\u001B[1;32mpandas\\_libs\\parsers.pyx\u001B[0m in \u001B[0;36mpandas._libs.parsers.TextReader._convert_with_dtype\u001B[1;34m()\u001B[0m\n",
      "\u001B[1;32mc:\\programdata\\miniconda3\\envs\\alpha_media_signal\\lib\\site-packages\\pandas\\core\\dtypes\\common.py\u001B[0m in \u001B[0;36mis_categorical_dtype\u001B[1;34m(arr_or_dtype)\u001B[0m\n\u001B[0;32m    528\u001B[0m \u001B[1;33m\u001B[0m\u001B[0m\n\u001B[0;32m    529\u001B[0m \u001B[1;33m\u001B[0m\u001B[0m\n\u001B[1;32m--> 530\u001B[1;33m \u001B[1;32mdef\u001B[0m \u001B[0mis_categorical_dtype\u001B[0m\u001B[1;33m(\u001B[0m\u001B[0marr_or_dtype\u001B[0m\u001B[1;33m)\u001B[0m \u001B[1;33m->\u001B[0m \u001B[0mbool\u001B[0m\u001B[1;33m:\u001B[0m\u001B[1;33m\u001B[0m\u001B[1;33m\u001B[0m\u001B[0m\n\u001B[0m\u001B[0;32m    531\u001B[0m     \"\"\"\n\u001B[0;32m    532\u001B[0m     \u001B[0mCheck\u001B[0m \u001B[0mwhether\u001B[0m \u001B[0man\u001B[0m \u001B[0marray\u001B[0m\u001B[1;33m-\u001B[0m\u001B[0mlike\u001B[0m \u001B[1;32mor\u001B[0m \u001B[0mdtype\u001B[0m \u001B[1;32mis\u001B[0m \u001B[0mof\u001B[0m \u001B[0mthe\u001B[0m \u001B[0mCategorical\u001B[0m \u001B[0mdtype\u001B[0m\u001B[1;33m.\u001B[0m\u001B[1;33m\u001B[0m\u001B[1;33m\u001B[0m\u001B[0m\n",
      "\u001B[1;31mKeyboardInterrupt\u001B[0m: "
     ]
    }
   ],
   "source": [
    "%%time\n",
    "\n",
    "if cell_x:\n",
    "    df_stock_and_quarter, columns_fundy = twitter_ml_utils.combine_with_quarterly_stock_data(df=df_sd_futured)"
   ]
  },
  {
   "cell_type": "code",
   "execution_count": 68,
   "metadata": {},
   "outputs": [],
   "source": [
    "# if cell_x:\n",
    "#     print(df_stock_and_quarter.shape[0])\n",
    "#     print(list(df_stock_and_quarter.columns))\n",
    "df_nas_tickers_info = ticker_service.get_nasdaq_tickers()"
   ]
  },
  {
   "cell_type": "code",
   "execution_count": 69,
   "metadata": {
    "pycharm": {
     "name": "#%%\n"
    }
   },
   "outputs": [
    {
     "ename": "KeyboardInterrupt",
     "evalue": "",
     "output_type": "error",
     "traceback": [
      "\u001B[1;31m---------------------------------------------------------------------------\u001B[0m",
      "\u001B[1;31mKeyboardInterrupt\u001B[0m                         Traceback (most recent call last)",
      "\u001B[1;32m<timed exec>\u001B[0m in \u001B[0;36m<module>\u001B[1;34m\u001B[0m\n",
      "\u001B[1;32m~\\workspaces\\alpha_media_signal\\ams\\twitter\\twitter_ml_utils.py\u001B[0m in \u001B[0;36mmerge_tweets_with_stock_data_2\u001B[1;34m(df_twitter, df_stock_and_quarter)\u001B[0m\n\u001B[0;32m    803\u001B[0m \u001B[1;33m\u001B[0m\u001B[0m\n\u001B[0;32m    804\u001B[0m \u001B[1;32mdef\u001B[0m \u001B[0mmerge_tweets_with_stock_data_2\u001B[0m\u001B[1;33m(\u001B[0m\u001B[0mdf_twitter\u001B[0m\u001B[1;33m,\u001B[0m \u001B[0mdf_stock_and_quarter\u001B[0m\u001B[1;33m)\u001B[0m\u001B[1;33m:\u001B[0m\u001B[1;33m\u001B[0m\u001B[1;33m\u001B[0m\u001B[0m\n\u001B[1;32m--> 805\u001B[1;33m     \u001B[0mdf_nas_tickers_info\u001B[0m \u001B[1;33m=\u001B[0m \u001B[0mticker_service\u001B[0m\u001B[1;33m.\u001B[0m\u001B[0mget_nasdaq_tickers\u001B[0m\u001B[1;33m(\u001B[0m\u001B[1;33m)\u001B[0m\u001B[1;33m.\u001B[0m\u001B[0mcopy\u001B[0m\u001B[1;33m(\u001B[0m\u001B[1;33m)\u001B[0m\u001B[1;33m\u001B[0m\u001B[1;33m\u001B[0m\u001B[0m\n\u001B[0m\u001B[0;32m    806\u001B[0m \u001B[1;33m\u001B[0m\u001B[0m\n\u001B[0;32m    807\u001B[0m     \u001B[0mcol_ticker\u001B[0m \u001B[1;33m=\u001B[0m \u001B[1;34m\"ticker_drop\"\u001B[0m\u001B[1;33m\u001B[0m\u001B[1;33m\u001B[0m\u001B[0m\n",
      "\u001B[1;32m~\\workspaces\\alpha_media_signal\\ams\\services\\ticker_service.py\u001B[0m in \u001B[0;36mget_nasdaq_tickers\u001B[1;34m()\u001B[0m\n\u001B[0;32m    405\u001B[0m \u001B[1;33m\u001B[0m\u001B[0m\n\u001B[0;32m    406\u001B[0m \u001B[1;32mdef\u001B[0m \u001B[0mget_nasdaq_tickers\u001B[0m\u001B[1;33m(\u001B[0m\u001B[1;33m)\u001B[0m\u001B[1;33m:\u001B[0m\u001B[1;33m\u001B[0m\u001B[1;33m\u001B[0m\u001B[0m\n\u001B[1;32m--> 407\u001B[1;33m     \u001B[0mdf_nasdaq\u001B[0m \u001B[1;33m=\u001B[0m \u001B[0mget_nasdaq_info\u001B[0m\u001B[1;33m(\u001B[0m\u001B[1;33m)\u001B[0m\u001B[1;33m.\u001B[0m\u001B[0mcopy\u001B[0m\u001B[1;33m(\u001B[0m\u001B[1;33m)\u001B[0m\u001B[1;33m\u001B[0m\u001B[1;33m\u001B[0m\u001B[0m\n\u001B[0m\u001B[0;32m    408\u001B[0m \u001B[1;33m\u001B[0m\u001B[0m\n\u001B[0;32m    409\u001B[0m     df_nasdaq.drop(columns=[\"firstpricedate\", \"lastpricedate\", \"firstquarter\", \"lastquarter\",\n",
      "\u001B[1;32m~\\workspaces\\alpha_media_signal\\ams\\services\\ticker_service.py\u001B[0m in \u001B[0;36mget_nasdaq_info\u001B[1;34m()\u001B[0m\n\u001B[0;32m    364\u001B[0m \u001B[1;33m\u001B[0m\u001B[0m\n\u001B[0;32m    365\u001B[0m \u001B[1;32mdef\u001B[0m \u001B[0mget_nasdaq_info\u001B[0m\u001B[1;33m(\u001B[0m\u001B[1;33m)\u001B[0m\u001B[1;33m:\u001B[0m\u001B[1;33m\u001B[0m\u001B[1;33m\u001B[0m\u001B[0m\n\u001B[1;32m--> 366\u001B[1;33m     \u001B[0mdf\u001B[0m \u001B[1;33m=\u001B[0m \u001B[0mget_ticker_info\u001B[0m\u001B[1;33m(\u001B[0m\u001B[1;33m)\u001B[0m\u001B[1;33m\u001B[0m\u001B[1;33m\u001B[0m\u001B[0m\n\u001B[0m\u001B[0;32m    367\u001B[0m     \u001B[1;32mreturn\u001B[0m \u001B[0mdf\u001B[0m\u001B[1;33m.\u001B[0m\u001B[0mloc\u001B[0m\u001B[1;33m[\u001B[0m\u001B[0mdf\u001B[0m\u001B[1;33m[\u001B[0m\u001B[1;34m\"exchange\"\u001B[0m\u001B[1;33m]\u001B[0m \u001B[1;33m==\u001B[0m \u001B[1;34m\"NASDAQ\"\u001B[0m\u001B[1;33m]\u001B[0m\u001B[1;33m\u001B[0m\u001B[1;33m\u001B[0m\u001B[0m\n\u001B[0;32m    368\u001B[0m \u001B[1;33m\u001B[0m\u001B[0m\n",
      "\u001B[1;32m~\\workspaces\\alpha_media_signal\\ams\\services\\ticker_service.py\u001B[0m in \u001B[0;36mget_ticker_info\u001B[1;34m()\u001B[0m\n\u001B[0;32m    360\u001B[0m     \u001B[0mdf\u001B[0m \u001B[1;33m=\u001B[0m \u001B[0mpd\u001B[0m\u001B[1;33m.\u001B[0m\u001B[0mread_csv\u001B[0m\u001B[1;33m(\u001B[0m\u001B[0mconstants\u001B[0m\u001B[1;33m.\u001B[0m\u001B[0mSHAR_TICKER_DETAIL_INFO_PATH\u001B[0m\u001B[1;33m)\u001B[0m\u001B[1;33m\u001B[0m\u001B[1;33m\u001B[0m\u001B[0m\n\u001B[0;32m    361\u001B[0m     \u001B[0mdf\u001B[0m\u001B[1;33m.\u001B[0m\u001B[0msort_values\u001B[0m\u001B[1;33m(\u001B[0m\u001B[0mby\u001B[0m\u001B[1;33m=\u001B[0m\u001B[1;33m[\u001B[0m\u001B[1;34m\"ticker\"\u001B[0m\u001B[1;33m,\u001B[0m \u001B[1;34m\"lastupdated\"\u001B[0m\u001B[1;33m]\u001B[0m\u001B[1;33m,\u001B[0m \u001B[0minplace\u001B[0m\u001B[1;33m=\u001B[0m\u001B[1;32mTrue\u001B[0m\u001B[1;33m)\u001B[0m\u001B[1;33m\u001B[0m\u001B[1;33m\u001B[0m\u001B[0m\n\u001B[1;32m--> 362\u001B[1;33m     \u001B[1;32mreturn\u001B[0m \u001B[0mdf\u001B[0m\u001B[1;33m.\u001B[0m\u001B[0mgroupby\u001B[0m\u001B[1;33m(\u001B[0m\u001B[1;33m[\u001B[0m\u001B[1;34m\"ticker\"\u001B[0m\u001B[1;33m]\u001B[0m\u001B[1;33m)\u001B[0m\u001B[1;33m.\u001B[0m\u001B[0mlast\u001B[0m\u001B[1;33m(\u001B[0m\u001B[1;33m)\u001B[0m\u001B[1;33m.\u001B[0m\u001B[0mreset_index\u001B[0m\u001B[1;33m(\u001B[0m\u001B[1;33m)\u001B[0m\u001B[1;33m\u001B[0m\u001B[1;33m\u001B[0m\u001B[0m\n\u001B[0m\u001B[0;32m    363\u001B[0m \u001B[1;33m\u001B[0m\u001B[0m\n\u001B[0;32m    364\u001B[0m \u001B[1;33m\u001B[0m\u001B[0m\n",
      "\u001B[1;32mc:\\programdata\\miniconda3\\envs\\alpha_media_signal\\lib\\site-packages\\pandas\\core\\groupby\\groupby.py\u001B[0m in \u001B[0;36mlast\u001B[1;34m(self, numeric_only, min_count)\u001B[0m\n\u001B[0;32m   1608\u001B[0m             \u001B[0mmin_count\u001B[0m\u001B[1;33m=\u001B[0m\u001B[0mmin_count\u001B[0m\u001B[1;33m,\u001B[0m\u001B[1;33m\u001B[0m\u001B[1;33m\u001B[0m\u001B[0m\n\u001B[0;32m   1609\u001B[0m             \u001B[0malias\u001B[0m\u001B[1;33m=\u001B[0m\u001B[1;34m\"last\"\u001B[0m\u001B[1;33m,\u001B[0m\u001B[1;33m\u001B[0m\u001B[1;33m\u001B[0m\u001B[0m\n\u001B[1;32m-> 1610\u001B[1;33m             \u001B[0mnpfunc\u001B[0m\u001B[1;33m=\u001B[0m\u001B[0mlast_compat\u001B[0m\u001B[1;33m,\u001B[0m\u001B[1;33m\u001B[0m\u001B[1;33m\u001B[0m\u001B[0m\n\u001B[0m\u001B[0;32m   1611\u001B[0m         )\n\u001B[0;32m   1612\u001B[0m \u001B[1;33m\u001B[0m\u001B[0m\n",
      "\u001B[1;32mc:\\programdata\\miniconda3\\envs\\alpha_media_signal\\lib\\site-packages\\pandas\\core\\groupby\\groupby.py\u001B[0m in \u001B[0;36m_agg_general\u001B[1;34m(self, numeric_only, min_count, alias, npfunc)\u001B[0m\n\u001B[0;32m    999\u001B[0m         \u001B[1;32mtry\u001B[0m\u001B[1;33m:\u001B[0m\u001B[1;33m\u001B[0m\u001B[1;33m\u001B[0m\u001B[0m\n\u001B[0;32m   1000\u001B[0m             result = self._cython_agg_general(\n\u001B[1;32m-> 1001\u001B[1;33m                 \u001B[0mhow\u001B[0m\u001B[1;33m=\u001B[0m\u001B[0malias\u001B[0m\u001B[1;33m,\u001B[0m \u001B[0malt\u001B[0m\u001B[1;33m=\u001B[0m\u001B[0mnpfunc\u001B[0m\u001B[1;33m,\u001B[0m \u001B[0mnumeric_only\u001B[0m\u001B[1;33m=\u001B[0m\u001B[0mnumeric_only\u001B[0m\u001B[1;33m,\u001B[0m \u001B[0mmin_count\u001B[0m\u001B[1;33m=\u001B[0m\u001B[0mmin_count\u001B[0m\u001B[1;33m,\u001B[0m\u001B[1;33m\u001B[0m\u001B[1;33m\u001B[0m\u001B[0m\n\u001B[0m\u001B[0;32m   1002\u001B[0m             )\n\u001B[0;32m   1003\u001B[0m         \u001B[1;32mexcept\u001B[0m \u001B[0mDataError\u001B[0m\u001B[1;33m:\u001B[0m\u001B[1;33m\u001B[0m\u001B[1;33m\u001B[0m\u001B[0m\n",
      "\u001B[1;32mc:\\programdata\\miniconda3\\envs\\alpha_media_signal\\lib\\site-packages\\pandas\\core\\groupby\\generic.py\u001B[0m in \u001B[0;36m_cython_agg_general\u001B[1;34m(self, how, alt, numeric_only, min_count)\u001B[0m\n\u001B[0;32m   1020\u001B[0m     ) -> DataFrame:\n\u001B[0;32m   1021\u001B[0m         agg_blocks, agg_items = self._cython_agg_blocks(\n\u001B[1;32m-> 1022\u001B[1;33m             \u001B[0mhow\u001B[0m\u001B[1;33m,\u001B[0m \u001B[0malt\u001B[0m\u001B[1;33m=\u001B[0m\u001B[0malt\u001B[0m\u001B[1;33m,\u001B[0m \u001B[0mnumeric_only\u001B[0m\u001B[1;33m=\u001B[0m\u001B[0mnumeric_only\u001B[0m\u001B[1;33m,\u001B[0m \u001B[0mmin_count\u001B[0m\u001B[1;33m=\u001B[0m\u001B[0mmin_count\u001B[0m\u001B[1;33m\u001B[0m\u001B[1;33m\u001B[0m\u001B[0m\n\u001B[0m\u001B[0;32m   1023\u001B[0m         )\n\u001B[0;32m   1024\u001B[0m         \u001B[1;32mreturn\u001B[0m \u001B[0mself\u001B[0m\u001B[1;33m.\u001B[0m\u001B[0m_wrap_agged_blocks\u001B[0m\u001B[1;33m(\u001B[0m\u001B[0magg_blocks\u001B[0m\u001B[1;33m,\u001B[0m \u001B[0mitems\u001B[0m\u001B[1;33m=\u001B[0m\u001B[0magg_items\u001B[0m\u001B[1;33m)\u001B[0m\u001B[1;33m\u001B[0m\u001B[1;33m\u001B[0m\u001B[0m\n",
      "\u001B[1;32mc:\\programdata\\miniconda3\\envs\\alpha_media_signal\\lib\\site-packages\\pandas\\core\\groupby\\generic.py\u001B[0m in \u001B[0;36m_cython_agg_blocks\u001B[1;34m(self, how, alt, numeric_only, min_count)\u001B[0m\n\u001B[0;32m   1049\u001B[0m             \u001B[1;32mtry\u001B[0m\u001B[1;33m:\u001B[0m\u001B[1;33m\u001B[0m\u001B[1;33m\u001B[0m\u001B[0m\n\u001B[0;32m   1050\u001B[0m                 result, _ = self.grouper.aggregate(\n\u001B[1;32m-> 1051\u001B[1;33m                     \u001B[0mblock\u001B[0m\u001B[1;33m.\u001B[0m\u001B[0mvalues\u001B[0m\u001B[1;33m,\u001B[0m \u001B[0mhow\u001B[0m\u001B[1;33m,\u001B[0m \u001B[0maxis\u001B[0m\u001B[1;33m=\u001B[0m\u001B[1;36m1\u001B[0m\u001B[1;33m,\u001B[0m \u001B[0mmin_count\u001B[0m\u001B[1;33m=\u001B[0m\u001B[0mmin_count\u001B[0m\u001B[1;33m\u001B[0m\u001B[1;33m\u001B[0m\u001B[0m\n\u001B[0m\u001B[0;32m   1052\u001B[0m                 )\n\u001B[0;32m   1053\u001B[0m             \u001B[1;32mexcept\u001B[0m \u001B[0mNotImplementedError\u001B[0m\u001B[1;33m:\u001B[0m\u001B[1;33m\u001B[0m\u001B[1;33m\u001B[0m\u001B[0m\n",
      "\u001B[1;32mc:\\programdata\\miniconda3\\envs\\alpha_media_signal\\lib\\site-packages\\pandas\\core\\groupby\\ops.py\u001B[0m in \u001B[0;36maggregate\u001B[1;34m(self, values, how, axis, min_count)\u001B[0m\n\u001B[0;32m    583\u001B[0m     ) -> Tuple[np.ndarray, Optional[List[str]]]:\n\u001B[0;32m    584\u001B[0m         return self._cython_operation(\n\u001B[1;32m--> 585\u001B[1;33m             \u001B[1;34m\"aggregate\"\u001B[0m\u001B[1;33m,\u001B[0m \u001B[0mvalues\u001B[0m\u001B[1;33m,\u001B[0m \u001B[0mhow\u001B[0m\u001B[1;33m,\u001B[0m \u001B[0maxis\u001B[0m\u001B[1;33m,\u001B[0m \u001B[0mmin_count\u001B[0m\u001B[1;33m=\u001B[0m\u001B[0mmin_count\u001B[0m\u001B[1;33m\u001B[0m\u001B[1;33m\u001B[0m\u001B[0m\n\u001B[0m\u001B[0;32m    586\u001B[0m         )\n\u001B[0;32m    587\u001B[0m \u001B[1;33m\u001B[0m\u001B[0m\n",
      "\u001B[1;32mc:\\programdata\\miniconda3\\envs\\alpha_media_signal\\lib\\site-packages\\pandas\\core\\groupby\\ops.py\u001B[0m in \u001B[0;36m_cython_operation\u001B[1;34m(self, kind, values, how, axis, min_count, **kwargs)\u001B[0m\n\u001B[0;32m    491\u001B[0m             \u001B[1;31m# we use iNaT for the missing value on ints\u001B[0m\u001B[1;33m\u001B[0m\u001B[1;33m\u001B[0m\u001B[1;33m\u001B[0m\u001B[0m\n\u001B[0;32m    492\u001B[0m             \u001B[1;31m# so pre-convert to guard this condition\u001B[0m\u001B[1;33m\u001B[0m\u001B[1;33m\u001B[0m\u001B[1;33m\u001B[0m\u001B[0m\n\u001B[1;32m--> 493\u001B[1;33m             \u001B[1;32mif\u001B[0m \u001B[1;33m(\u001B[0m\u001B[0mvalues\u001B[0m \u001B[1;33m==\u001B[0m \u001B[0miNaT\u001B[0m\u001B[1;33m)\u001B[0m\u001B[1;33m.\u001B[0m\u001B[0many\u001B[0m\u001B[1;33m(\u001B[0m\u001B[1;33m)\u001B[0m\u001B[1;33m:\u001B[0m\u001B[1;33m\u001B[0m\u001B[1;33m\u001B[0m\u001B[0m\n\u001B[0m\u001B[0;32m    494\u001B[0m                 \u001B[0mvalues\u001B[0m \u001B[1;33m=\u001B[0m \u001B[0mensure_float64\u001B[0m\u001B[1;33m(\u001B[0m\u001B[0mvalues\u001B[0m\u001B[1;33m)\u001B[0m\u001B[1;33m\u001B[0m\u001B[1;33m\u001B[0m\u001B[0m\n\u001B[0;32m    495\u001B[0m             \u001B[1;32melse\u001B[0m\u001B[1;33m:\u001B[0m\u001B[1;33m\u001B[0m\u001B[1;33m\u001B[0m\u001B[0m\n",
      "\u001B[1;31mKeyboardInterrupt\u001B[0m: "
     ]
    }
   ],
   "source": [
    "%%time\n",
    "\n",
    "if cell_x:\n",
    "#     print(df_twitter.shape[0])\n",
    "#     print(df_stock_and_quarter.shape[0])\n",
    "    \n",
    "    df_merged = twitter_ml_utils.merge_tweets_with_stock_data_2(df_twitter=df_tweets, \n",
    "                                         df_stock_and_quarter=df_stock_and_quarter)"
   ]
  },
  {
   "cell_type": "code",
   "execution_count": 70,
   "metadata": {},
   "outputs": [
    {
     "name": "stdout",
     "output_type": "stream",
     "text": [
      "1714\n"
     ]
    }
   ],
   "source": [
    "if cell_x:\n",
    "    print(df_merged.shape[0])\n",
    "    # print(list(df_merged.columns))"
   ]
  },
  {
   "cell_type": "code",
   "execution_count": 71,
   "metadata": {
    "pycharm": {
     "name": "#%%\n"
    }
   },
   "outputs": [
    {
     "name": "stdout",
     "output_type": "stream",
     "text": [
      "1714\n"
     ]
    },
    {
     "ename": "KeyboardInterrupt",
     "evalue": "",
     "output_type": "error",
     "traceback": [
      "\u001B[1;31m---------------------------------------------------------------------------\u001B[0m",
      "\u001B[1;31mKeyboardInterrupt\u001B[0m                         Traceback (most recent call last)",
      "\u001B[1;32m<timed exec>\u001B[0m in \u001B[0;36m<module>\u001B[1;34m\u001B[0m\n",
      "\u001B[1;32m~\\workspaces\\alpha_media_signal\\ams\\twitter\\twitter_ml_utils.py\u001B[0m in \u001B[0;36madd_calendar_info_2\u001B[1;34m(df, columns_fundy, tweet_date_str, num_hold_days, oldest_tweet_date)\u001B[0m\n\u001B[0;32m    861\u001B[0m     \u001B[0mdf\u001B[0m \u001B[1;33m=\u001B[0m \u001B[0mticker_service\u001B[0m\u001B[1;33m.\u001B[0m\u001B[0madd_days_until_sale\u001B[0m\u001B[1;33m(\u001B[0m\u001B[0mdf\u001B[0m\u001B[1;33m=\u001B[0m\u001B[0mdf\u001B[0m\u001B[1;33m)\u001B[0m\u001B[1;33m\u001B[0m\u001B[1;33m\u001B[0m\u001B[0m\n\u001B[0;32m    862\u001B[0m \u001B[1;33m\u001B[0m\u001B[0m\n\u001B[1;32m--> 863\u001B[1;33m     \u001B[0mdf\u001B[0m \u001B[1;33m=\u001B[0m \u001B[0madd_sma_stuff\u001B[0m\u001B[1;33m(\u001B[0m\u001B[0mdf\u001B[0m\u001B[1;33m=\u001B[0m\u001B[0mdf\u001B[0m\u001B[1;33m,\u001B[0m \u001B[0mtweet_date_str\u001B[0m\u001B[1;33m=\u001B[0m\u001B[0mtweet_date_str\u001B[0m\u001B[1;33m)\u001B[0m\u001B[1;33m\u001B[0m\u001B[1;33m\u001B[0m\u001B[0m\n\u001B[0m\u001B[0;32m    864\u001B[0m \u001B[1;33m\u001B[0m\u001B[0m\n\u001B[0;32m    865\u001B[0m     \u001B[1;32mreturn\u001B[0m \u001B[0mdf\u001B[0m\u001B[1;33m\u001B[0m\u001B[1;33m\u001B[0m\u001B[0m\n",
      "\u001B[1;32m~\\workspaces\\alpha_media_signal\\ams\\twitter\\twitter_ml_utils.py\u001B[0m in \u001B[0;36madd_sma_stuff\u001B[1;34m(df, tweet_date_str, sma_day_before)\u001B[0m\n\u001B[0;32m    551\u001B[0m \u001B[1;33m\u001B[0m\u001B[0m\n\u001B[0;32m    552\u001B[0m \u001B[1;32mdef\u001B[0m \u001B[0madd_sma_stuff\u001B[0m\u001B[1;33m(\u001B[0m\u001B[0mdf\u001B[0m\u001B[1;33m:\u001B[0m \u001B[0mpd\u001B[0m\u001B[1;33m.\u001B[0m\u001B[0mDataFrame\u001B[0m\u001B[1;33m,\u001B[0m \u001B[0mtweet_date_str\u001B[0m\u001B[1;33m:\u001B[0m \u001B[0mstr\u001B[0m\u001B[1;33m,\u001B[0m \u001B[0msma_day_before\u001B[0m\u001B[1;33m:\u001B[0m \u001B[0mbool\u001B[0m \u001B[1;33m=\u001B[0m \u001B[1;32mFalse\u001B[0m\u001B[1;33m)\u001B[0m\u001B[1;33m:\u001B[0m\u001B[1;33m\u001B[0m\u001B[1;33m\u001B[0m\u001B[0m\n\u001B[1;32m--> 553\u001B[1;33m     \u001B[0mdf\u001B[0m \u001B[1;33m=\u001B[0m \u001B[0mticker_utils\u001B[0m\u001B[1;33m.\u001B[0m\u001B[0madd_sma_history\u001B[0m\u001B[1;33m(\u001B[0m\u001B[0mdf\u001B[0m\u001B[1;33m=\u001B[0m\u001B[0mdf\u001B[0m\u001B[1;33m,\u001B[0m \u001B[0mtarget_column\u001B[0m\u001B[1;33m=\u001B[0m\u001B[1;34m\"close\"\u001B[0m\u001B[1;33m,\u001B[0m \u001B[0mwindows\u001B[0m\u001B[1;33m=\u001B[0m\u001B[1;33m[\u001B[0m\u001B[1;36m15\u001B[0m\u001B[1;33m,\u001B[0m \u001B[1;36m20\u001B[0m\u001B[1;33m,\u001B[0m \u001B[1;36m50\u001B[0m\u001B[1;33m,\u001B[0m \u001B[1;36m100\u001B[0m\u001B[1;33m,\u001B[0m \u001B[1;36m200\u001B[0m\u001B[1;33m]\u001B[0m\u001B[1;33m,\u001B[0m \u001B[0mpredict_date_str\u001B[0m\u001B[1;33m=\u001B[0m\u001B[0mtweet_date_str\u001B[0m\u001B[1;33m,\u001B[0m \u001B[0msma_day_before\u001B[0m\u001B[1;33m=\u001B[0m\u001B[0msma_day_before\u001B[0m\u001B[1;33m)\u001B[0m\u001B[1;33m\u001B[0m\u001B[1;33m\u001B[0m\u001B[0m\n\u001B[0m\u001B[0;32m    554\u001B[0m \u001B[1;33m\u001B[0m\u001B[0m\n\u001B[0;32m    555\u001B[0m     \u001B[0mdf\u001B[0m \u001B[1;33m=\u001B[0m \u001B[0mticker_utils\u001B[0m\u001B[1;33m.\u001B[0m\u001B[0madd_days_since_under_sma_many_tickers\u001B[0m\u001B[1;33m(\u001B[0m\u001B[0mdf\u001B[0m\u001B[1;33m=\u001B[0m\u001B[0mdf\u001B[0m\u001B[1;33m,\u001B[0m \u001B[0mcol_sma\u001B[0m\u001B[1;33m=\u001B[0m\u001B[1;34m\"close_SMA_200\"\u001B[0m\u001B[1;33m,\u001B[0m \u001B[0mclose_col\u001B[0m\u001B[1;33m=\u001B[0m\u001B[1;34m\"close\"\u001B[0m\u001B[1;33m)\u001B[0m\u001B[1;33m\u001B[0m\u001B[1;33m\u001B[0m\u001B[0m\n",
      "\u001B[1;32m~\\workspaces\\alpha_media_signal\\ams\\utils\\ticker_utils.py\u001B[0m in \u001B[0;36madd_sma_history\u001B[1;34m(df, target_column, windows, predict_date_str, sma_day_before)\u001B[0m\n\u001B[0;32m     49\u001B[0m                     \u001B[0mdf_dated\u001B[0m \u001B[1;33m=\u001B[0m \u001B[0mdf_equity\u001B[0m\u001B[1;33m[\u001B[0m\u001B[0mdf_equity\u001B[0m\u001B[1;33m[\u001B[0m\u001B[0mdate_col\u001B[0m\u001B[1;33m]\u001B[0m \u001B[1;33m>=\u001B[0m \u001B[0mdt_start_str\u001B[0m\u001B[1;33m]\u001B[0m\u001B[1;33m.\u001B[0m\u001B[0mcopy\u001B[0m\u001B[1;33m(\u001B[0m\u001B[1;33m)\u001B[0m\u001B[1;33m\u001B[0m\u001B[1;33m\u001B[0m\u001B[0m\n\u001B[0;32m     50\u001B[0m \u001B[1;33m\u001B[0m\u001B[0m\n\u001B[1;32m---> 51\u001B[1;33m                     \u001B[0mdf_sma\u001B[0m \u001B[1;33m=\u001B[0m \u001B[0madd_simple_moving_averages\u001B[0m\u001B[1;33m(\u001B[0m\u001B[0mdf\u001B[0m\u001B[1;33m=\u001B[0m\u001B[0mdf_dated\u001B[0m\u001B[1;33m,\u001B[0m \u001B[0mtarget_column\u001B[0m\u001B[1;33m=\u001B[0m\u001B[0mtarget_column\u001B[0m\u001B[1;33m,\u001B[0m \u001B[0mwindows\u001B[0m\u001B[1;33m=\u001B[0m\u001B[0mwindows\u001B[0m\u001B[1;33m)\u001B[0m\u001B[1;33m\u001B[0m\u001B[1;33m\u001B[0m\u001B[0m\n\u001B[0m\u001B[0;32m     52\u001B[0m \u001B[1;33m\u001B[0m\u001B[0m\n\u001B[0;32m     53\u001B[0m                     \u001B[0mall_dataframes\u001B[0m\u001B[1;33m.\u001B[0m\u001B[0mappend\u001B[0m\u001B[1;33m(\u001B[0m\u001B[0mdf_sma\u001B[0m\u001B[1;33m)\u001B[0m\u001B[1;33m\u001B[0m\u001B[1;33m\u001B[0m\u001B[0m\n",
      "\u001B[1;32m~\\workspaces\\alpha_media_signal\\ams\\utils\\ticker_utils.py\u001B[0m in \u001B[0;36madd_simple_moving_averages\u001B[1;34m(df, target_column, windows)\u001B[0m\n\u001B[0;32m     10\u001B[0m     \u001B[1;32mfor\u001B[0m \u001B[0mw\u001B[0m \u001B[1;32min\u001B[0m \u001B[0mwindows\u001B[0m\u001B[1;33m:\u001B[0m\u001B[1;33m\u001B[0m\u001B[1;33m\u001B[0m\u001B[0m\n\u001B[0;32m     11\u001B[0m         \u001B[1;32mwith\u001B[0m \u001B[0mpd\u001B[0m\u001B[1;33m.\u001B[0m\u001B[0moption_context\u001B[0m\u001B[1;33m(\u001B[0m\u001B[1;34m'mode.chained_assignment'\u001B[0m\u001B[1;33m,\u001B[0m \u001B[1;32mNone\u001B[0m\u001B[1;33m)\u001B[0m\u001B[1;33m:\u001B[0m\u001B[1;33m\u001B[0m\u001B[1;33m\u001B[0m\u001B[0m\n\u001B[1;32m---> 12\u001B[1;33m             \u001B[0mdf_copy\u001B[0m\u001B[1;33m[\u001B[0m\u001B[1;34mf\"{target_column}_SMA_{w}\"\u001B[0m\u001B[1;33m]\u001B[0m \u001B[1;33m=\u001B[0m \u001B[0mdf_copy\u001B[0m\u001B[1;33m[\u001B[0m\u001B[0mtarget_column\u001B[0m\u001B[1;33m]\u001B[0m\u001B[1;33m.\u001B[0m\u001B[0mrolling\u001B[0m\u001B[1;33m(\u001B[0m\u001B[0mwindow\u001B[0m\u001B[1;33m=\u001B[0m\u001B[0mw\u001B[0m\u001B[1;33m)\u001B[0m\u001B[1;33m.\u001B[0m\u001B[0mmean\u001B[0m\u001B[1;33m(\u001B[0m\u001B[1;33m)\u001B[0m\u001B[1;33m.\u001B[0m\u001B[0mastype\u001B[0m\u001B[1;33m(\u001B[0m\u001B[1;34m\"float64\"\u001B[0m\u001B[1;33m)\u001B[0m\u001B[1;33m\u001B[0m\u001B[1;33m\u001B[0m\u001B[0m\n\u001B[0m\u001B[0;32m     13\u001B[0m     \u001B[1;32mreturn\u001B[0m \u001B[0mdf_copy\u001B[0m\u001B[1;33m\u001B[0m\u001B[1;33m\u001B[0m\u001B[0m\n\u001B[0;32m     14\u001B[0m \u001B[1;33m\u001B[0m\u001B[0m\n",
      "\u001B[1;32mc:\\programdata\\miniconda3\\envs\\alpha_media_signal\\lib\\site-packages\\pandas\\core\\window\\rolling.py\u001B[0m in \u001B[0;36mmean\u001B[1;34m(self, *args, **kwargs)\u001B[0m\n\u001B[0;32m   2089\u001B[0m     \u001B[1;32mdef\u001B[0m \u001B[0mmean\u001B[0m\u001B[1;33m(\u001B[0m\u001B[0mself\u001B[0m\u001B[1;33m,\u001B[0m \u001B[1;33m*\u001B[0m\u001B[0margs\u001B[0m\u001B[1;33m,\u001B[0m \u001B[1;33m**\u001B[0m\u001B[0mkwargs\u001B[0m\u001B[1;33m)\u001B[0m\u001B[1;33m:\u001B[0m\u001B[1;33m\u001B[0m\u001B[1;33m\u001B[0m\u001B[0m\n\u001B[0;32m   2090\u001B[0m         \u001B[0mnv\u001B[0m\u001B[1;33m.\u001B[0m\u001B[0mvalidate_rolling_func\u001B[0m\u001B[1;33m(\u001B[0m\u001B[1;34m\"mean\"\u001B[0m\u001B[1;33m,\u001B[0m \u001B[0margs\u001B[0m\u001B[1;33m,\u001B[0m \u001B[0mkwargs\u001B[0m\u001B[1;33m)\u001B[0m\u001B[1;33m\u001B[0m\u001B[1;33m\u001B[0m\u001B[0m\n\u001B[1;32m-> 2091\u001B[1;33m         \u001B[1;32mreturn\u001B[0m \u001B[0msuper\u001B[0m\u001B[1;33m(\u001B[0m\u001B[1;33m)\u001B[0m\u001B[1;33m.\u001B[0m\u001B[0mmean\u001B[0m\u001B[1;33m(\u001B[0m\u001B[1;33m*\u001B[0m\u001B[0margs\u001B[0m\u001B[1;33m,\u001B[0m \u001B[1;33m**\u001B[0m\u001B[0mkwargs\u001B[0m\u001B[1;33m)\u001B[0m\u001B[1;33m\u001B[0m\u001B[1;33m\u001B[0m\u001B[0m\n\u001B[0m\u001B[0;32m   2092\u001B[0m \u001B[1;33m\u001B[0m\u001B[0m\n\u001B[0;32m   2093\u001B[0m     \u001B[1;33m@\u001B[0m\u001B[0mSubstitution\u001B[0m\u001B[1;33m(\u001B[0m\u001B[0mname\u001B[0m\u001B[1;33m=\u001B[0m\u001B[1;34m\"rolling\"\u001B[0m\u001B[1;33m)\u001B[0m\u001B[1;33m\u001B[0m\u001B[1;33m\u001B[0m\u001B[0m\n",
      "\u001B[1;32mc:\\programdata\\miniconda3\\envs\\alpha_media_signal\\lib\\site-packages\\pandas\\core\\window\\rolling.py\u001B[0m in \u001B[0;36mmean\u001B[1;34m(self, *args, **kwargs)\u001B[0m\n\u001B[0;32m   1486\u001B[0m         \u001B[0mnv\u001B[0m\u001B[1;33m.\u001B[0m\u001B[0mvalidate_window_func\u001B[0m\u001B[1;33m(\u001B[0m\u001B[1;34m\"mean\"\u001B[0m\u001B[1;33m,\u001B[0m \u001B[0margs\u001B[0m\u001B[1;33m,\u001B[0m \u001B[0mkwargs\u001B[0m\u001B[1;33m)\u001B[0m\u001B[1;33m\u001B[0m\u001B[1;33m\u001B[0m\u001B[0m\n\u001B[0;32m   1487\u001B[0m         \u001B[0mwindow_func\u001B[0m \u001B[1;33m=\u001B[0m \u001B[0mself\u001B[0m\u001B[1;33m.\u001B[0m\u001B[0m_get_cython_func_type\u001B[0m\u001B[1;33m(\u001B[0m\u001B[1;34m\"roll_mean\"\u001B[0m\u001B[1;33m)\u001B[0m\u001B[1;33m\u001B[0m\u001B[1;33m\u001B[0m\u001B[0m\n\u001B[1;32m-> 1488\u001B[1;33m         \u001B[1;32mreturn\u001B[0m \u001B[0mself\u001B[0m\u001B[1;33m.\u001B[0m\u001B[0m_apply\u001B[0m\u001B[1;33m(\u001B[0m\u001B[0mwindow_func\u001B[0m\u001B[1;33m,\u001B[0m \u001B[0mcenter\u001B[0m\u001B[1;33m=\u001B[0m\u001B[0mself\u001B[0m\u001B[1;33m.\u001B[0m\u001B[0mcenter\u001B[0m\u001B[1;33m,\u001B[0m \u001B[0mname\u001B[0m\u001B[1;33m=\u001B[0m\u001B[1;34m\"mean\"\u001B[0m\u001B[1;33m,\u001B[0m \u001B[1;33m**\u001B[0m\u001B[0mkwargs\u001B[0m\u001B[1;33m)\u001B[0m\u001B[1;33m\u001B[0m\u001B[1;33m\u001B[0m\u001B[0m\n\u001B[0m\u001B[0;32m   1489\u001B[0m \u001B[1;33m\u001B[0m\u001B[0m\n\u001B[0;32m   1490\u001B[0m     _shared_docs[\"median\"] = dedent(\n",
      "\u001B[1;32mc:\\programdata\\miniconda3\\envs\\alpha_media_signal\\lib\\site-packages\\pandas\\core\\window\\rolling.py\u001B[0m in \u001B[0;36m_apply\u001B[1;34m(self, func, center, require_min_periods, floor, is_weighted, name, use_numba_cache, **kwargs)\u001B[0m\n\u001B[0;32m    526\u001B[0m         \u001B[0mwindow\u001B[0m \u001B[1;33m=\u001B[0m \u001B[0mself\u001B[0m\u001B[1;33m.\u001B[0m\u001B[0m_get_window\u001B[0m\u001B[1;33m(\u001B[0m\u001B[0mwin_type\u001B[0m\u001B[1;33m=\u001B[0m\u001B[0mwin_type\u001B[0m\u001B[1;33m)\u001B[0m\u001B[1;33m\u001B[0m\u001B[1;33m\u001B[0m\u001B[0m\n\u001B[0;32m    527\u001B[0m \u001B[1;33m\u001B[0m\u001B[0m\n\u001B[1;32m--> 528\u001B[1;33m         \u001B[0mblocks\u001B[0m\u001B[1;33m,\u001B[0m \u001B[0mobj\u001B[0m \u001B[1;33m=\u001B[0m \u001B[0mself\u001B[0m\u001B[1;33m.\u001B[0m\u001B[0m_create_blocks\u001B[0m\u001B[1;33m(\u001B[0m\u001B[0mself\u001B[0m\u001B[1;33m.\u001B[0m\u001B[0m_selected_obj\u001B[0m\u001B[1;33m)\u001B[0m\u001B[1;33m\u001B[0m\u001B[1;33m\u001B[0m\u001B[0m\n\u001B[0m\u001B[0;32m    529\u001B[0m         \u001B[0mblock_list\u001B[0m \u001B[1;33m=\u001B[0m \u001B[0mlist\u001B[0m\u001B[1;33m(\u001B[0m\u001B[0mblocks\u001B[0m\u001B[1;33m)\u001B[0m\u001B[1;33m\u001B[0m\u001B[1;33m\u001B[0m\u001B[0m\n\u001B[0;32m    530\u001B[0m         \u001B[0mwindow_indexer\u001B[0m \u001B[1;33m=\u001B[0m \u001B[0mself\u001B[0m\u001B[1;33m.\u001B[0m\u001B[0m_get_window_indexer\u001B[0m\u001B[1;33m(\u001B[0m\u001B[0mwindow\u001B[0m\u001B[1;33m)\u001B[0m\u001B[1;33m\u001B[0m\u001B[1;33m\u001B[0m\u001B[0m\n",
      "\u001B[1;32mc:\\programdata\\miniconda3\\envs\\alpha_media_signal\\lib\\site-packages\\pandas\\core\\window\\rolling.py\u001B[0m in \u001B[0;36m_create_blocks\u001B[1;34m(self, obj)\u001B[0m\n\u001B[0;32m    228\u001B[0m             \u001B[1;32mif\u001B[0m \u001B[0mobj\u001B[0m\u001B[1;33m.\u001B[0m\u001B[0mndim\u001B[0m \u001B[1;33m==\u001B[0m \u001B[1;36m2\u001B[0m\u001B[1;33m:\u001B[0m\u001B[1;33m\u001B[0m\u001B[1;33m\u001B[0m\u001B[0m\n\u001B[0;32m    229\u001B[0m                 \u001B[0mobj\u001B[0m \u001B[1;33m=\u001B[0m \u001B[0mobj\u001B[0m\u001B[1;33m.\u001B[0m\u001B[0mreindex\u001B[0m\u001B[1;33m(\u001B[0m\u001B[0mcolumns\u001B[0m\u001B[1;33m=\u001B[0m\u001B[0mobj\u001B[0m\u001B[1;33m.\u001B[0m\u001B[0mcolumns\u001B[0m\u001B[1;33m.\u001B[0m\u001B[0mdifference\u001B[0m\u001B[1;33m(\u001B[0m\u001B[1;33m[\u001B[0m\u001B[0mself\u001B[0m\u001B[1;33m.\u001B[0m\u001B[0mon\u001B[0m\u001B[1;33m]\u001B[0m\u001B[1;33m)\u001B[0m\u001B[1;33m,\u001B[0m \u001B[0mcopy\u001B[0m\u001B[1;33m=\u001B[0m\u001B[1;32mFalse\u001B[0m\u001B[1;33m)\u001B[0m\u001B[1;33m\u001B[0m\u001B[1;33m\u001B[0m\u001B[0m\n\u001B[1;32m--> 230\u001B[1;33m         \u001B[0mblocks\u001B[0m \u001B[1;33m=\u001B[0m \u001B[0mobj\u001B[0m\u001B[1;33m.\u001B[0m\u001B[0m_to_dict_of_blocks\u001B[0m\u001B[1;33m(\u001B[0m\u001B[0mcopy\u001B[0m\u001B[1;33m=\u001B[0m\u001B[1;32mFalse\u001B[0m\u001B[1;33m)\u001B[0m\u001B[1;33m.\u001B[0m\u001B[0mvalues\u001B[0m\u001B[1;33m(\u001B[0m\u001B[1;33m)\u001B[0m\u001B[1;33m\u001B[0m\u001B[1;33m\u001B[0m\u001B[0m\n\u001B[0m\u001B[0;32m    231\u001B[0m \u001B[1;33m\u001B[0m\u001B[0m\n\u001B[0;32m    232\u001B[0m         \u001B[1;32mreturn\u001B[0m \u001B[0mblocks\u001B[0m\u001B[1;33m,\u001B[0m \u001B[0mobj\u001B[0m\u001B[1;33m\u001B[0m\u001B[1;33m\u001B[0m\u001B[0m\n",
      "\u001B[1;32mc:\\programdata\\miniconda3\\envs\\alpha_media_signal\\lib\\site-packages\\pandas\\core\\generic.py\u001B[0m in \u001B[0;36m_to_dict_of_blocks\u001B[1;34m(self, copy)\u001B[0m\n\u001B[0;32m   5388\u001B[0m         return {\n\u001B[0;32m   5389\u001B[0m             \u001B[0mk\u001B[0m\u001B[1;33m:\u001B[0m \u001B[0mself\u001B[0m\u001B[1;33m.\u001B[0m\u001B[0m_constructor\u001B[0m\u001B[1;33m(\u001B[0m\u001B[0mv\u001B[0m\u001B[1;33m)\u001B[0m\u001B[1;33m.\u001B[0m\u001B[0m__finalize__\u001B[0m\u001B[1;33m(\u001B[0m\u001B[0mself\u001B[0m\u001B[1;33m)\u001B[0m\u001B[1;33m\u001B[0m\u001B[1;33m\u001B[0m\u001B[0m\n\u001B[1;32m-> 5390\u001B[1;33m             \u001B[1;32mfor\u001B[0m \u001B[0mk\u001B[0m\u001B[1;33m,\u001B[0m \u001B[0mv\u001B[0m\u001B[1;33m,\u001B[0m \u001B[1;32min\u001B[0m \u001B[0mself\u001B[0m\u001B[1;33m.\u001B[0m\u001B[0m_mgr\u001B[0m\u001B[1;33m.\u001B[0m\u001B[0mto_dict\u001B[0m\u001B[1;33m(\u001B[0m\u001B[0mcopy\u001B[0m\u001B[1;33m=\u001B[0m\u001B[0mcopy\u001B[0m\u001B[1;33m)\u001B[0m\u001B[1;33m.\u001B[0m\u001B[0mitems\u001B[0m\u001B[1;33m(\u001B[0m\u001B[1;33m)\u001B[0m\u001B[1;33m\u001B[0m\u001B[1;33m\u001B[0m\u001B[0m\n\u001B[0m\u001B[0;32m   5391\u001B[0m         }\n\u001B[0;32m   5392\u001B[0m \u001B[1;33m\u001B[0m\u001B[0m\n",
      "\u001B[1;32mc:\\programdata\\miniconda3\\envs\\alpha_media_signal\\lib\\site-packages\\pandas\\core\\internals\\managers.py\u001B[0m in \u001B[0;36mto_dict\u001B[1;34m(self, copy)\u001B[0m\n\u001B[0;32m    922\u001B[0m \u001B[1;33m\u001B[0m\u001B[0m\n\u001B[0;32m    923\u001B[0m         \u001B[1;31m# TODO(EA2D): the combine will be unnecessary with 2D EAs\u001B[0m\u001B[1;33m\u001B[0m\u001B[1;33m\u001B[0m\u001B[1;33m\u001B[0m\u001B[0m\n\u001B[1;32m--> 924\u001B[1;33m         \u001B[1;32mreturn\u001B[0m \u001B[1;33m{\u001B[0m\u001B[0mdtype\u001B[0m\u001B[1;33m:\u001B[0m \u001B[0mself\u001B[0m\u001B[1;33m.\u001B[0m\u001B[0m_combine\u001B[0m\u001B[1;33m(\u001B[0m\u001B[0mblocks\u001B[0m\u001B[1;33m,\u001B[0m \u001B[0mcopy\u001B[0m\u001B[1;33m=\u001B[0m\u001B[0mcopy\u001B[0m\u001B[1;33m)\u001B[0m \u001B[1;32mfor\u001B[0m \u001B[0mdtype\u001B[0m\u001B[1;33m,\u001B[0m \u001B[0mblocks\u001B[0m \u001B[1;32min\u001B[0m \u001B[0mbd\u001B[0m\u001B[1;33m.\u001B[0m\u001B[0mitems\u001B[0m\u001B[1;33m(\u001B[0m\u001B[1;33m)\u001B[0m\u001B[1;33m}\u001B[0m\u001B[1;33m\u001B[0m\u001B[1;33m\u001B[0m\u001B[0m\n\u001B[0m\u001B[0;32m    925\u001B[0m \u001B[1;33m\u001B[0m\u001B[0m\n\u001B[0;32m    926\u001B[0m     \u001B[1;32mdef\u001B[0m \u001B[0mfast_xs\u001B[0m\u001B[1;33m(\u001B[0m\u001B[0mself\u001B[0m\u001B[1;33m,\u001B[0m \u001B[0mloc\u001B[0m\u001B[1;33m:\u001B[0m \u001B[0mint\u001B[0m\u001B[1;33m)\u001B[0m \u001B[1;33m->\u001B[0m \u001B[0mArrayLike\u001B[0m\u001B[1;33m:\u001B[0m\u001B[1;33m\u001B[0m\u001B[1;33m\u001B[0m\u001B[0m\n",
      "\u001B[1;32mc:\\programdata\\miniconda3\\envs\\alpha_media_signal\\lib\\site-packages\\pandas\\core\\internals\\managers.py\u001B[0m in \u001B[0;36m<dictcomp>\u001B[1;34m(.0)\u001B[0m\n\u001B[0;32m    922\u001B[0m \u001B[1;33m\u001B[0m\u001B[0m\n\u001B[0;32m    923\u001B[0m         \u001B[1;31m# TODO(EA2D): the combine will be unnecessary with 2D EAs\u001B[0m\u001B[1;33m\u001B[0m\u001B[1;33m\u001B[0m\u001B[1;33m\u001B[0m\u001B[0m\n\u001B[1;32m--> 924\u001B[1;33m         \u001B[1;32mreturn\u001B[0m \u001B[1;33m{\u001B[0m\u001B[0mdtype\u001B[0m\u001B[1;33m:\u001B[0m \u001B[0mself\u001B[0m\u001B[1;33m.\u001B[0m\u001B[0m_combine\u001B[0m\u001B[1;33m(\u001B[0m\u001B[0mblocks\u001B[0m\u001B[1;33m,\u001B[0m \u001B[0mcopy\u001B[0m\u001B[1;33m=\u001B[0m\u001B[0mcopy\u001B[0m\u001B[1;33m)\u001B[0m \u001B[1;32mfor\u001B[0m \u001B[0mdtype\u001B[0m\u001B[1;33m,\u001B[0m \u001B[0mblocks\u001B[0m \u001B[1;32min\u001B[0m \u001B[0mbd\u001B[0m\u001B[1;33m.\u001B[0m\u001B[0mitems\u001B[0m\u001B[1;33m(\u001B[0m\u001B[1;33m)\u001B[0m\u001B[1;33m}\u001B[0m\u001B[1;33m\u001B[0m\u001B[1;33m\u001B[0m\u001B[0m\n\u001B[0m\u001B[0;32m    925\u001B[0m \u001B[1;33m\u001B[0m\u001B[0m\n\u001B[0;32m    926\u001B[0m     \u001B[1;32mdef\u001B[0m \u001B[0mfast_xs\u001B[0m\u001B[1;33m(\u001B[0m\u001B[0mself\u001B[0m\u001B[1;33m,\u001B[0m \u001B[0mloc\u001B[0m\u001B[1;33m:\u001B[0m \u001B[0mint\u001B[0m\u001B[1;33m)\u001B[0m \u001B[1;33m->\u001B[0m \u001B[0mArrayLike\u001B[0m\u001B[1;33m:\u001B[0m\u001B[1;33m\u001B[0m\u001B[1;33m\u001B[0m\u001B[0m\n",
      "\u001B[1;32mc:\\programdata\\miniconda3\\envs\\alpha_media_signal\\lib\\site-packages\\pandas\\core\\internals\\managers.py\u001B[0m in \u001B[0;36m_combine\u001B[1;34m(self, blocks, copy)\u001B[0m\n\u001B[0;32m    741\u001B[0m \u001B[1;33m\u001B[0m\u001B[0m\n\u001B[0;32m    742\u001B[0m         \u001B[1;31m# FIXME: optimization potential\u001B[0m\u001B[1;33m\u001B[0m\u001B[1;33m\u001B[0m\u001B[1;33m\u001B[0m\u001B[0m\n\u001B[1;32m--> 743\u001B[1;33m         \u001B[0mindexer\u001B[0m \u001B[1;33m=\u001B[0m \u001B[0mnp\u001B[0m\u001B[1;33m.\u001B[0m\u001B[0msort\u001B[0m\u001B[1;33m(\u001B[0m\u001B[0mnp\u001B[0m\u001B[1;33m.\u001B[0m\u001B[0mconcatenate\u001B[0m\u001B[1;33m(\u001B[0m\u001B[1;33m[\u001B[0m\u001B[0mb\u001B[0m\u001B[1;33m.\u001B[0m\u001B[0mmgr_locs\u001B[0m\u001B[1;33m.\u001B[0m\u001B[0mas_array\u001B[0m \u001B[1;32mfor\u001B[0m \u001B[0mb\u001B[0m \u001B[1;32min\u001B[0m \u001B[0mblocks\u001B[0m\u001B[1;33m]\u001B[0m\u001B[1;33m)\u001B[0m\u001B[1;33m)\u001B[0m\u001B[1;33m\u001B[0m\u001B[1;33m\u001B[0m\u001B[0m\n\u001B[0m\u001B[0;32m    744\u001B[0m         \u001B[0minv_indexer\u001B[0m \u001B[1;33m=\u001B[0m \u001B[0mlib\u001B[0m\u001B[1;33m.\u001B[0m\u001B[0mget_reverse_indexer\u001B[0m\u001B[1;33m(\u001B[0m\u001B[0mindexer\u001B[0m\u001B[1;33m,\u001B[0m \u001B[0mself\u001B[0m\u001B[1;33m.\u001B[0m\u001B[0mshape\u001B[0m\u001B[1;33m[\u001B[0m\u001B[1;36m0\u001B[0m\u001B[1;33m]\u001B[0m\u001B[1;33m)\u001B[0m\u001B[1;33m\u001B[0m\u001B[1;33m\u001B[0m\u001B[0m\n\u001B[0;32m    745\u001B[0m \u001B[1;33m\u001B[0m\u001B[0m\n",
      "\u001B[1;32m<__array_function__ internals>\u001B[0m in \u001B[0;36msort\u001B[1;34m(*args, **kwargs)\u001B[0m\n",
      "\u001B[1;32m~\\AppData\\Roaming\\Python\\Python37\\site-packages\\numpy\\core\\fromnumeric.py\u001B[0m in \u001B[0;36msort\u001B[1;34m(a, axis, kind, order)\u001B[0m\n\u001B[0;32m    968\u001B[0m     \u001B[1;32melse\u001B[0m\u001B[1;33m:\u001B[0m\u001B[1;33m\u001B[0m\u001B[1;33m\u001B[0m\u001B[0m\n\u001B[0;32m    969\u001B[0m         \u001B[0ma\u001B[0m \u001B[1;33m=\u001B[0m \u001B[0masanyarray\u001B[0m\u001B[1;33m(\u001B[0m\u001B[0ma\u001B[0m\u001B[1;33m)\u001B[0m\u001B[1;33m.\u001B[0m\u001B[0mcopy\u001B[0m\u001B[1;33m(\u001B[0m\u001B[0morder\u001B[0m\u001B[1;33m=\u001B[0m\u001B[1;34m\"K\"\u001B[0m\u001B[1;33m)\u001B[0m\u001B[1;33m\u001B[0m\u001B[1;33m\u001B[0m\u001B[0m\n\u001B[1;32m--> 970\u001B[1;33m     \u001B[0ma\u001B[0m\u001B[1;33m.\u001B[0m\u001B[0msort\u001B[0m\u001B[1;33m(\u001B[0m\u001B[0maxis\u001B[0m\u001B[1;33m=\u001B[0m\u001B[0maxis\u001B[0m\u001B[1;33m,\u001B[0m \u001B[0mkind\u001B[0m\u001B[1;33m=\u001B[0m\u001B[0mkind\u001B[0m\u001B[1;33m,\u001B[0m \u001B[0morder\u001B[0m\u001B[1;33m=\u001B[0m\u001B[0morder\u001B[0m\u001B[1;33m)\u001B[0m\u001B[1;33m\u001B[0m\u001B[1;33m\u001B[0m\u001B[0m\n\u001B[0m\u001B[0;32m    971\u001B[0m     \u001B[1;32mreturn\u001B[0m \u001B[0ma\u001B[0m\u001B[1;33m\u001B[0m\u001B[1;33m\u001B[0m\u001B[0m\n\u001B[0;32m    972\u001B[0m \u001B[1;33m\u001B[0m\u001B[0m\n",
      "\u001B[1;31mKeyboardInterrupt\u001B[0m: "
     ]
    }
   ],
   "source": [
    "%%time\n",
    "\n",
    "if cell_x:\n",
    "    print(df_merged.shape[0])\n",
    "\n",
    "    df_days_until = twitter_ml_utils.add_calendar_info_2(df=df_merged, \n",
    "                                      columns_fundy=columns_fundy,\n",
    "                                      tweet_date_str=tweet_date_str,\n",
    "                                      num_hold_days=num_hold_days,\n",
    "                                      oldest_tweet_date=oldest_tweet_date)\n",
    "\n",
    "    if df_days_until is None:\n",
    "        raise Exception(\"Empty result.\")"
   ]
  },
  {
   "cell_type": "code",
   "execution_count": 72,
   "metadata": {},
   "outputs": [
    {
     "name": "stdout",
     "output_type": "stream",
     "text": [
      "1712\n",
      "Wall time: 3 ms\n"
     ]
    }
   ],
   "source": [
    "%%time\n",
    "if cell_x:\n",
    "    print(df_days_until.shape[0])\n",
    "    df = df_days_until\n",
    "    df_predict = df[df[\"date\"] == tweet_date_str].copy()\n",
    "\n",
    "    if df_predict is None:\n",
    "        raise Exception(\"Predict dataframe is empty.\")\n",
    "        \n",
    "    # print(list(df_predict.columns))"
   ]
  },
  {
   "cell_type": "code",
   "execution_count": 73,
   "metadata": {
    "pycharm": {
     "name": "#%%\n"
    }
   },
   "outputs": [
    {
     "name": "stdout",
     "output_type": "stream",
     "text": [
      "Wall time: 0 ns\n"
     ]
    }
   ],
   "source": [
    "%%time\n",
    "\n",
    "if cell_x:\n",
    "    df_refined = twitter_service.refine_pool(df=df, min_volume=None, min_price=None, max_price=None)"
   ]
  },
  {
   "cell_type": "code",
   "execution_count": 74,
   "metadata": {},
   "outputs": [
    {
     "name": "stdout",
     "output_type": "stream",
     "text": [
      "1712\n",
      "df_predict: 29\n"
     ]
    }
   ],
   "source": [
    "if cell_x:\n",
    "    print(df_refined.shape[0])\n",
    "    df_predict = df_refined[df_refined[\"date\"] == tweet_date_str].copy()\n",
    "    print(f\"df_predict: {df_predict.shape[0]}\")\n",
    "    # print(list(df_predict.columns))"
   ]
  },
  {
   "cell_type": "code",
   "execution_count": 75,
   "metadata": {},
   "outputs": [
    {
     "name": "stdout",
     "output_type": "stream",
     "text": [
      "Wall time: 14.2 ms\n"
     ]
    }
   ],
   "source": [
    "%%time\n",
    "\n",
    "if cell_x:\n",
    "    df_ticker_hotted, narrow_cols = twitter_ml_utils.one_hot(df=df_refined)"
   ]
  },
  {
   "cell_type": "code",
   "execution_count": 76,
   "metadata": {},
   "outputs": [
    {
     "name": "stdout",
     "output_type": "stream",
     "text": [
      "df_ticker_hotted: 1712\n",
      "df_predict: 29\n"
     ]
    }
   ],
   "source": [
    "if cell_x:\n",
    "    print(f\"df_ticker_hotted: {df_ticker_hotted.shape[0]}\")\n",
    "    df_predict = df_ticker_hotted[df_ticker_hotted[\"date\"] == tweet_date_str].copy()\n",
    "    print(f\"df_predict: {df_predict.shape[0]}\")\n",
    "    # print(list(df_predict.columns))"
   ]
  },
  {
   "cell_type": "code",
   "execution_count": 77,
   "metadata": {},
   "outputs": [
    {
     "name": "stdout",
     "output_type": "stream",
     "text": [
      "29\n",
      "Wall time: 2 ms\n"
     ]
    }
   ],
   "source": [
    "%%time\n",
    "  \n",
    "if cell_x:\n",
    "#     print(list(df_ticker_hotted.columns))\n",
    "#     df_prepped = twitter_ml_utils.prep_predict(df=df_ticker_hotted, predict_date_str=s.predict_date_str)\n",
    "    df = df_ticker_hotted\n",
    "    df_pred = df[df[\"date\"] == tweet_date_str].copy()\n",
    "    \n",
    "    print(df_pred.shape[0])"
   ]
  },
  {
   "cell_type": "code",
   "execution_count": 78,
   "metadata": {},
   "outputs": [
    {
     "name": "stdout",
     "output_type": "stream",
     "text": [
      "2021-02-13 22:07:02,157 - ams.twitter.twitter_ml_utils - INFO - Num rows of prepared data: 1683\n",
      "2021-02-13 22:07:02,157 - ams.twitter.twitter_ml_utils - INFO - Oldest date of prepared data (future_date): 2021-02-11\n",
      "2021-02-13 22:07:02,157 - ams.twitter.twitter_ml_utils - INFO - Num prepped: 29\n",
      "1683\n",
      "29\n",
      "Wall time: 38.4 ms\n"
     ]
    }
   ],
   "source": [
    "%%time\n",
    "\n",
    "if cell_x:\n",
    "    df_train, df_predict = twitter_ml_utils.split_train_predict(df=df_ticker_hotted, tweet_date_str=tweet_date_str)\n",
    "    narrow_cols = twitter_ml_utils.get_train_columns(all_columns=list(df_train.columns))\n",
    "    print(df_train.shape[0])\n",
    "    print(df_predict.shape[0])\n",
    "#     print(narrow_cols)"
   ]
  },
  {
   "cell_type": "code",
   "execution_count": 79,
   "metadata": {},
   "outputs": [
    {
     "name": "stdout",
     "output_type": "stream",
     "text": [
      "2021-02-13 22:07:02,321 - ams.services.twitter_service - INFO - balanced data: 1466\n",
      "2021-02-13 22:07:03,221 - ams.twitter.twitter_ml_utils - INFO - Invoking model prediction ...\n",
      "2021-02-13 22:07:03,234 - __main__ - INFO - df_predict: 29: num buy predictions: 12\n",
      "2021-02-13 22:07:03,315 - ams.twitter.pred_perf_testing - INFO - 2021-02-11: roi: 0.009197006097641326: 12 tickers\n",
      "Wall time: 1.08 s\n"
     ]
    },
    {
     "name": "stderr",
     "output_type": "stream",
     "text": [
      "c:\\programdata\\miniconda3\\envs\\alpha_media_signal\\lib\\site-packages\\ipykernel_launcher.py:14: SettingWithCopyWarning: \n",
      "A value is trying to be set on a copy of a slice from a DataFrame.\n",
      "Try using .loc[row_indexer,col_indexer] = value instead\n",
      "\n",
      "See the caveats in the documentation: https://pandas.pydata.org/pandas-docs/stable/user_guide/indexing.html#returning-a-view-versus-a-copy\n",
      "  \n"
     ]
    }
   ],
   "source": [
    "%%time\n",
    "from ams.twitter import pred_perf_testing\n",
    "\n",
    "if cell_x:\n",
    "    narrow_cols = twitter_ml_utils.get_train_columns(all_columns=list(df_train.columns))\n",
    "\n",
    "    df_predict = twitter_ml_utils.train_predict(df_train=df_train,\n",
    "                               df_predict=df_predict,\n",
    "                               narrow_cols=narrow_cols)\n",
    "    if df_predict is not None and df_predict.shape[0] > 0:\n",
    "        df_buy = df_predict[df_predict[\"prediction\"] == 1].copy()\n",
    "        num_buys = df_buy.shape[0]\n",
    "        logger.info(f\"df_predict: {df_predict.shape[0]}: num buy predictions: {num_buys}\")\n",
    "        \n",
    "        df_buy[\"num_hold_days\"] = num_days_hold\n",
    "\n",
    "        if num_buys > 0:\n",
    "            days_roi_1 = pred_perf_testing.get_days_roi_from_prediction_table(df_preds=df_buy, purchase_date_str=purchase_date_str, num_hold_days=num_days_hold)\n",
    "#             days_roi_5 = pred_perf_testing.get_days_roi_from_prediction_table(df_preds=df_buy, date_strtweet_date_str, num_hold_days=5)\n",
    "\n",
    "#             logger.info(f\"{tweet_date_str}: roi {num_hold_days} day: {days_roi_1}: 5: {days_roi_5}\")"
   ]
  },
  {
   "cell_type": "code",
   "execution_count": 80,
   "metadata": {
    "pycharm": {
     "name": "#%%\n"
    }
   },
   "outputs": [
    {
     "name": "stdout",
     "output_type": "stream",
     "text": [
      "2021-02-13 22:07:03,458 - ams.services.twitter_service - INFO - balanced data: 1466\n",
      "2021-02-13 22:07:04,415 - ams.twitter.twitter_ml_utils - INFO - Invoking model prediction ...\n",
      "29\n",
      "Wall time: 1.03 s\n"
     ]
    }
   ],
   "source": [
    "# %%time\n",
    "\n",
    "# if cell_x:  \n",
    "#     if df_train is None or df_predict is None or df_predict.shape[0] == 0 or df_train.shape[0] == 0:\n",
    "#         logger.info(f\"Not enough data on {s.predict_date_str}\")\n",
    "#         raise Exception(\"Error!\")\n",
    "\n",
    "#     df_predict = twitter_ml_utils.train_predict(df_train=df_train, df_predict=df_predict, narrow_cols=narrow_cols)\n",
    "    \n",
    "#     if df_predict is None:\n",
    "#         raise Exception(\"predict dataframe is empty.\")\n",
    "        \n",
    "#     print(df_predict.shape[0])"
   ]
  },
  {
   "cell_type": "code",
   "execution_count": 81,
   "metadata": {},
   "outputs": [
    {
     "name": "stdout",
     "output_type": "stream",
     "text": [
      "df_train: 1683\n",
      "df_predict: 29\n",
      "Purchase rate: 0.310\n"
     ]
    }
   ],
   "source": [
    "# if cell_x:\n",
    "#     print(f\"df_train: {df_train.shape[0]}\")\n",
    "#     print(f\"df_predict: {df_predict.shape[0]}\")\n",
    "#     total_rows = df_predict.shape[0]\n",
    "#     buy_rows = df_predict[df_predict[\"prediction\"] == 1].shape[0]\n",
    "#     buy_rate = buy_rows/total_rows\n",
    "#     print(f\"Purchase rate: {buy_rate:.03f}\")"
   ]
  },
  {
   "cell_type": "code",
   "execution_count": 82,
   "metadata": {
    "scrolled": false
   },
   "outputs": [
    {
     "ename": "AttributeError",
     "evalue": "module 'ams.twitter.twitter_ml_utils' has no attribute 'show_prediction_results'",
     "output_type": "error",
     "traceback": [
      "\u001B[1;31m---------------------------------------------------------------------------\u001B[0m",
      "\u001B[1;31mAttributeError\u001B[0m                            Traceback (most recent call last)",
      "\u001B[1;32m<timed exec>\u001B[0m in \u001B[0;36m<module>\u001B[1;34m\u001B[0m\n",
      "\u001B[1;31mAttributeError\u001B[0m: module 'ams.twitter.twitter_ml_utils' has no attribute 'show_prediction_results'"
     ]
    }
   ],
   "source": [
    "# %%time\n",
    "\n",
    "# if cell_x:\n",
    "#     num_buys = df_predict[df_predict[\"prediction\"] == 1].shape[0]\n",
    "#     roi_1_day, roi_5_days = twitter_ml_utils.show_prediction_results(df_predict, s.predict_date_str, s.num_hold_days)\n",
    "#     print(f\"{s.predict_date_str}: num_buys: {num_buys}; Roi 1: {roi_1_day}: 5: {roi_5_days}\")"
   ]
  },
  {
   "cell_type": "code",
   "execution_count": 83,
   "metadata": {},
   "outputs": [],
   "source": [
    "\n",
    "# if cell_x:\n",
    "#     roi_day = predict_day(df=df_tweets_for_day, predict_date_str=s.predict_date_str, num_hold_days=s.num_hold_days)\n",
    "#     print(roi_day)"
   ]
  },
  {
   "cell_type": "code",
   "execution_count": null,
   "metadata": {
    "scrolled": true
   },
   "outputs": [
    {
     "name": "stdout",
     "output_type": "stream",
     "text": [
      "Num tweets: 298626\n",
      "Cleaning prediction file...\n",
      "\n",
      "Training and predicting for 2021-02-04 with 3065 rows ...\n",
      "\n",
      "2021-02-05 20:07:19,872 - ams.twitter.twitter_ml_utils - INFO - Finished merging in quarterly stock data.\n"
     ]
    },
    {
     "name": "stderr",
     "output_type": "stream",
     "text": [
      "c:\\programdata\\miniconda3\\envs\\alpha_media_signal\\lib\\site-packages\\pandas\\core\\indexing.py:1763: SettingWithCopyWarning: \n",
      "A value is trying to be set on a copy of a slice from a DataFrame.\n",
      "Try using .loc[row_indexer,col_indexer] = value instead\n",
      "\n",
      "See the caveats in the documentation: https://pandas.pydata.org/pandas-docs/stable/user_guide/indexing.html#returning-a-view-versus-a-copy\n",
      "  isetter(loc, value)\n",
      "c:\\programdata\\miniconda3\\envs\\alpha_media_signal\\lib\\site-packages\\pandas\\core\\indexing.py:1743: SettingWithCopyWarning: \n",
      "A value is trying to be set on a copy of a slice from a DataFrame.\n",
      "Try using .loc[row_indexer,col_indexer] = value instead\n",
      "\n",
      "See the caveats in the documentation: https://pandas.pydata.org/pandas-docs/stable/user_guide/indexing.html#returning-a-view-versus-a-copy\n",
      "  isetter(ilocs[0], value)\n"
     ]
    }
   ],
   "source": [
    "# %%time\n",
    "# from statistics import mean\n",
    "# from ams.twitter.PredictionParams import TrainParams, PredictionParams, PredictionMode\n",
    "# from ams.twitter import pred_persistence\n",
    "\n",
    "# df_tiny = df_tweets_ready\n",
    "# # df_tiny = df_tweets_ready.sample(frac=.4)\n",
    "\n",
    "# def all_the_days(pp: PredictionParams):\n",
    "#     print(\"Cleaning prediction file...\")\n",
    "#     pred_persistence.clean_prediction_file(pp=pp)\n",
    "\n",
    "#     while pp.validate_prediction_date_str():\n",
    "#         print(f\"\\nTraining and predicting for {pp.predict_date_str} with {pp.predict_num_rows} rows ...\\n\")\n",
    "\n",
    "#         is_complete = twitter_ml_utils.predict_day(pp=pp)\n",
    "#         if is_complete:\n",
    "#             break\n",
    "\n",
    "#         pp.subtract_day()\n",
    "        \n",
    "# print(f\"Num tweets: {df_tiny.shape[0]}\")\n",
    "\n",
    "# train_params = TrainParams()\n",
    "\n",
    "# pred_params = PredictionParams()\n",
    "# pred_params.prediction_mode = PredictionMode.RealMoneyStockRecommender\n",
    "# pred_params.min_date_str = \"2021-02-04\"\n",
    "# pred_params.predict_date_str = \"2021-02-04\"\n",
    "# pred_params.max_date_str = pred_params.predict_date_str\n",
    "# pred_params.num_hold_days = 5\n",
    "# pred_params.df = df_tiny\n",
    "\n",
    "# pred_params.clean_pure_run = False\n",
    "# pred_params.train_params = train_params\n",
    "\n",
    "# all_the_days(pp=pred_params)"
   ]
  },
  {
   "cell_type": "code",
   "execution_count": 25,
   "metadata": {},
   "outputs": [],
   "source": [
    "# Add overall ROI ongoing.(?)\n",
    "# Add EOD (open, close, high, low) to train and predict. But for predict use previous day. Done\n",
    "# Fix SMA: prev day for open for predict, regular for all other dates: Done\n",
    "# Add num days from start - already implemented with day_of_year\n",
    "# Add lookup to previous day's prediction roi - seems to follow on-off-on-off pattern.\n",
    "# Change to WorldTradingDaily real time quotes (12hr) to substitute for open, low, high, and estimate close. (or just take current)\n",
    "# WTD not necessary when using historical.\n",
    "# Test yesterday EOD with 4 day estimate.\n",
    "# Test with historical purchase day eod data (open, close, high, low)\n",
    "# Change SMA back to use purchase day-base SMA.\n",
    "# Reprocess all date with by using sums in Great reduction rather than means."
   ]
  },
  {
   "cell_type": "code",
   "execution_count": null,
   "metadata": {
    "pycharm": {
     "name": "#%%\n"
    }
   },
   "outputs": [],
   "source": []
  }
 ],
 "metadata": {
  "kernelspec": {
   "display_name": "Python 3",
   "language": "python",
   "name": "python3"
  },
  "language_info": {
   "codemirror_mode": {
    "name": "ipython",
    "version": 3
   },
   "file_extension": ".py",
   "mimetype": "text/x-python",
   "name": "python",
   "nbconvert_exporter": "python",
   "pygments_lexer": "ipython3",
   "version": "3.7.9"
  }
 },
 "nbformat": 4,
 "nbformat_minor": 1
}