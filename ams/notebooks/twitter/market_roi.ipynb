{
 "cells": [
  {
   "cell_type": "code",
   "execution_count": 1,
   "metadata": {
    "pycharm": {
     "name": "#%%\n"
    }
   },
   "outputs": [],
   "source": [
    "%LOAD_EXT AUTORELOAD\n",
    "%AUTORELOAD 2"
   ]
  },
  {
   "cell_type": "code",
   "execution_count": 2,
   "metadata": {
    "pycharm": {
     "name": "#%%\n"
    }
   },
   "outputs": [],
   "source": [
    "'''\n",
    "Description: Calculates Historical Market Wide Characteristicts\n",
    "'''\n",
    "from pyspark.sql import Window\n",
    "import findspark\n",
    "from pyspark import StorageLevel\n",
    "\n",
    "from ams.services import spark_service\n",
    "from ams.config import constants\n",
    "from ams.services.ticker_service import  get_nasdaq_tickers\n",
    "\n",
    "from ams.config import logger_factory\n",
    "\n",
    "logger = logger_factory.create(\"market_roi.ipynb\")"
   ]
  },
  {
   "cell_type": "code",
   "execution_count": 3,
   "metadata": {
    "pycharm": {
     "name": "#%%\n"
    }
   },
   "outputs": [
    {
     "name": "stdout",
     "output_type": "stream",
     "text": [
      "19:04:32 - ams.services.spark_service:29 - INFO - http://DESKTOP-RI98UNH.mshome.net:4040\n",
      "19:04:33 - ams.services.spark_service:29 - INFO - http://DESKTOP-RI98UNH.mshome.net:4040\n",
      "19:04:33 - market_roi.ipynb:7 - INFO - pyspark script logger initialized\n"
     ]
    }
   ],
   "source": [
    "import os\n",
    "os.environ['OBJC_DISABLE_INITIALIZE_FORK_SAFETY'] = 'YES'\n",
    "\n",
    "findspark.init()\n",
    "spark = spark_service.get_or_create(app_name='roi')\n",
    "sc = spark.sparkContext\n",
    "logger.info(\"pyspark script logger initialized\")"
   ]
  },
  {
   "cell_type": "code",
   "execution_count": 71,
   "metadata": {
    "pycharm": {
     "name": "#%%\n"
    }
   },
   "outputs": [],
   "source": [
    "from pyspark.sql import types as T\n",
    "\n",
    "schema_ticker = T.StructType(fields=[T.StructField('ticker', T.StringType()),\n",
    "                            T.StructField('date', T.StringType()),\n",
    "                            T.StructField('open', T.FloatType()),\n",
    "                            T.StructField('high', T.FloatType()),\n",
    "                            T.StructField('low', T.FloatType()),\n",
    "                            T.StructField('close', T.FloatType()),\n",
    "                            T.StructField('volume', T.FloatType()),\n",
    "                            T.StructField('dividends', T.FloatType()),\n",
    "                            T.StructField('closeunadj', T.FloatType()),\n",
    "                            T.StructField('lastupdated', T.StringType()),\n",
    "                            T.StructField('closeadj', T.FloatType()),\n",
    "                            ])\n",
    "\n",
    "df = spark.read.schema(schema_ticker).csv(str(constants.SHAR_SPLIT_EQUITY_EOD_DIR), header=True)\n",
    "df_dropped = df.drop(\"None\")\n",
    "df_dropped = df_dropped.select(\"ticker\", \"date\", \"close\")"
   ]
  },
  {
   "cell_type": "code",
   "execution_count": 72,
   "metadata": {},
   "outputs": [
    {
     "data": {
      "text/plain": [
       "20011018"
      ]
     },
     "execution_count": 72,
     "metadata": {},
     "output_type": "execute_result"
    }
   ],
   "source": [
    "from pyspark.sql import functions as F\n",
    "from pyspark.sql.window import Window\n",
    "\n",
    "df_d = df_dropped\n",
    "\n",
    "ticker_window = Window.partitionBy(\"ticker\").orderBy(\"date\")\n",
    "df_d = df_d.withColumn(\"close_1_day_before\", F.lag(\"close\", 1).over(ticker_window))\n",
    "df_d = df_d.withColumn(\"close_2_day_before\", F.lag(\"close\", 2).over(ticker_window))\n",
    "df_d = df_d.withColumn(\"close_3_day_before\", F.lag(\"close\", 3).over(ticker_window))\n",
    "df_d = df_d.withColumn(\"close_4_day_before\", F.lag(\"close\", 4).over(ticker_window))\n",
    "df_d = df_d.withColumn(\"close_5_day_before\", F.lag(\"close\", 5).over(ticker_window))\n",
    "\n",
    "df_d.count()"
   ]
  },
  {
   "cell_type": "code",
   "execution_count": 73,
   "metadata": {},
   "outputs": [
    {
     "data": {
      "text/html": [
       "<div>\n",
       "<style scoped>\n",
       "    .dataframe tbody tr th:only-of-type {\n",
       "        vertical-align: middle;\n",
       "    }\n",
       "\n",
       "    .dataframe tbody tr th {\n",
       "        vertical-align: top;\n",
       "    }\n",
       "\n",
       "    .dataframe thead th {\n",
       "        text-align: right;\n",
       "    }\n",
       "</style>\n",
       "<table border=\"1\" class=\"dataframe\">\n",
       "  <thead>\n",
       "    <tr style=\"text-align: right;\">\n",
       "      <th></th>\n",
       "      <th>ticker</th>\n",
       "      <th>date</th>\n",
       "      <th>close</th>\n",
       "      <th>close_1_day_before</th>\n",
       "      <th>close_2_day_before</th>\n",
       "      <th>close_3_day_before</th>\n",
       "      <th>close_4_day_before</th>\n",
       "      <th>close_5_day_before</th>\n",
       "    </tr>\n",
       "  </thead>\n",
       "  <tbody>\n",
       "    <tr>\n",
       "      <th>0</th>\n",
       "      <td>AAPL</td>\n",
       "      <td>2009-01-02</td>\n",
       "      <td>12.964</td>\n",
       "      <td>NaN</td>\n",
       "      <td>NaN</td>\n",
       "      <td>NaN</td>\n",
       "      <td>NaN</td>\n",
       "      <td>NaN</td>\n",
       "    </tr>\n",
       "    <tr>\n",
       "      <th>1</th>\n",
       "      <td>AAPL</td>\n",
       "      <td>2009-01-05</td>\n",
       "      <td>13.511</td>\n",
       "      <td>12.964</td>\n",
       "      <td>NaN</td>\n",
       "      <td>NaN</td>\n",
       "      <td>NaN</td>\n",
       "      <td>NaN</td>\n",
       "    </tr>\n",
       "    <tr>\n",
       "      <th>2</th>\n",
       "      <td>AAPL</td>\n",
       "      <td>2009-01-06</td>\n",
       "      <td>13.289</td>\n",
       "      <td>13.511</td>\n",
       "      <td>12.964</td>\n",
       "      <td>NaN</td>\n",
       "      <td>NaN</td>\n",
       "      <td>NaN</td>\n",
       "    </tr>\n",
       "    <tr>\n",
       "      <th>3</th>\n",
       "      <td>AAPL</td>\n",
       "      <td>2009-01-07</td>\n",
       "      <td>13.001</td>\n",
       "      <td>13.289</td>\n",
       "      <td>13.511</td>\n",
       "      <td>12.964</td>\n",
       "      <td>NaN</td>\n",
       "      <td>NaN</td>\n",
       "    </tr>\n",
       "    <tr>\n",
       "      <th>4</th>\n",
       "      <td>AAPL</td>\n",
       "      <td>2009-01-08</td>\n",
       "      <td>13.243</td>\n",
       "      <td>13.001</td>\n",
       "      <td>13.289</td>\n",
       "      <td>13.511</td>\n",
       "      <td>12.964</td>\n",
       "      <td>NaN</td>\n",
       "    </tr>\n",
       "  </tbody>\n",
       "</table>\n",
       "</div>"
      ],
      "text/plain": [
       "  ticker        date   close  close_1_day_before  close_2_day_before  close_3_day_before  close_4_day_before  close_5_day_before\n",
       "0   AAPL  2009-01-02  12.964                 NaN                 NaN                 NaN                 NaN                 NaN\n",
       "1   AAPL  2009-01-05  13.511              12.964                 NaN                 NaN                 NaN                 NaN\n",
       "2   AAPL  2009-01-06  13.289              13.511              12.964                 NaN                 NaN                 NaN\n",
       "3   AAPL  2009-01-07  13.001              13.289              13.511              12.964                 NaN                 NaN\n",
       "4   AAPL  2009-01-08  13.243              13.001              13.289              13.511              12.964                 NaN"
      ]
     },
     "execution_count": 73,
     "metadata": {},
     "output_type": "execute_result"
    }
   ],
   "source": [
    "df_apple = df_d.filter(F.col(\"ticker\") == \"AAPL\")\n",
    "df_apple.createOrReplaceTempView(\"apple\")\n",
    "\n",
    "df_apple_lim = spark.sql(\"\"\"\n",
    "SELECT * from apple limit 10\"\"\")\n",
    "\n",
    "df_apple_lim.toPandas().head()"
   ]
  },
  {
   "cell_type": "code",
   "execution_count": 74,
   "metadata": {},
   "outputs": [],
   "source": [
    "import twitter_udf\n",
    "\n",
    "df_roi = df_d\n",
    "\n",
    "df_roi = df_roi.withColumn(\"1_day_roi\", twitter_udf.calc_roi(F.col(\"close_1_day_before\"), F.col(\"close\")))\n",
    "df_roi = df_roi.withColumn(\"2_day_roi\", twitter_udf.calc_roi(F.col(\"close_2_day_before\"), F.col(\"close\")))\n",
    "df_roi = df_roi.withColumn(\"3_day_roi\", twitter_udf.calc_roi(F.col(\"close_3_day_before\"), F.col(\"close\")))\n",
    "df_roi = df_roi.withColumn(\"4_day_roi\", twitter_udf.calc_roi(F.col(\"close_4_day_before\"), F.col(\"close\")))\n",
    "df_roi = df_roi.withColumn(\"5_day_roi\", twitter_udf.calc_roi(F.col(\"close_5_day_before\"), F.col(\"close\")))\n",
    "\n",
    "df_roi.createOrReplaceTempView(\"eod_ticker\")"
   ]
  },
  {
   "cell_type": "code",
   "execution_count": 75,
   "metadata": {},
   "outputs": [],
   "source": [
    "df_limit = spark.sql(\"\"\"SELECT * from eod_ticker order by ticker limit 10\"\"\")"
   ]
  },
  {
   "cell_type": "code",
   "execution_count": 76,
   "metadata": {},
   "outputs": [
    {
     "data": {
      "text/html": [
       "<div>\n",
       "<style scoped>\n",
       "    .dataframe tbody tr th:only-of-type {\n",
       "        vertical-align: middle;\n",
       "    }\n",
       "\n",
       "    .dataframe tbody tr th {\n",
       "        vertical-align: top;\n",
       "    }\n",
       "\n",
       "    .dataframe thead th {\n",
       "        text-align: right;\n",
       "    }\n",
       "</style>\n",
       "<table border=\"1\" class=\"dataframe\">\n",
       "  <thead>\n",
       "    <tr style=\"text-align: right;\">\n",
       "      <th></th>\n",
       "      <th>ticker</th>\n",
       "      <th>date</th>\n",
       "      <th>close</th>\n",
       "      <th>close_1_day_before</th>\n",
       "      <th>close_2_day_before</th>\n",
       "      <th>close_3_day_before</th>\n",
       "      <th>close_4_day_before</th>\n",
       "      <th>close_5_day_before</th>\n",
       "      <th>1_day_roi</th>\n",
       "      <th>2_day_roi</th>\n",
       "      <th>3_day_roi</th>\n",
       "      <th>4_day_roi</th>\n",
       "      <th>5_day_roi</th>\n",
       "    </tr>\n",
       "  </thead>\n",
       "  <tbody>\n",
       "    <tr>\n",
       "      <th>0</th>\n",
       "      <td>A</td>\n",
       "      <td>2009-01-14</td>\n",
       "      <td>18.450001</td>\n",
       "      <td>19.059999</td>\n",
       "      <td>18.520000</td>\n",
       "      <td>18.520000</td>\n",
       "      <td>18.35</td>\n",
       "      <td>18.230000</td>\n",
       "      <td>-0.032004</td>\n",
       "      <td>-0.003780</td>\n",
       "      <td>-0.003780</td>\n",
       "      <td>0.005450</td>\n",
       "      <td>0.012068</td>\n",
       "    </tr>\n",
       "    <tr>\n",
       "      <th>1</th>\n",
       "      <td>A</td>\n",
       "      <td>2009-01-08</td>\n",
       "      <td>18.350000</td>\n",
       "      <td>18.230000</td>\n",
       "      <td>18.129999</td>\n",
       "      <td>16.790001</td>\n",
       "      <td>16.24</td>\n",
       "      <td>NaN</td>\n",
       "      <td>0.006583</td>\n",
       "      <td>0.012135</td>\n",
       "      <td>0.092912</td>\n",
       "      <td>0.129926</td>\n",
       "      <td>NaN</td>\n",
       "    </tr>\n",
       "    <tr>\n",
       "      <th>2</th>\n",
       "      <td>A</td>\n",
       "      <td>2009-01-13</td>\n",
       "      <td>19.059999</td>\n",
       "      <td>18.520000</td>\n",
       "      <td>18.520000</td>\n",
       "      <td>18.350000</td>\n",
       "      <td>18.23</td>\n",
       "      <td>18.129999</td>\n",
       "      <td>0.029158</td>\n",
       "      <td>0.029158</td>\n",
       "      <td>0.038692</td>\n",
       "      <td>0.045529</td>\n",
       "      <td>0.051296</td>\n",
       "    </tr>\n",
       "    <tr>\n",
       "      <th>3</th>\n",
       "      <td>A</td>\n",
       "      <td>2009-01-06</td>\n",
       "      <td>18.129999</td>\n",
       "      <td>16.790001</td>\n",
       "      <td>16.240000</td>\n",
       "      <td>NaN</td>\n",
       "      <td>NaN</td>\n",
       "      <td>NaN</td>\n",
       "      <td>0.079809</td>\n",
       "      <td>0.116379</td>\n",
       "      <td>NaN</td>\n",
       "      <td>NaN</td>\n",
       "      <td>NaN</td>\n",
       "    </tr>\n",
       "    <tr>\n",
       "      <th>4</th>\n",
       "      <td>A</td>\n",
       "      <td>2009-01-07</td>\n",
       "      <td>18.230000</td>\n",
       "      <td>18.129999</td>\n",
       "      <td>16.790001</td>\n",
       "      <td>16.240000</td>\n",
       "      <td>NaN</td>\n",
       "      <td>NaN</td>\n",
       "      <td>0.005516</td>\n",
       "      <td>0.085765</td>\n",
       "      <td>0.122537</td>\n",
       "      <td>NaN</td>\n",
       "      <td>NaN</td>\n",
       "    </tr>\n",
       "  </tbody>\n",
       "</table>\n",
       "</div>"
      ],
      "text/plain": [
       "  ticker        date      close  close_1_day_before  close_2_day_before  close_3_day_before  close_4_day_before  close_5_day_before  1_day_roi  2_day_roi  3_day_roi  4_day_roi  5_day_roi\n",
       "0      A  2009-01-14  18.450001           19.059999           18.520000           18.520000               18.35           18.230000  -0.032004  -0.003780  -0.003780   0.005450   0.012068\n",
       "1      A  2009-01-08  18.350000           18.230000           18.129999           16.790001               16.24                 NaN   0.006583   0.012135   0.092912   0.129926        NaN\n",
       "2      A  2009-01-13  19.059999           18.520000           18.520000           18.350000               18.23           18.129999   0.029158   0.029158   0.038692   0.045529   0.051296\n",
       "3      A  2009-01-06  18.129999           16.790001           16.240000                 NaN                 NaN                 NaN   0.079809   0.116379        NaN        NaN        NaN\n",
       "4      A  2009-01-07  18.230000           18.129999           16.790001           16.240000                 NaN                 NaN   0.005516   0.085765   0.122537        NaN        NaN"
      ]
     },
     "execution_count": 76,
     "metadata": {},
     "output_type": "execute_result"
    }
   ],
   "source": [
    "df_limit.toPandas().head()"
   ]
  },
  {
   "cell_type": "code",
   "execution_count": 77,
   "metadata": {},
   "outputs": [
    {
     "data": {
      "text/plain": [
       "20011018"
      ]
     },
     "execution_count": 77,
     "metadata": {},
     "output_type": "execute_result"
    }
   ],
   "source": [
    "df_sma = df_roi\n",
    "sma_num = [5, 10, 15, 20, 50, 100, 200]\n",
    "\n",
    "df_sma = df_sma.withColumn('days_from_epoch', twitter_udf.get_days_from_epoch(F.col(\"date\")))\n",
    "\n",
    "for i in sma_num:\n",
    "    rolling_ticker = Window.partitionBy(\"ticker\").orderBy(\"days_from_epoch\").rangeBetween(-(i + 1), -1)\n",
    "    col_new = f\"SMA_{i}\"\n",
    "    df_sma = df_sma.withColumn(col_new, F.avg(F.col(\"close\")).over(rolling_ticker))\n",
    "    cols_to_save.append(col_new)\n",
    "\n",
    "df_std.persist()\n",
    "df_sma.count()"
   ]
  },
  {
   "cell_type": "code",
   "execution_count": 78,
   "metadata": {},
   "outputs": [
    {
     "data": {
      "text/plain": [
       "20011018"
      ]
     },
     "execution_count": 78,
     "metadata": {},
     "output_type": "execute_result"
    }
   ],
   "source": [
    "df_std = df_sma\n",
    "\n",
    "std_rolling = 100\n",
    "rolling_ticker = Window.partitionBy(\"ticker\").orderBy(\"days_from_epoch\").rangeBetween(-(std_rolling + 1), -1)\n",
    "col_new = f\"STD_{std_rolling}\"\n",
    "df_std = df_std.withColumn(col_new, F.stddev(F.col(\"close\")).over(ticker_window))\n",
    "\n",
    "df_std.persist()\n",
    "df_std.count()"
   ]
  },
  {
   "cell_type": "code",
   "execution_count": 79,
   "metadata": {},
   "outputs": [],
   "source": [
    "df_std.write.format(\"parquet\").mode(\"overwrite\").save(str(constants.STOCK_AGG_DATAFILE))"
   ]
  },
  {
   "cell_type": "code",
   "execution_count": null,
   "metadata": {},
   "outputs": [],
   "source": []
  }
 ],
 "metadata": {
  "kernelspec": {
   "display_name": "Python 3",
   "language": "python",
   "name": "python3"
  },
  "language_info": {
   "codemirror_mode": {
    "name": "ipython",
    "version": 3
   },
   "file_extension": ".py",
   "mimetype": "text/x-python",
   "name": "python",
   "nbconvert_exporter": "python",
   "pygments_lexer": "ipython3",
   "version": "3.7.9"
  }
 },
 "nbformat": 4,
 "nbformat_minor": 1
}