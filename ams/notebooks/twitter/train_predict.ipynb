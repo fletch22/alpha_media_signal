{
 "cells": [
  {
   "cell_type": "code",
   "execution_count": 1,
   "metadata": {
    "pycharm": {
     "name": "#%%\n"
    }
   },
   "outputs": [],
   "source": [
    "%load_ext autoreload\n",
    "%autoreload 2\n",
    "import gc\n",
    "import sys\n",
    "from datetime import datetime\n",
    "\n",
    "gc.collect()\n",
    "\n",
    "paths_to_add = ['/home/jovyan/work', '/home/jupyter/alpha_media_signal']\n",
    "\n",
    "for p in paths_to_add:\n",
    "    if p not in sys.path:\n",
    "        sys.path.append(p)\n",
    "\n",
    "import pandas as pd\n",
    "\n",
    "%matplotlib inline\n",
    "\n",
    "from pathlib import Path\n",
    "\n",
    "from ams.config import constants, logger_factory\n",
    "from ams.services import twitter_service\n",
    "from ams.services import ticker_service\n",
    "\n",
    "from ams.notebooks.twitter.twitter_ml_utils import WorkflowMode, get_data_for_predictions\n",
    "from ams.notebooks.twitter import twitter_ml_utils\n",
    "from ams.utils import date_utils\n",
    "\n",
    "pd.set_option('display.max_rows', 5000)\n",
    "pd.set_option('display.max_columns', 500)\n",
    "pd.set_option('display.width', 1000)\n",
    "\n",
    "logger = logger_factory.create(__name__)"
   ]
  },
  {
   "cell_type": "code",
   "execution_count": 2,
   "metadata": {
    "pycharm": {
     "name": "#%%\n"
    }
   },
   "outputs": [
    {
     "name": "stdout",
     "output_type": "stream",
     "text": [
      "2021-01-17 10:05:57,818 - __main__ - INFO - Filtering twitter data to on or before '2020-08-20'.\n"
     ]
    }
   ],
   "source": [
    "overall_roi = None\n",
    "\n",
    "df_rec_quart_drop = None\n",
    "def get_quarterly_data():\n",
    "    global df_rec_quart_drop\n",
    "    if df_rec_quart_drop is None:\n",
    "        df_rec_quart_drop = twitter_service.get_all_quarterly_data_for_twitter()\n",
    "    return df_rec_quart_drop.copy()\n",
    "\n",
    "overall_roi = []\n",
    "# today_dt_str = date_utils.get_standard_ymd_format(datetime.now())\n",
    "learning_prep_dir = Path(constants.TWITTER_GREAT_REDUCTION_DIR, \"main\")\n",
    "df_tweets = twitter_ml_utils.load_twitter_raw(learning_prep_dir=learning_prep_dir)\n",
    "# df_tweets = df_tweets.sample(frac=.25)\n",
    "\n",
    "start_date = \"2020-08-16\"\n",
    "days_after_start = 4\n",
    "predict_date_str = twitter_ml_utils.get_next_market_date(start_date, days_after_start)\n",
    "num_hold_days = 1\n",
    "\n",
    "cat_uniques = None\n",
    "model_xgb = None\n",
    "workflow_mode = WorkflowMode.Training\n",
    "\n",
    "dt = date_utils.parse_std_datestring(predict_date_str)\n",
    "if date_utils.is_stock_market_closed(dt):\n",
    "    logger.info(\"No can do. Market closed.\")\n",
    "\n",
    "logger.info(f\"Filtering twitter data to on or before '{predict_date_str}'.\")\n",
    "df_tweets = df_tweets[df_tweets[\"date\"] <= predict_date_str]"
   ]
  },
  {
   "cell_type": "code",
   "execution_count": 3,
   "metadata": {
    "pycharm": {
     "name": "#%%\n"
    }
   },
   "outputs": [
    {
     "name": "stdout",
     "output_type": "stream",
     "text": [
      "2021-01-17 10:05:58,019 - __main__ - INFO - Max date: 2020-08-20\n",
      "2021-01-17 10:05:58,020 - __main__ - INFO - Num tweet records: 18,733\n"
     ]
    },
    {
     "data": {
      "image/png": "[encoded data removed]",
      "text/plain": [
       "<Figure size 720x360 with 1 Axes>"
      ]
     },
     "metadata": {
      "needs_background": "light"
     },
     "output_type": "display_data"
    }
   ],
   "source": [
    "if df_tweets.shape[0] == 0:\n",
    "    logger.info(f\"No twitter data on {predict_date_str}\")\n",
    "\n",
    "logger.info(f\"Max date: {df_tweets['date'].max()}\")\n",
    "logger.info(f\"Num tweet records: {df_tweets.shape[0]:,}\")\n",
    "\n",
    "twitter_ml_utils.show_distribution(df=df_tweets)"
   ]
  },
  {
   "cell_type": "code",
   "execution_count": 4,
   "metadata": {
    "pycharm": {
     "name": "#%%\n"
    },
    "scrolled": true
   },
   "outputs": [
    {
     "name": "stdout",
     "output_type": "stream",
     "text": [
      "2021-01-17 10:05:58,289 - __main__ - INFO - Converting twitter data - phase I ...\n",
      "2021-01-17 10:05:58,550 - __main__ - INFO - Getting Twitter stock data ...\n",
      "2021-01-17 10:05:58,557 - __main__ - INFO - Num df_stock_tweets: 17034\n",
      "2021-01-17 10:06:26,739 - __main__ - INFO - Num Twitter stock data records: 10203\n"
     ]
    }
   ],
   "source": [
    "logger.info(\"Converting twitter data - phase I ...\")\n",
    "df_booled = twitter_service.convert_to_bool(df=df_tweets)\n",
    "df_twitter = twitter_ml_utils.convert_twitter_to_numeric(df=df_booled)\n",
    "\n",
    "logger.info(\"Getting Twitter stock data ...\")\n",
    "df_stock_tweets = df_tweets[df_tweets[\"date\"] < predict_date_str]\n",
    "logger.info(f\"Num df_stock_tweets: {df_stock_tweets.shape[0]}\")\n",
    "df_stock_data = twitter_ml_utils.get_twitter_stock_data_2(df_tweets=df_stock_tweets,\n",
    "                                                        num_hold_days=num_hold_days)\n",
    "\n",
    "logger.info(f\"Num Twitter stock data records: {df_stock_data.shape[0]}\")\n",
    "df_tmp = df_stock_data.sort_values(by=[\"date\"], ascending=False)"
   ]
  },
  {
   "cell_type": "code",
   "execution_count": 5,
   "metadata": {
    "pycharm": {
     "name": "#%%\n"
    },
    "scrolled": true
   },
   "outputs": [
    {
     "name": "stdout",
     "output_type": "stream",
     "text": [
      "2020-08-19\n",
      "Num pred tickers: 1699\n",
      "2021-01-17 10:06:35,105 - __main__ - INFO - Num futured: 11902\n"
     ]
    }
   ],
   "source": [
    "# Select all the rows df_twitter records on predicted_date_str, get a unique list of tickers\n",
    "print(df_stock_data[\"date\"].max())\n",
    "prediction_tickers = list(df_twitter[df_twitter[\"date\"] == predict_date_str][\"f22_ticker\"].unique())\n",
    "print(f\"Num pred tickers: {len(prediction_tickers)}\")\n",
    "\n",
    "future_date = twitter_ml_utils.get_next_market_date(predict_date_str, num_hold_days)\n",
    "\n",
    "rows = []\n",
    "attributes = (\"volume\", \"close\")\n",
    "for t in prediction_tickers:\n",
    "    prev_volume, prev_close = ticker_service.get_most_recent_stock_values(ticker=t, attributes=attributes)\n",
    "    rows.append({\"ticker\": t, \"date\": predict_date_str, \"future_date\": future_date,\n",
    "                 \"prev_volume\": prev_volume, \"prev_close\": prev_close\n",
    "                })\n",
    "    \n",
    "df_stock_predict_data = pd.DataFrame(rows)\n",
    "df_sd_futured = pd.concat([df_stock_data, df_stock_predict_data], axis=0)\n",
    "logger.info(f\"Num futured: {df_sd_futured.shape[0]}\")"
   ]
  },
  {
   "cell_type": "code",
   "execution_count": 6,
   "metadata": {
    "pycharm": {
     "name": "#%%\n"
    }
   },
   "outputs": [
    {
     "name": "stdout",
     "output_type": "stream",
     "text": [
      "2021-01-17 10:06:35,178 - __main__ - INFO - Getting Twitter stock quarterly data ...\n",
      "2021-01-17 10:06:49,006 - __main__ - INFO - Finished merging in quarterly stock data.\n"
     ]
    }
   ],
   "source": [
    "logger.info(\"Getting Twitter stock quarterly data ...\")\n",
    "df_rec_quart_drop = get_quarterly_data()\n",
    "columns_fundy = list(df_rec_quart_drop.columns)\n",
    "df_result = twitter_ml_utils.merge_fundies_with_stock(df_stock_data=df_sd_futured)\n",
    "df_drop_init = df_result.dropna(subset=[\"date\"]).drop(columns=\"lastupdated_eq_fun\")\n",
    "df_drop_future = df_drop_init[df_drop_init[\"date\"] > df_drop_init[\"calendardate\"]]\n",
    "df_drop_future = df_drop_future.sort_values(by=[\"ticker\", \"date\", \"calendardate\"], ascending=False)\n",
    "df_stock_and_quarter = df_drop_future.drop_duplicates(subset=[\"ticker\", \"date\"], keep=\"first\")\n",
    "logger.info(\"Finished merging in quarterly stock data.\")"
   ]
  },
  {
   "cell_type": "code",
   "execution_count": 7,
   "metadata": {
    "pycharm": {
     "name": "#%%\n"
    }
   },
   "outputs": [
    {
     "name": "stderr",
     "output_type": "stream",
     "text": [
      "c:\\programdata\\miniconda3\\envs\\alpha_media_signal\\lib\\site-packages\\pandas\\core\\indexing.py:1763: SettingWithCopyWarning: \n",
      "A value is trying to be set on a copy of a slice from a DataFrame.\n",
      "Try using .loc[row_indexer,col_indexer] = value instead\n",
      "\n",
      "See the caveats in the documentation: https://pandas.pydata.org/pandas-docs/stable/user_guide/indexing.html#returning-a-view-versus-a-copy\n",
      "  isetter(loc, value)\n",
      "c:\\programdata\\miniconda3\\envs\\alpha_media_signal\\lib\\site-packages\\pandas\\core\\indexing.py:1743: SettingWithCopyWarning: \n",
      "A value is trying to be set on a copy of a slice from a DataFrame.\n",
      "Try using .loc[row_indexer,col_indexer] = value instead\n",
      "\n",
      "See the caveats in the documentation: https://pandas.pydata.org/pandas-docs/stable/user_guide/indexing.html#returning-a-view-versus-a-copy\n",
      "  isetter(ilocs[0], value)\n"
     ]
    },
    {
     "name": "stdout",
     "output_type": "stream",
     "text": [
      "Num merged: 21182\n"
     ]
    }
   ],
   "source": [
    "df_nas_tickers_info, cat_uniques = ticker_service.get_nasdaq_tickers(cat_uniques=cat_uniques)\n",
    "\n",
    "col_ticker = \"ticker_drop\"\n",
    "\n",
    "df_stock_quart_info = pd.merge(df_stock_and_quarter, df_nas_tickers_info, how='inner', left_on=[\"ticker\"], right_on=[col_ticker])\n",
    "df_sqi = df_stock_quart_info.drop(columns=[col_ticker])\n",
    "\n",
    "df_stock_renamed = df_sqi.rename(columns={\"ticker\": \"f22_ticker\"})\n",
    "\n",
    "if 'None' in df_stock_renamed.columns:\n",
    "    df_stock_renamed = df_stock_renamed.drop(columns=['None'])\n",
    "\n",
    "df_merged = pd.merge(df_twitter, df_stock_renamed, how='inner', left_on=[\"f22_ticker\", \"date\"], right_on=[\"f22_ticker\", \"date\"])\n",
    "\n",
    "if df_merged.shape[0] == 0:\n",
    "    logger.info(\"Not enough data after merge.\")\n",
    "else: \n",
    "    print(f\"Num merged: {df_merged.shape[0]}\")"
   ]
  },
  {
   "cell_type": "code",
   "execution_count": 8,
   "metadata": {
    "pycharm": {
     "name": "#%%\n"
    }
   },
   "outputs": [
    {
     "name": "stdout",
     "output_type": "stream",
     "text": [
      "Num rows in play: 21182\n",
      "2021-01-17 10:06:52,613 - __main__ - INFO - Num df_dd: 10591\n"
     ]
    }
   ],
   "source": [
    "df_days = twitter_ml_utils.add_days_since_quarter_results(df=df_merged)\n",
    "\n",
    "df_days_of = twitter_ml_utils.add_calendar_days(df=df_days)\n",
    "\n",
    "df_dd = twitter_ml_utils.add_nasdaq_roi_new(df=df_days_of, num_hold_days=num_hold_days)\n",
    "\n",
    "# FIXME: 2021-01-15: chris.flesche: \"close\" should be approximated for when predicting\n",
    "df_dd.loc[:, \"original_close_price\"] = df_dd[\"close\"]\n",
    "df_dd[\"date\"].max()\n",
    "logger.info(f'Num df_dd: {df_dd.shape[0]}')\n",
    "\n",
    "# # NOTE: 2021-01-03: chris.flesche: For NLP\n",
    "# # save_twitter_stock_join(df=df_thin_rabbit)"
   ]
  },
  {
   "cell_type": "code",
   "execution_count": 9,
   "metadata": {
    "pycharm": {
     "name": "#%%\n"
    }
   },
   "outputs": [
    {
     "name": "stdout",
     "output_type": "stream",
     "text": [
      "num df_tweet_counted: 10528\n"
     ]
    }
   ],
   "source": [
    "cols_fundy_numeric = list(set(columns_fundy) - {\"ticker\", 'calendardate', 'datekey', 'reportperiod'})\n",
    "\n",
    "df_no_z = twitter_service.fill_null_numeric(df=df_dd, cols_fundy_numeric=cols_fundy_numeric)\n",
    "\n",
    "df_since_sma = twitter_ml_utils.add_sma_stuff(df=df_no_z)\n",
    "\n",
    "df_since_sma[\"purchase_date\"] = df_since_sma[\"date\"]\n",
    "\n",
    "df_days_until = ticker_service.add_days_until_sale(df=df_since_sma)\n",
    "\n",
    "df = twitter_service.refine_pool(df=df_days_until, min_volume=None, min_price=None, max_price=None)\n",
    "df = twitter_service.omit_columns(df=df)\n",
    "df_tweet_counted = twitter_service.add_tweet_count(df=df).drop(columns=[\"calendardate\", \"reportperiod\", \"dimension\", \"datekey\"])\n",
    "print(f\"num df_tweet_counted: {df_tweet_counted.shape[0]}\")"
   ]
  },
  {
   "cell_type": "code",
   "execution_count": 10,
   "metadata": {
    "pycharm": {
     "name": "#%%\n"
    }
   },
   "outputs": [
    {
     "data": {
      "text/html": [
       "<div>\n",
       "<style scoped>\n",
       "    .dataframe tbody tr th:only-of-type {\n",
       "        vertical-align: middle;\n",
       "    }\n",
       "\n",
       "    .dataframe tbody tr th {\n",
       "        vertical-align: top;\n",
       "    }\n",
       "\n",
       "    .dataframe thead th {\n",
       "        text-align: right;\n",
       "    }\n",
       "</style>\n",
       "<table border=\"1\" class=\"dataframe\">\n",
       "  <thead>\n",
       "    <tr style=\"text-align: right;\">\n",
       "      <th></th>\n",
       "      <th>f22_ticker</th>\n",
       "      <th>original_close_price</th>\n",
       "      <th>future_date</th>\n",
       "      <th>future_close</th>\n",
       "      <th>pe</th>\n",
       "    </tr>\n",
       "  </thead>\n",
       "  <tbody>\n",
       "    <tr>\n",
       "      <th>9351</th>\n",
       "      <td>AAL</td>\n",
       "      <td>NaN</td>\n",
       "      <td>2020-08-21</td>\n",
       "      <td>NaN</td>\n",
       "      <td>-1.726</td>\n",
       "    </tr>\n",
       "    <tr>\n",
       "      <th>9352</th>\n",
       "      <td>AAME</td>\n",
       "      <td>NaN</td>\n",
       "      <td>2020-08-21</td>\n",
       "      <td>NaN</td>\n",
       "      <td>-18.720</td>\n",
       "    </tr>\n",
       "    <tr>\n",
       "      <th>9353</th>\n",
       "      <td>AAOI</td>\n",
       "      <td>NaN</td>\n",
       "      <td>2020-08-21</td>\n",
       "      <td>NaN</td>\n",
       "      <td>-4.306</td>\n",
       "    </tr>\n",
       "    <tr>\n",
       "      <th>9355</th>\n",
       "      <td>AAON</td>\n",
       "      <td>NaN</td>\n",
       "      <td>2020-08-21</td>\n",
       "      <td>NaN</td>\n",
       "      <td>42.799</td>\n",
       "    </tr>\n",
       "    <tr>\n",
       "      <th>9356</th>\n",
       "      <td>AAPL</td>\n",
       "      <td>NaN</td>\n",
       "      <td>2020-08-21</td>\n",
       "      <td>NaN</td>\n",
       "      <td>31.106</td>\n",
       "    </tr>\n",
       "  </tbody>\n",
       "</table>\n",
       "</div>"
      ],
      "text/plain": [
       "     f22_ticker  original_close_price future_date  future_close      pe\n",
       "9351        AAL                   NaN  2020-08-21           NaN  -1.726\n",
       "9352       AAME                   NaN  2020-08-21           NaN -18.720\n",
       "9353       AAOI                   NaN  2020-08-21           NaN  -4.306\n",
       "9355       AAON                   NaN  2020-08-21           NaN  42.799\n",
       "9356       AAPL                   NaN  2020-08-21           NaN  31.106"
      ]
     },
     "execution_count": 10,
     "metadata": {},
     "output_type": "execute_result"
    }
   ],
   "source": [
    "df_tmp = df_tweet_counted[df_tweet_counted[\"date\"] == predict_date_str]\n",
    "df_tmp[[\"f22_ticker\", \"original_close_price\", \"future_date\", \"future_close\", \"pe\"]].head()"
   ]
  },
  {
   "cell_type": "code",
   "execution_count": 11,
   "metadata": {
    "pycharm": {
     "name": "#%%\n"
    }
   },
   "outputs": [
    {
     "name": "stdout",
     "output_type": "stream",
     "text": [
      "num df_ranked: 10528\n",
      "cols: True\n",
      "2020-08-20\n",
      "         date\n",
      "0  2020-08-11\n",
      "1  2020-08-12\n",
      "2  2020-08-13\n",
      "3  2020-08-14\n",
      "4  2020-08-17\n",
      "         date\n",
      "0  2020-08-11\n",
      "1  2020-08-12\n",
      "2  2020-08-13\n",
      "3  2020-08-14\n",
      "4  2020-08-17\n",
      "cat_uniques is not used.\n",
      "Number of train_hotted 10528.\n",
      "2020-08-20\n",
      "Number of df_th_train 9301.\n",
      "2021-01-17 10:08:01,243 - __main__ - INFO - Num rows of train data: 9301\n",
      "2021-01-17 10:08:01,244 - __main__ - INFO - Num rows of predict data: 1227\n",
      "2021-01-17 10:08:01,247 - __main__ - INFO - Oldest date of prepared data (future_date): 2020-08-20\n",
      "2021-01-17 10:08:01,248 - __main__ - INFO - Num unique tickers: 2131\n"
     ]
    },
    {
     "name": "stderr",
     "output_type": "stream",
     "text": [
      "c:\\programdata\\miniconda3\\envs\\alpha_media_signal\\lib\\site-packages\\pandas\\core\\indexing.py:1596: SettingWithCopyWarning: \n",
      "A value is trying to be set on a copy of a slice from a DataFrame.\n",
      "Try using .loc[row_indexer,col_indexer] = value instead\n",
      "\n",
      "See the caveats in the documentation: https://pandas.pydata.org/pandas-docs/stable/user_guide/indexing.html#returning-a-view-versus-a-copy\n",
      "  self.obj[key] = _infer_fill_value(value)\n",
      "c:\\programdata\\miniconda3\\envs\\alpha_media_signal\\lib\\site-packages\\pandas\\core\\indexing.py:1743: SettingWithCopyWarning: \n",
      "A value is trying to be set on a copy of a slice from a DataFrame.\n",
      "Try using .loc[row_indexer,col_indexer] = value instead\n",
      "\n",
      "See the caveats in the documentation: https://pandas.pydata.org/pandas-docs/stable/user_guide/indexing.html#returning-a-view-versus-a-copy\n",
      "  isetter(ilocs[0], value)\n"
     ]
    }
   ],
   "source": [
    "# NOTE: 2021-01-03: chris.flesche:\n",
    "# df_winnowed = twitter_ml_utils.truncate_avail_columns(df=df_tweet_counted)\n",
    "\n",
    "df_ranked = twitter_ml_utils.add_tip_ranks(df=df_tweet_counted, tr_file_path=constants.TIP_RANKED_DATA_PATH)\n",
    "print(f\"num df_ranked: {df_ranked.shape[0]}\")\n",
    "print(f\"cols: {'date' in df_ranked.columns}\")\n",
    "print(predict_date_str)\n",
    "print(df_ranked[['date']].head())\n",
    "\n",
    "df_tmp = df_ranked[df_ranked['date'] < predict_date_str].copy()\n",
    "print(df_tmp[['date']].head())\n",
    "\n",
    "df_ranked[df_ranked[\"date\"] < predict_date_str]\n",
    "\n",
    "df_ticker_hotted, unique_tickers = ticker_service.make_f22_ticker_one_hotted(df_ranked=df_ranked, cat_uniques=cat_uniques)\n",
    "cat_uniques[\"f22_ticker\"] = unique_tickers\n",
    "\n",
    "narrow_cols = list(df_ticker_hotted.columns)\n",
    "\n",
    "print(f\"Number of train_hotted {df_ticker_hotted.shape[0]}.\")\n",
    "\n",
    "dates = df_ticker_hotted[\"date\"].to_list()\n",
    "prediction_date_str = predict_date_str #dates[-1]\n",
    "print(predict_date_str)\n",
    "\n",
    "df_th_train = df_ticker_hotted[df_ticker_hotted[\"date\"] < prediction_date_str]\n",
    "print(f\"Number of df_th_train {df_th_train.shape[0]}.\")\n",
    "df_train = twitter_service.add_buy_sell(df=df_th_train)\n",
    "\n",
    "df_predict = df_ticker_hotted[df_ticker_hotted[\"date\"] == prediction_date_str]\n",
    "\n",
    "logger.info(f\"Num rows of train data: {df_train.shape[0]}\")\n",
    "logger.info(f\"Num rows of predict data: {df_predict.shape[0]}\")\n",
    "logger.info(f\"Oldest date of prepared data (future_date): {df_train['future_date'].max()}\")\n",
    "logger.info(f\"Num unique tickers: {len(cat_uniques['f22_ticker'])}\")"
   ]
  },
  {
   "cell_type": "code",
   "execution_count": 12,
   "metadata": {
    "pycharm": {
     "name": "#%%\n"
    }
   },
   "outputs": [
    {
     "name": "stderr",
     "output_type": "stream",
     "text": [
      "c:\\programdata\\miniconda3\\envs\\alpha_media_signal\\lib\\site-packages\\sklearn\\utils\\extmath.py:770: RuntimeWarning: invalid value encountered in true_divide\n",
      "  updated_mean = (last_sum + new_sum) / updated_sample_count\n",
      "c:\\programdata\\miniconda3\\envs\\alpha_media_signal\\lib\\site-packages\\sklearn\\utils\\extmath.py:711: RuntimeWarning: Degrees of freedom <= 0 for slice.\n",
      "  result = op(x, *args, **kwargs)\n"
     ]
    },
    {
     "name": "stdout",
     "output_type": "stream",
     "text": [
      "2021-01-17 10:08:09,518 - __main__ - INFO - Invoking model prediction ...\n"
     ]
    },
    {
     "name": "stderr",
     "output_type": "stream",
     "text": [
      "c:\\programdata\\miniconda3\\envs\\alpha_media_signal\\lib\\site-packages\\pandas\\core\\indexing.py:1596: SettingWithCopyWarning: \n",
      "A value is trying to be set on a copy of a slice from a DataFrame.\n",
      "Try using .loc[row_indexer,col_indexer] = value instead\n",
      "\n",
      "See the caveats in the documentation: https://pandas.pydata.org/pandas-docs/stable/user_guide/indexing.html#returning-a-view-versus-a-copy\n",
      "  self.obj[key] = _infer_fill_value(value)\n",
      "c:\\programdata\\miniconda3\\envs\\alpha_media_signal\\lib\\site-packages\\pandas\\core\\indexing.py:1743: SettingWithCopyWarning: \n",
      "A value is trying to be set on a copy of a slice from a DataFrame.\n",
      "Try using .loc[row_indexer,col_indexer] = value instead\n",
      "\n",
      "See the caveats in the documentation: https://pandas.pydata.org/pandas-docs/stable/user_guide/indexing.html#returning-a-view-versus-a-copy\n",
      "  isetter(ilocs[0], value)\n"
     ]
    }
   ],
   "source": [
    "import xgboost as xgb\n",
    "\n",
    "X_train, y_train, standard_scaler = twitter_ml_utils.transform_to_numpy(df=df_train, narrow_cols=narrow_cols)\n",
    "\n",
    "model = xgb.XGBClassifier(max_depth=4)\n",
    "model.fit(X_train, y_train)\n",
    "\n",
    "# df_predict_tmp = df_predict.copy()\n",
    "# df_predict_tmp.loc[: \"original_close_price\"] == 100.00\n",
    "\n",
    "X_predict = get_data_for_predictions(df=df_predict, narrow_cols=narrow_cols, standard_scaler=standard_scaler)\n",
    "\n",
    "logger.info(\"Invoking model prediction ...\")\n",
    "prediction = model.predict(X_predict)\n",
    "\n",
    "df_predict.loc[:, \"prediction\"] = prediction"
   ]
  },
  {
   "cell_type": "code",
   "execution_count": 13,
   "metadata": {
    "scrolled": false
   },
   "outputs": [
    {
     "name": "stdout",
     "output_type": "stream",
     "text": [
      "2766\n",
      "9301\n",
      "1227\n",
      "1207\n"
     ]
    },
    {
     "data": {
      "text/html": [
       "<div>\n",
       "<style scoped>\n",
       "    .dataframe tbody tr th:only-of-type {\n",
       "        vertical-align: middle;\n",
       "    }\n",
       "\n",
       "    .dataframe tbody tr th {\n",
       "        vertical-align: top;\n",
       "    }\n",
       "\n",
       "    .dataframe thead th {\n",
       "        text-align: right;\n",
       "    }\n",
       "</style>\n",
       "<table border=\"1\" class=\"dataframe\">\n",
       "  <thead>\n",
       "    <tr style=\"text-align: right;\">\n",
       "      <th></th>\n",
       "      <th>f22_ticker</th>\n",
       "      <th>prediction</th>\n",
       "      <th>future_date</th>\n",
       "    </tr>\n",
       "  </thead>\n",
       "  <tbody>\n",
       "    <tr>\n",
       "      <th>7</th>\n",
       "      <td>AAL</td>\n",
       "      <td>1</td>\n",
       "      <td>2020-08-21</td>\n",
       "    </tr>\n",
       "    <tr>\n",
       "      <th>10</th>\n",
       "      <td>AAME</td>\n",
       "      <td>1</td>\n",
       "      <td>2020-08-21</td>\n",
       "    </tr>\n",
       "    <tr>\n",
       "      <th>18</th>\n",
       "      <td>AAOI</td>\n",
       "      <td>1</td>\n",
       "      <td>2020-08-21</td>\n",
       "    </tr>\n",
       "    <tr>\n",
       "      <th>26</th>\n",
       "      <td>AAON</td>\n",
       "      <td>1</td>\n",
       "      <td>2020-08-21</td>\n",
       "    </tr>\n",
       "    <tr>\n",
       "      <th>34</th>\n",
       "      <td>AAPL</td>\n",
       "      <td>1</td>\n",
       "      <td>2020-08-21</td>\n",
       "    </tr>\n",
       "  </tbody>\n",
       "</table>\n",
       "</div>"
      ],
      "text/plain": [
       "   f22_ticker  prediction future_date\n",
       "7         AAL           1  2020-08-21\n",
       "10       AAME           1  2020-08-21\n",
       "18       AAOI           1  2020-08-21\n",
       "26       AAON           1  2020-08-21\n",
       "34       AAPL           1  2020-08-21"
      ]
     },
     "execution_count": 13,
     "metadata": {},
     "output_type": "execute_result"
    }
   ],
   "source": [
    "df_buy = df_predict[df_predict[\"prediction\"] == 1][[\"f22_ticker\", \"purchase_date\", \"future_date\"]]\n",
    "df_buy[\"num_hold_days\"] = num_hold_days\n",
    "df_buy[\"run_timestamp\"] = datetime.timestamp(datetime.now())\n",
    "\n",
    "print(len(df_train.columns))\n",
    "print(df_train.shape[0])\n",
    "print(df_predict.shape[0])\n",
    "print(df_buy.shape[0])\n",
    "df_predict[[\"f22_ticker\", \"prediction\", \"future_date\"]].head(5)"
   ]
  },
  {
   "cell_type": "code",
   "execution_count": 14,
   "metadata": {},
   "outputs": [
    {
     "name": "stdout",
     "output_type": "stream",
     "text": [
      "Num records for roi calc: 1207\n",
      "Num tickers: 1207 for 2020-08-20\n",
      "2020-08-20 roi: -0.0117\n",
      "Roi after 1 day: -0.011730161789108282\n",
      "Num records for roi calc: 1207\n",
      "Num tickers: 1207 for 2020-08-20\n",
      "2020-08-20 roi: -0.0147\n",
      "Roi after 5 days: -0.014745261374277127\n"
     ]
    }
   ],
   "source": [
    "from ams.machine_learning.twitter import pred_perf_testing\n",
    "\n",
    "nhd = 1  #num_hold_days\n",
    "\n",
    "days_roi_1 = pred_perf_testing.get_days_roi_from_prediction_table(df_preds=df_buy, date_str=prediction_date_str, num_hold_days=1)\n",
    "\n",
    "print(f\"Roi after 1 day: {days_roi_1}\")\n",
    "\n",
    "days_roi_5 = pred_perf_testing.get_days_roi_from_prediction_table(df_preds=df_buy, date_str=prediction_date_str, num_hold_days=5)\n",
    "\n",
    "print(f\"Roi after 5 days: {days_roi_5}\")"
   ]
  },
  {
   "cell_type": "code",
   "execution_count": 15,
   "metadata": {
    "scrolled": false
   },
   "outputs": [
    {
     "name": "stdout",
     "output_type": "stream",
     "text": [
      "roic\n",
      "nasdaq_day_roi\n",
      "rank_roi\n"
     ]
    }
   ],
   "source": [
    "for c in df_predict.columns:\n",
    "    if \"roi\" in c:\n",
    "        print(c)"
   ]
  },
  {
   "cell_type": "code",
   "execution_count": null,
   "metadata": {},
   "outputs": [],
   "source": []
  }
 ],
 "metadata": {
  "kernelspec": {
   "display_name": "Python 3",
   "language": "python",
   "name": "python3"
  },
  "language_info": {
   "codemirror_mode": {
    "name": "ipython",
    "version": 3
   },
   "file_extension": ".py",
   "mimetype": "text/x-python",
   "name": "python",
   "nbconvert_exporter": "python",
   "pygments_lexer": "ipython3",
   "version": "3.7.9"
  },
  "pycharm": {
   "stem_cell": {
    "cell_type": "raw",
    "metadata": {
     "collapsed": false
    },
    "source": []
   }
  }
 },
 "nbformat": 4,
 "nbformat_minor": 1
}
